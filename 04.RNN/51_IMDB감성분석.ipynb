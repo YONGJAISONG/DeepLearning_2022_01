{
  "nbformat": 4,
  "nbformat_minor": 0,
  "metadata": {
    "colab": {
      "name": "51.IMDB감성분석.ipynb",
      "provenance": []
    },
    "kernelspec": {
      "name": "python3",
      "display_name": "Python 3"
    },
    "language_info": {
      "name": "python"
    },
    "accelerator": "GPU"
  },
  "cells": [
    {
      "cell_type": "markdown",
      "source": [
        "# IMDB 영화 리뷰 감성 분석 - LSTM"
      ],
      "metadata": {
        "id": "mh-qA24I9ryU"
      }
    },
    {
      "cell_type": "code",
      "source": [
        "import numpy as np\n",
        "import matplotlib.pyplot as plt\n",
        "from tensorflow.keras.datasets import imdb\n",
        "import warnings\n",
        "warnings.filterwarnings('ignore')"
      ],
      "metadata": {
        "id": "nGkZ3YcT9ydP"
      },
      "execution_count": 1,
      "outputs": []
    },
    {
      "cell_type": "code",
      "source": [
        "(X_train, y_train), (X_test, y_test) = imdb.load_data()\n",
        "X_train.shape, X_test.shape, y_train.shape, y_test.shape\n",
        "\n",
        "# X_train 25000, validation 10000, X_test 15000건으로 진행"
      ],
      "metadata": {
        "colab": {
          "base_uri": "https://localhost:8080/"
        },
        "id": "kfw2XgF0-IHb",
        "outputId": "723435da-9f2c-41db-bbd3-f2168b9e97e4"
      },
      "execution_count": 2,
      "outputs": [
        {
          "output_type": "stream",
          "name": "stdout",
          "text": [
            "Downloading data from https://storage.googleapis.com/tensorflow/tf-keras-datasets/imdb.npz\n",
            "17465344/17464789 [==============================] - 0s 0us/step\n",
            "17473536/17464789 [==============================] - 0s 0us/step\n"
          ]
        },
        {
          "output_type": "execute_result",
          "data": {
            "text/plain": [
              "((25000,), (25000,), (25000,), (25000,))"
            ]
          },
          "metadata": {},
          "execution_count": 2
        }
      ]
    },
    {
      "cell_type": "code",
      "source": [
        "print('등장한 단어수', len(imdb.get_word_index()))\n",
        "print('리뷰 최대 길이', max(len(s) for s in X_train))\n",
        "print('리뷰 평균 길이', sum(map(len, X_train)) / len(X_train))"
      ],
      "metadata": {
        "colab": {
          "base_uri": "https://localhost:8080/"
        },
        "id": "JMirZ5gr-tTS",
        "outputId": "287a43d2-f514-4df6-f585-ef08175d4dc8"
      },
      "execution_count": 3,
      "outputs": [
        {
          "output_type": "stream",
          "name": "stdout",
          "text": [
            "Downloading data from https://storage.googleapis.com/tensorflow/tf-keras-datasets/imdb_word_index.json\n",
            "1646592/1641221 [==============================] - 0s 0us/step\n",
            "1654784/1641221 [==============================] - 0s 0us/step\n",
            "등장한 단어수 88584\n",
            "리뷰 최대 길이 2494\n",
            "리뷰 평균 길이 238.71364\n"
          ]
        }
      ]
    },
    {
      "cell_type": "markdown",
      "source": [
        "### LSTM으로 IMDB 리뷰 감성분석\n",
        "- 단어 빈도수 : 10,000 (최대 88584)\n",
        "- 문장의 단어수 : 500  (최대 2494)\n",
        "- test data중 40%(10000개)는 검증용으로"
      ],
      "metadata": {
        "id": "KzY31GlY_cjX"
      }
    },
    {
      "cell_type": "code",
      "source": [
        "import tensorflow as tf\n",
        "seed = 2022\n",
        "np.random.seed(seed)\n",
        "tf.random.set_seed(seed)"
      ],
      "metadata": {
        "id": "tDbTF-ZN_nDj"
      },
      "execution_count": 4,
      "outputs": []
    },
    {
      "cell_type": "code",
      "source": [
        "from tensorflow.keras.models import Sequential, load_model\n",
        "from tensorflow.keras.layers import Embedding, LSTM, Dense\n",
        "from tensorflow.keras.preprocessing.sequence import pad_sequences\n",
        "from tensorflow.keras.callbacks import ModelCheckpoint, EarlyStopping"
      ],
      "metadata": {
        "id": "rxfLQbotAuVX"
      },
      "execution_count": 5,
      "outputs": []
    },
    {
      "cell_type": "code",
      "source": [
        "(X_train, y_train), (X_test, y_test) = imdb.load_data(num_words = 10000)\n",
        "X_train.shape, X_test.shape, y_train.shape, y_test.shape"
      ],
      "metadata": {
        "colab": {
          "base_uri": "https://localhost:8080/"
        },
        "id": "E4HUX6cGAvpy",
        "outputId": "dfc37d7b-69e3-494f-e0ce-73f01b50dcc3"
      },
      "execution_count": 6,
      "outputs": [
        {
          "output_type": "execute_result",
          "data": {
            "text/plain": [
              "((25000,), (25000,), (25000,), (25000,))"
            ]
          },
          "metadata": {},
          "execution_count": 6
        }
      ]
    },
    {
      "cell_type": "code",
      "source": [
        "max_len = 500\n",
        "\n",
        "X_train = pad_sequences(X_train, maxlen=max_len)\n",
        "X_test = pad_sequences(X_test, maxlen=max_len)\n",
        "X_train.shape, X_test.shape"
      ],
      "metadata": {
        "colab": {
          "base_uri": "https://localhost:8080/"
        },
        "id": "TqBtT9jIBCPZ",
        "outputId": "702a9bfb-26da-4a84-b512-11a4790144cd"
      },
      "execution_count": 7,
      "outputs": [
        {
          "output_type": "execute_result",
          "data": {
            "text/plain": [
              "((25000, 500), (25000, 500))"
            ]
          },
          "metadata": {},
          "execution_count": 7
        }
      ]
    },
    {
      "cell_type": "code",
      "source": [
        "from sklearn.model_selection import train_test_split\n",
        "\n",
        "X_test, X_valid, y_test, y_valid = train_test_split(\n",
        "    X_test, y_test, stratify = y_test, test_size = 0.4, random_state=seed\n",
        ")\n",
        "X_test.shape, X_valid.shape, y_test.shape, y_valid.shape"
      ],
      "metadata": {
        "colab": {
          "base_uri": "https://localhost:8080/"
        },
        "id": "wK5mDZEYDBoz",
        "outputId": "039c3edb-81d4-466f-b804-6b0883b1fa12"
      },
      "execution_count": 8,
      "outputs": [
        {
          "output_type": "execute_result",
          "data": {
            "text/plain": [
              "((15000, 500), (10000, 500), (15000,), (10000,))"
            ]
          },
          "metadata": {},
          "execution_count": 8
        }
      ]
    },
    {
      "cell_type": "markdown",
      "source": [
        "- Case 1) LSTM\n",
        "    - embedding dim : 100\n",
        "    - hidden_units : 128"
      ],
      "metadata": {
        "id": "C7BGgmezBko3"
      }
    },
    {
      "cell_type": "code",
      "source": [
        "model1 = Sequential([\n",
        "                     Embedding(10000, 100, input_length = max_len),\n",
        "                     LSTM(128),\n",
        "                     Dense(1, activation = 'sigmoid')\n",
        "])\n",
        "model1.summary()"
      ],
      "metadata": {
        "colab": {
          "base_uri": "https://localhost:8080/"
        },
        "id": "M2x9CxhYBzvm",
        "outputId": "76088bd2-01da-4f6d-9885-a61431254757"
      },
      "execution_count": 9,
      "outputs": [
        {
          "output_type": "stream",
          "name": "stdout",
          "text": [
            "Model: \"sequential\"\n",
            "_________________________________________________________________\n",
            " Layer (type)                Output Shape              Param #   \n",
            "=================================================================\n",
            " embedding (Embedding)       (None, 500, 100)          1000000   \n",
            "                                                                 \n",
            " lstm (LSTM)                 (None, 128)               117248    \n",
            "                                                                 \n",
            " dense (Dense)               (None, 1)                 129       \n",
            "                                                                 \n",
            "=================================================================\n",
            "Total params: 1,117,377\n",
            "Trainable params: 1,117,377\n",
            "Non-trainable params: 0\n",
            "_________________________________________________________________\n"
          ]
        }
      ]
    },
    {
      "cell_type": "code",
      "source": [
        "model1.compile('adam', 'binary_crossentropy', ['accuracy'])\n",
        "\n",
        "model_path = 'best-imdb-lstm.h5'\n",
        "mc = ModelCheckpoint(model_path, save_best_only=True, verbose =1)\n",
        "es = EarlyStopping(patience = 5)"
      ],
      "metadata": {
        "id": "c7rnUVEqCO7H"
      },
      "execution_count": 10,
      "outputs": []
    },
    {
      "cell_type": "code",
      "source": [
        "hist1 = model1.fit(\n",
        "    X_train, y_train, epochs = 30, batch_size = 64,\n",
        "    validation_data = [X_valid, y_valid],\n",
        "    callbacks = [mc, es]\n",
        ")"
      ],
      "metadata": {
        "colab": {
          "base_uri": "https://localhost:8080/"
        },
        "id": "VvUAFyF9Cdjk",
        "outputId": "c9e2be7c-83ba-4bcf-fa14-04e68e982229"
      },
      "execution_count": 11,
      "outputs": [
        {
          "output_type": "stream",
          "name": "stdout",
          "text": [
            "Epoch 1/30\n",
            "390/391 [============================>.] - ETA: 0s - loss: 0.4978 - accuracy: 0.7486\n",
            "Epoch 00001: val_loss improved from inf to 0.34655, saving model to best-imdb-lstm.h5\n",
            "391/391 [==============================] - 27s 50ms/step - loss: 0.4976 - accuracy: 0.7488 - val_loss: 0.3465 - val_accuracy: 0.8519\n",
            "Epoch 2/30\n",
            "391/391 [==============================] - ETA: 0s - loss: 0.3121 - accuracy: 0.8766\n",
            "Epoch 00002: val_loss did not improve from 0.34655\n",
            "391/391 [==============================] - 13s 33ms/step - loss: 0.3121 - accuracy: 0.8766 - val_loss: 0.3563 - val_accuracy: 0.8465\n",
            "Epoch 3/30\n",
            "391/391 [==============================] - ETA: 0s - loss: 0.2976 - accuracy: 0.8706\n",
            "Epoch 00003: val_loss improved from 0.34655 to 0.33447, saving model to best-imdb-lstm.h5\n",
            "391/391 [==============================] - 13s 34ms/step - loss: 0.2976 - accuracy: 0.8706 - val_loss: 0.3345 - val_accuracy: 0.8647\n",
            "Epoch 4/30\n",
            "390/391 [============================>.] - ETA: 0s - loss: 0.1927 - accuracy: 0.9282\n",
            "Epoch 00004: val_loss did not improve from 0.33447\n",
            "391/391 [==============================] - 14s 35ms/step - loss: 0.1926 - accuracy: 0.9282 - val_loss: 0.3448 - val_accuracy: 0.8625\n",
            "Epoch 5/30\n",
            "391/391 [==============================] - ETA: 0s - loss: 0.1526 - accuracy: 0.9456\n",
            "Epoch 00005: val_loss did not improve from 0.33447\n",
            "391/391 [==============================] - 12s 31ms/step - loss: 0.1526 - accuracy: 0.9456 - val_loss: 0.3738 - val_accuracy: 0.8637\n",
            "Epoch 6/30\n",
            "390/391 [============================>.] - ETA: 0s - loss: 0.1288 - accuracy: 0.9547\n",
            "Epoch 00006: val_loss did not improve from 0.33447\n",
            "391/391 [==============================] - 12s 31ms/step - loss: 0.1289 - accuracy: 0.9547 - val_loss: 0.4271 - val_accuracy: 0.8605\n",
            "Epoch 7/30\n",
            "391/391 [==============================] - ETA: 0s - loss: 0.0986 - accuracy: 0.9657\n",
            "Epoch 00007: val_loss did not improve from 0.33447\n",
            "391/391 [==============================] - 13s 32ms/step - loss: 0.0986 - accuracy: 0.9657 - val_loss: 0.4725 - val_accuracy: 0.8550\n",
            "Epoch 8/30\n",
            "390/391 [============================>.] - ETA: 0s - loss: 0.1435 - accuracy: 0.9412\n",
            "Epoch 00008: val_loss did not improve from 0.33447\n",
            "391/391 [==============================] - 13s 34ms/step - loss: 0.1439 - accuracy: 0.9410 - val_loss: 0.5296 - val_accuracy: 0.7354\n"
          ]
        }
      ]
    },
    {
      "cell_type": "code",
      "source": [
        "best_model = load_model(model_path)\n",
        "best_model.evaluate(X_test, y_test)"
      ],
      "metadata": {
        "colab": {
          "base_uri": "https://localhost:8080/"
        },
        "id": "NbwdP2lRD3nz",
        "outputId": "21f4464a-45b0-4eef-b9fd-aee2ae3e5ab0"
      },
      "execution_count": 12,
      "outputs": [
        {
          "output_type": "stream",
          "name": "stdout",
          "text": [
            "469/469 [==============================] - 5s 10ms/step - loss: 0.3359 - accuracy: 0.8596\n"
          ]
        },
        {
          "output_type": "execute_result",
          "data": {
            "text/plain": [
              "[0.3358818590641022, 0.8596000075340271]"
            ]
          },
          "metadata": {},
          "execution_count": 12
        }
      ]
    }
  ]
}