{
  "nbformat": 4,
  "nbformat_minor": 0,
  "metadata": {
    "colab": {
      "name": "03.Pima-diabetes.ipynb",
      "provenance": [],
      "collapsed_sections": []
    },
    "kernelspec": {
      "name": "python3",
      "display_name": "Python 3"
    },
    "language_info": {
      "name": "python"
    }
  },
  "cells": [
    {
      "cell_type": "markdown",
      "source": [
        "# 피마 인디언 당뇨병 예측"
      ],
      "metadata": {
        "id": "JNFnq4wpuor4"
      }
    },
    {
      "cell_type": "code",
      "execution_count": 1,
      "metadata": {
        "colab": {
          "resources": {
            "http://localhost:8080/nbextensions/google.colab/files.js": {
              "data": "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",
              "ok": true,
              "headers": [
                [
                  "content-type",
                  "application/javascript"
                ]
              ],
              "status": 200,
              "status_text": ""
            }
          },
          "base_uri": "https://localhost:8080/",
          "height": 78
        },
        "id": "MJwekRzougM7",
        "outputId": "4c52c011-d8f1-4ccc-9332-c4d9effe4140"
      },
      "outputs": [
        {
          "output_type": "display_data",
          "data": {
            "text/html": [
              "\n",
              "     <input type=\"file\" id=\"files-2aaaa5d7-9e88-40e3-9b9c-6b5c6e1ff06f\" name=\"files[]\" multiple disabled\n",
              "        style=\"border:none\" />\n",
              "     <output id=\"result-2aaaa5d7-9e88-40e3-9b9c-6b5c6e1ff06f\">\n",
              "      Upload widget is only available when the cell has been executed in the\n",
              "      current browser session. Please rerun this cell to enable.\n",
              "      </output>\n",
              "      <script src=\"/nbextensions/google.colab/files.js\"></script> "
            ],
            "text/plain": [
              "<IPython.core.display.HTML object>"
            ]
          },
          "metadata": {}
        },
        {
          "output_type": "stream",
          "name": "stdout",
          "text": [
            "Saving pima-indians-diabetes.csv to pima-indians-diabetes.csv\n"
          ]
        }
      ],
      "source": [
        "from google.colab import files\n",
        "up = files.upload()\n",
        "filename = list(up.keys())[0]"
      ]
    },
    {
      "cell_type": "code",
      "source": [
        "import numpy as np\n",
        "import pandas as pd\n",
        "\n",
        "df = pd.read_csv(filename, header = None)\n",
        "df.head()"
      ],
      "metadata": {
        "colab": {
          "base_uri": "https://localhost:8080/",
          "height": 206
        },
        "id": "yFYwjl5Suz48",
        "outputId": "73b7f82e-bd90-4159-f62c-333b08b8f357"
      },
      "execution_count": 3,
      "outputs": [
        {
          "output_type": "execute_result",
          "data": {
            "text/html": [
              "\n",
              "  <div id=\"df-5c15f2b6-eaf6-4b5c-8839-c7b08d94d1d9\">\n",
              "    <div class=\"colab-df-container\">\n",
              "      <div>\n",
              "<style scoped>\n",
              "    .dataframe tbody tr th:only-of-type {\n",
              "        vertical-align: middle;\n",
              "    }\n",
              "\n",
              "    .dataframe tbody tr th {\n",
              "        vertical-align: top;\n",
              "    }\n",
              "\n",
              "    .dataframe thead th {\n",
              "        text-align: right;\n",
              "    }\n",
              "</style>\n",
              "<table border=\"1\" class=\"dataframe\">\n",
              "  <thead>\n",
              "    <tr style=\"text-align: right;\">\n",
              "      <th></th>\n",
              "      <th>0</th>\n",
              "      <th>1</th>\n",
              "      <th>2</th>\n",
              "      <th>3</th>\n",
              "      <th>4</th>\n",
              "      <th>5</th>\n",
              "      <th>6</th>\n",
              "      <th>7</th>\n",
              "      <th>8</th>\n",
              "    </tr>\n",
              "  </thead>\n",
              "  <tbody>\n",
              "    <tr>\n",
              "      <th>0</th>\n",
              "      <td>6</td>\n",
              "      <td>148</td>\n",
              "      <td>72</td>\n",
              "      <td>35</td>\n",
              "      <td>0</td>\n",
              "      <td>33.6</td>\n",
              "      <td>0.627</td>\n",
              "      <td>50</td>\n",
              "      <td>1</td>\n",
              "    </tr>\n",
              "    <tr>\n",
              "      <th>1</th>\n",
              "      <td>1</td>\n",
              "      <td>85</td>\n",
              "      <td>66</td>\n",
              "      <td>29</td>\n",
              "      <td>0</td>\n",
              "      <td>26.6</td>\n",
              "      <td>0.351</td>\n",
              "      <td>31</td>\n",
              "      <td>0</td>\n",
              "    </tr>\n",
              "    <tr>\n",
              "      <th>2</th>\n",
              "      <td>8</td>\n",
              "      <td>183</td>\n",
              "      <td>64</td>\n",
              "      <td>0</td>\n",
              "      <td>0</td>\n",
              "      <td>23.3</td>\n",
              "      <td>0.672</td>\n",
              "      <td>32</td>\n",
              "      <td>1</td>\n",
              "    </tr>\n",
              "    <tr>\n",
              "      <th>3</th>\n",
              "      <td>1</td>\n",
              "      <td>89</td>\n",
              "      <td>66</td>\n",
              "      <td>23</td>\n",
              "      <td>94</td>\n",
              "      <td>28.1</td>\n",
              "      <td>0.167</td>\n",
              "      <td>21</td>\n",
              "      <td>0</td>\n",
              "    </tr>\n",
              "    <tr>\n",
              "      <th>4</th>\n",
              "      <td>0</td>\n",
              "      <td>137</td>\n",
              "      <td>40</td>\n",
              "      <td>35</td>\n",
              "      <td>168</td>\n",
              "      <td>43.1</td>\n",
              "      <td>2.288</td>\n",
              "      <td>33</td>\n",
              "      <td>1</td>\n",
              "    </tr>\n",
              "  </tbody>\n",
              "</table>\n",
              "</div>\n",
              "      <button class=\"colab-df-convert\" onclick=\"convertToInteractive('df-5c15f2b6-eaf6-4b5c-8839-c7b08d94d1d9')\"\n",
              "              title=\"Convert this dataframe to an interactive table.\"\n",
              "              style=\"display:none;\">\n",
              "        \n",
              "  <svg xmlns=\"http://www.w3.org/2000/svg\" height=\"24px\"viewBox=\"0 0 24 24\"\n",
              "       width=\"24px\">\n",
              "    <path d=\"M0 0h24v24H0V0z\" fill=\"none\"/>\n",
              "    <path d=\"M18.56 5.44l.94 2.06.94-2.06 2.06-.94-2.06-.94-.94-2.06-.94 2.06-2.06.94zm-11 1L8.5 8.5l.94-2.06 2.06-.94-2.06-.94L8.5 2.5l-.94 2.06-2.06.94zm10 10l.94 2.06.94-2.06 2.06-.94-2.06-.94-.94-2.06-.94 2.06-2.06.94z\"/><path d=\"M17.41 7.96l-1.37-1.37c-.4-.4-.92-.59-1.43-.59-.52 0-1.04.2-1.43.59L10.3 9.45l-7.72 7.72c-.78.78-.78 2.05 0 2.83L4 21.41c.39.39.9.59 1.41.59.51 0 1.02-.2 1.41-.59l7.78-7.78 2.81-2.81c.8-.78.8-2.07 0-2.86zM5.41 20L4 18.59l7.72-7.72 1.47 1.35L5.41 20z\"/>\n",
              "  </svg>\n",
              "      </button>\n",
              "      \n",
              "  <style>\n",
              "    .colab-df-container {\n",
              "      display:flex;\n",
              "      flex-wrap:wrap;\n",
              "      gap: 12px;\n",
              "    }\n",
              "\n",
              "    .colab-df-convert {\n",
              "      background-color: #E8F0FE;\n",
              "      border: none;\n",
              "      border-radius: 50%;\n",
              "      cursor: pointer;\n",
              "      display: none;\n",
              "      fill: #1967D2;\n",
              "      height: 32px;\n",
              "      padding: 0 0 0 0;\n",
              "      width: 32px;\n",
              "    }\n",
              "\n",
              "    .colab-df-convert:hover {\n",
              "      background-color: #E2EBFA;\n",
              "      box-shadow: 0px 1px 2px rgba(60, 64, 67, 0.3), 0px 1px 3px 1px rgba(60, 64, 67, 0.15);\n",
              "      fill: #174EA6;\n",
              "    }\n",
              "\n",
              "    [theme=dark] .colab-df-convert {\n",
              "      background-color: #3B4455;\n",
              "      fill: #D2E3FC;\n",
              "    }\n",
              "\n",
              "    [theme=dark] .colab-df-convert:hover {\n",
              "      background-color: #434B5C;\n",
              "      box-shadow: 0px 1px 3px 1px rgba(0, 0, 0, 0.15);\n",
              "      filter: drop-shadow(0px 1px 2px rgba(0, 0, 0, 0.3));\n",
              "      fill: #FFFFFF;\n",
              "    }\n",
              "  </style>\n",
              "\n",
              "      <script>\n",
              "        const buttonEl =\n",
              "          document.querySelector('#df-5c15f2b6-eaf6-4b5c-8839-c7b08d94d1d9 button.colab-df-convert');\n",
              "        buttonEl.style.display =\n",
              "          google.colab.kernel.accessAllowed ? 'block' : 'none';\n",
              "\n",
              "        async function convertToInteractive(key) {\n",
              "          const element = document.querySelector('#df-5c15f2b6-eaf6-4b5c-8839-c7b08d94d1d9');\n",
              "          const dataTable =\n",
              "            await google.colab.kernel.invokeFunction('convertToInteractive',\n",
              "                                                     [key], {});\n",
              "          if (!dataTable) return;\n",
              "\n",
              "          const docLinkHtml = 'Like what you see? Visit the ' +\n",
              "            '<a target=\"_blank\" href=https://colab.research.google.com/notebooks/data_table.ipynb>data table notebook</a>'\n",
              "            + ' to learn more about interactive tables.';\n",
              "          element.innerHTML = '';\n",
              "          dataTable['output_type'] = 'display_data';\n",
              "          await google.colab.output.renderOutput(dataTable, element);\n",
              "          const docLink = document.createElement('div');\n",
              "          docLink.innerHTML = docLinkHtml;\n",
              "          element.appendChild(docLink);\n",
              "        }\n",
              "      </script>\n",
              "    </div>\n",
              "  </div>\n",
              "  "
            ],
            "text/plain": [
              "   0    1   2   3    4     5      6   7  8\n",
              "0  6  148  72  35    0  33.6  0.627  50  1\n",
              "1  1   85  66  29    0  26.6  0.351  31  0\n",
              "2  8  183  64   0    0  23.3  0.672  32  1\n",
              "3  1   89  66  23   94  28.1  0.167  21  0\n",
              "4  0  137  40  35  168  43.1  2.288  33  1"
            ]
          },
          "metadata": {},
          "execution_count": 3
        }
      ]
    },
    {
      "cell_type": "code",
      "source": [
        "import tensorflow as tf\n",
        "seed = 2022\n",
        "tf.random.set_seed(seed)\n",
        "np.random.seed(seed)"
      ],
      "metadata": {
        "id": "wELBCqisvAd4"
      },
      "execution_count": 4,
      "outputs": []
    },
    {
      "cell_type": "markdown",
      "source": [
        "### 스케일 변환(ex. 정규화)이 신경망 학습에 영향을 주는가?\n"
      ],
      "metadata": {
        "id": "ktjB0igmy98F"
      }
    },
    {
      "cell_type": "code",
      "source": [
        "from tensorflow.keras.models import Sequential\n",
        "from tensorflow.keras.layers import Dense\n",
        "from sklearn.model_selection import train_test_split\n",
        "from sklearn.preprocessing import StandardScaler"
      ],
      "metadata": {
        "id": "92uKLBDNzK4T"
      },
      "execution_count": 5,
      "outputs": []
    },
    {
      "cell_type": "markdown",
      "source": [
        "* 원본 데이터"
      ],
      "metadata": {
        "id": "YKZ_lbJ8ziID"
      }
    },
    {
      "cell_type": "code",
      "source": [
        "X_train, X_test, y_train, y_test = train_test_split(\n",
        "    df.values[:, :-1], df.values[:, -1], stratify = df.values[:, -1], random_state = 2022\n",
        ")"
      ],
      "metadata": {
        "id": "1xRTfLHszkK4"
      },
      "execution_count": 92,
      "outputs": []
    },
    {
      "cell_type": "code",
      "source": [
        "model = Sequential([\n",
        "                    Dense(12, input_dim = 8, activation = 'relu'),\n",
        "                    Dense(8, activation = 'relu'),\n",
        "                    Dense(1, activation = 'sigmoid')\n",
        "])\n",
        "model.summary()"
      ],
      "metadata": {
        "colab": {
          "base_uri": "https://localhost:8080/"
        },
        "id": "yJuJzU6Sz84g",
        "outputId": "76702159-7625-423b-c676-8b6dfb284bfb"
      },
      "execution_count": 93,
      "outputs": [
        {
          "output_type": "stream",
          "name": "stdout",
          "text": [
            "Model: \"sequential_13\"\n",
            "_________________________________________________________________\n",
            " Layer (type)                Output Shape              Param #   \n",
            "=================================================================\n",
            " dense_39 (Dense)            (None, 12)                108       \n",
            "                                                                 \n",
            " dense_40 (Dense)            (None, 8)                 104       \n",
            "                                                                 \n",
            " dense_41 (Dense)            (None, 1)                 9         \n",
            "                                                                 \n",
            "=================================================================\n",
            "Total params: 221\n",
            "Trainable params: 221\n",
            "Non-trainable params: 0\n",
            "_________________________________________________________________\n"
          ]
        }
      ]
    },
    {
      "cell_type": "code",
      "source": [
        "model.compile(optimizer='adam', loss = 'binary_crossentropy', metrics = ['accuracy'])\n",
        "history = model.fit(X_train, y_train, validation_split=0.2,\n",
        "                    epochs = 200, batch_size = 50)"
      ],
      "metadata": {
        "colab": {
          "base_uri": "https://localhost:8080/"
        },
        "id": "TeguhN8E0LLW",
        "outputId": "6e756106-c0ec-46a7-d45f-5b22abacf85c"
      },
      "execution_count": 94,
      "outputs": [
        {
          "output_type": "stream",
          "name": "stdout",
          "text": [
            "Epoch 1/200\n",
            "10/10 [==============================] - 1s 22ms/step - loss: 5.5504 - accuracy: 0.5261 - val_loss: 5.2017 - val_accuracy: 0.5086\n",
            "Epoch 2/200\n",
            "10/10 [==============================] - 0s 7ms/step - loss: 4.3285 - accuracy: 0.5652 - val_loss: 3.8165 - val_accuracy: 0.5517\n",
            "Epoch 3/200\n",
            "10/10 [==============================] - 0s 5ms/step - loss: 3.1718 - accuracy: 0.5804 - val_loss: 2.6657 - val_accuracy: 0.5948\n",
            "Epoch 4/200\n",
            "10/10 [==============================] - 0s 4ms/step - loss: 2.1737 - accuracy: 0.6000 - val_loss: 1.7060 - val_accuracy: 0.6638\n",
            "Epoch 5/200\n",
            "10/10 [==============================] - 0s 7ms/step - loss: 1.3670 - accuracy: 0.5957 - val_loss: 1.0994 - val_accuracy: 0.6034\n",
            "Epoch 6/200\n",
            "10/10 [==============================] - 0s 7ms/step - loss: 1.0682 - accuracy: 0.5783 - val_loss: 0.9220 - val_accuracy: 0.6121\n",
            "Epoch 7/200\n",
            "10/10 [==============================] - 0s 5ms/step - loss: 1.0205 - accuracy: 0.5652 - val_loss: 0.8986 - val_accuracy: 0.5776\n",
            "Epoch 8/200\n",
            "10/10 [==============================] - 0s 5ms/step - loss: 0.9460 - accuracy: 0.5652 - val_loss: 0.8514 - val_accuracy: 0.6034\n",
            "Epoch 9/200\n",
            "10/10 [==============================] - 0s 7ms/step - loss: 0.8884 - accuracy: 0.5717 - val_loss: 0.8420 - val_accuracy: 0.6207\n",
            "Epoch 10/200\n",
            "10/10 [==============================] - 0s 5ms/step - loss: 0.8403 - accuracy: 0.5804 - val_loss: 0.7996 - val_accuracy: 0.6293\n",
            "Epoch 11/200\n",
            "10/10 [==============================] - 0s 7ms/step - loss: 0.7962 - accuracy: 0.5891 - val_loss: 0.7704 - val_accuracy: 0.6121\n",
            "Epoch 12/200\n",
            "10/10 [==============================] - 0s 5ms/step - loss: 0.7683 - accuracy: 0.6022 - val_loss: 0.7450 - val_accuracy: 0.5862\n",
            "Epoch 13/200\n",
            "10/10 [==============================] - 0s 5ms/step - loss: 0.7391 - accuracy: 0.6043 - val_loss: 0.7466 - val_accuracy: 0.6121\n",
            "Epoch 14/200\n",
            "10/10 [==============================] - 0s 5ms/step - loss: 0.7221 - accuracy: 0.5783 - val_loss: 0.7354 - val_accuracy: 0.6207\n",
            "Epoch 15/200\n",
            "10/10 [==============================] - 0s 5ms/step - loss: 0.7142 - accuracy: 0.6348 - val_loss: 0.7238 - val_accuracy: 0.6466\n",
            "Epoch 16/200\n",
            "10/10 [==============================] - 0s 7ms/step - loss: 0.7002 - accuracy: 0.6783 - val_loss: 0.7313 - val_accuracy: 0.6466\n",
            "Epoch 17/200\n",
            "10/10 [==============================] - 0s 5ms/step - loss: 0.6948 - accuracy: 0.6696 - val_loss: 0.7163 - val_accuracy: 0.6379\n",
            "Epoch 18/200\n",
            "10/10 [==============================] - 0s 5ms/step - loss: 0.6856 - accuracy: 0.6739 - val_loss: 0.7054 - val_accuracy: 0.6293\n",
            "Epoch 19/200\n",
            "10/10 [==============================] - 0s 7ms/step - loss: 0.6794 - accuracy: 0.6717 - val_loss: 0.7085 - val_accuracy: 0.6466\n",
            "Epoch 20/200\n",
            "10/10 [==============================] - 0s 7ms/step - loss: 0.6762 - accuracy: 0.6739 - val_loss: 0.6911 - val_accuracy: 0.6466\n",
            "Epoch 21/200\n",
            "10/10 [==============================] - 0s 5ms/step - loss: 0.6714 - accuracy: 0.6761 - val_loss: 0.6871 - val_accuracy: 0.6466\n",
            "Epoch 22/200\n",
            "10/10 [==============================] - 0s 7ms/step - loss: 0.6689 - accuracy: 0.6804 - val_loss: 0.6837 - val_accuracy: 0.6466\n",
            "Epoch 23/200\n",
            "10/10 [==============================] - 0s 7ms/step - loss: 0.6647 - accuracy: 0.6848 - val_loss: 0.6839 - val_accuracy: 0.6379\n",
            "Epoch 24/200\n",
            "10/10 [==============================] - 0s 7ms/step - loss: 0.6617 - accuracy: 0.6783 - val_loss: 0.6851 - val_accuracy: 0.6466\n",
            "Epoch 25/200\n",
            "10/10 [==============================] - 0s 5ms/step - loss: 0.6598 - accuracy: 0.6826 - val_loss: 0.6729 - val_accuracy: 0.6379\n",
            "Epoch 26/200\n",
            "10/10 [==============================] - 0s 7ms/step - loss: 0.6579 - accuracy: 0.6804 - val_loss: 0.6805 - val_accuracy: 0.6552\n",
            "Epoch 27/200\n",
            "10/10 [==============================] - 0s 7ms/step - loss: 0.6572 - accuracy: 0.6761 - val_loss: 0.6805 - val_accuracy: 0.6466\n",
            "Epoch 28/200\n",
            "10/10 [==============================] - 0s 6ms/step - loss: 0.6580 - accuracy: 0.6783 - val_loss: 0.6622 - val_accuracy: 0.6379\n",
            "Epoch 29/200\n",
            "10/10 [==============================] - 0s 6ms/step - loss: 0.6565 - accuracy: 0.6870 - val_loss: 0.6611 - val_accuracy: 0.6379\n",
            "Epoch 30/200\n",
            "10/10 [==============================] - 0s 6ms/step - loss: 0.6481 - accuracy: 0.6913 - val_loss: 0.6712 - val_accuracy: 0.6638\n",
            "Epoch 31/200\n",
            "10/10 [==============================] - 0s 6ms/step - loss: 0.6492 - accuracy: 0.6826 - val_loss: 0.6659 - val_accuracy: 0.6638\n",
            "Epoch 32/200\n",
            "10/10 [==============================] - 0s 6ms/step - loss: 0.6460 - accuracy: 0.6826 - val_loss: 0.6554 - val_accuracy: 0.6466\n",
            "Epoch 33/200\n",
            "10/10 [==============================] - 0s 6ms/step - loss: 0.6453 - accuracy: 0.6848 - val_loss: 0.6576 - val_accuracy: 0.6638\n",
            "Epoch 34/200\n",
            "10/10 [==============================] - 0s 5ms/step - loss: 0.6417 - accuracy: 0.6826 - val_loss: 0.6585 - val_accuracy: 0.6638\n",
            "Epoch 35/200\n",
            "10/10 [==============================] - 0s 7ms/step - loss: 0.6417 - accuracy: 0.6848 - val_loss: 0.6543 - val_accuracy: 0.6466\n",
            "Epoch 36/200\n",
            "10/10 [==============================] - 0s 6ms/step - loss: 0.6411 - accuracy: 0.6826 - val_loss: 0.6583 - val_accuracy: 0.6638\n",
            "Epoch 37/200\n",
            "10/10 [==============================] - 0s 7ms/step - loss: 0.6377 - accuracy: 0.6848 - val_loss: 0.6586 - val_accuracy: 0.6638\n",
            "Epoch 38/200\n",
            "10/10 [==============================] - 0s 5ms/step - loss: 0.6423 - accuracy: 0.6848 - val_loss: 0.6467 - val_accuracy: 0.6293\n",
            "Epoch 39/200\n",
            "10/10 [==============================] - 0s 6ms/step - loss: 0.6342 - accuracy: 0.6804 - val_loss: 0.6503 - val_accuracy: 0.6552\n",
            "Epoch 40/200\n",
            "10/10 [==============================] - 0s 5ms/step - loss: 0.6326 - accuracy: 0.6891 - val_loss: 0.6428 - val_accuracy: 0.6379\n",
            "Epoch 41/200\n",
            "10/10 [==============================] - 0s 5ms/step - loss: 0.6352 - accuracy: 0.6783 - val_loss: 0.6572 - val_accuracy: 0.6552\n",
            "Epoch 42/200\n",
            "10/10 [==============================] - 0s 5ms/step - loss: 0.6359 - accuracy: 0.6804 - val_loss: 0.6353 - val_accuracy: 0.6379\n",
            "Epoch 43/200\n",
            "10/10 [==============================] - 0s 5ms/step - loss: 0.6239 - accuracy: 0.6826 - val_loss: 0.6517 - val_accuracy: 0.6552\n",
            "Epoch 44/200\n",
            "10/10 [==============================] - 0s 7ms/step - loss: 0.6270 - accuracy: 0.6783 - val_loss: 0.6335 - val_accuracy: 0.6466\n",
            "Epoch 45/200\n",
            "10/10 [==============================] - 0s 5ms/step - loss: 0.6202 - accuracy: 0.6804 - val_loss: 0.6353 - val_accuracy: 0.6466\n",
            "Epoch 46/200\n",
            "10/10 [==============================] - 0s 6ms/step - loss: 0.6162 - accuracy: 0.6826 - val_loss: 0.6317 - val_accuracy: 0.6379\n",
            "Epoch 47/200\n",
            "10/10 [==============================] - 0s 5ms/step - loss: 0.6150 - accuracy: 0.6978 - val_loss: 0.6292 - val_accuracy: 0.6379\n",
            "Epoch 48/200\n",
            "10/10 [==============================] - 0s 7ms/step - loss: 0.6115 - accuracy: 0.6891 - val_loss: 0.6354 - val_accuracy: 0.6552\n",
            "Epoch 49/200\n",
            "10/10 [==============================] - 0s 6ms/step - loss: 0.6118 - accuracy: 0.6826 - val_loss: 0.6222 - val_accuracy: 0.6379\n",
            "Epoch 50/200\n",
            "10/10 [==============================] - 0s 7ms/step - loss: 0.6232 - accuracy: 0.6978 - val_loss: 0.6189 - val_accuracy: 0.6293\n",
            "Epoch 51/200\n",
            "10/10 [==============================] - 0s 5ms/step - loss: 0.6040 - accuracy: 0.6957 - val_loss: 0.6290 - val_accuracy: 0.6552\n",
            "Epoch 52/200\n",
            "10/10 [==============================] - 0s 6ms/step - loss: 0.5998 - accuracy: 0.6913 - val_loss: 0.6166 - val_accuracy: 0.6293\n",
            "Epoch 53/200\n",
            "10/10 [==============================] - 0s 5ms/step - loss: 0.5985 - accuracy: 0.6935 - val_loss: 0.6271 - val_accuracy: 0.6466\n",
            "Epoch 54/200\n",
            "10/10 [==============================] - 0s 6ms/step - loss: 0.6040 - accuracy: 0.6804 - val_loss: 0.6277 - val_accuracy: 0.6293\n",
            "Epoch 55/200\n",
            "10/10 [==============================] - 0s 5ms/step - loss: 0.5936 - accuracy: 0.6978 - val_loss: 0.6221 - val_accuracy: 0.6466\n",
            "Epoch 56/200\n",
            "10/10 [==============================] - 0s 7ms/step - loss: 0.5956 - accuracy: 0.7043 - val_loss: 0.6252 - val_accuracy: 0.6466\n",
            "Epoch 57/200\n",
            "10/10 [==============================] - 0s 9ms/step - loss: 0.5894 - accuracy: 0.6870 - val_loss: 0.6380 - val_accuracy: 0.6552\n",
            "Epoch 58/200\n",
            "10/10 [==============================] - 0s 7ms/step - loss: 0.5950 - accuracy: 0.6761 - val_loss: 0.6219 - val_accuracy: 0.6466\n",
            "Epoch 59/200\n",
            "10/10 [==============================] - 0s 5ms/step - loss: 0.5891 - accuracy: 0.6870 - val_loss: 0.6291 - val_accuracy: 0.6552\n",
            "Epoch 60/200\n",
            "10/10 [==============================] - 0s 5ms/step - loss: 0.5909 - accuracy: 0.6957 - val_loss: 0.6160 - val_accuracy: 0.6379\n",
            "Epoch 61/200\n",
            "10/10 [==============================] - 0s 6ms/step - loss: 0.5906 - accuracy: 0.6826 - val_loss: 0.6255 - val_accuracy: 0.6552\n",
            "Epoch 62/200\n",
            "10/10 [==============================] - 0s 7ms/step - loss: 0.5859 - accuracy: 0.7000 - val_loss: 0.6171 - val_accuracy: 0.6293\n",
            "Epoch 63/200\n",
            "10/10 [==============================] - 0s 5ms/step - loss: 0.5859 - accuracy: 0.7065 - val_loss: 0.6234 - val_accuracy: 0.6379\n",
            "Epoch 64/200\n",
            "10/10 [==============================] - 0s 5ms/step - loss: 0.5872 - accuracy: 0.6826 - val_loss: 0.6273 - val_accuracy: 0.6552\n",
            "Epoch 65/200\n",
            "10/10 [==============================] - 0s 5ms/step - loss: 0.5848 - accuracy: 0.7043 - val_loss: 0.6171 - val_accuracy: 0.6293\n",
            "Epoch 66/200\n",
            "10/10 [==============================] - 0s 5ms/step - loss: 0.5821 - accuracy: 0.6935 - val_loss: 0.6220 - val_accuracy: 0.6552\n",
            "Epoch 67/200\n",
            "10/10 [==============================] - 0s 5ms/step - loss: 0.5797 - accuracy: 0.6957 - val_loss: 0.6219 - val_accuracy: 0.6293\n",
            "Epoch 68/200\n",
            "10/10 [==============================] - 0s 5ms/step - loss: 0.5809 - accuracy: 0.6935 - val_loss: 0.6248 - val_accuracy: 0.6638\n",
            "Epoch 69/200\n",
            "10/10 [==============================] - 0s 7ms/step - loss: 0.5824 - accuracy: 0.6870 - val_loss: 0.6238 - val_accuracy: 0.6466\n",
            "Epoch 70/200\n",
            "10/10 [==============================] - 0s 6ms/step - loss: 0.5787 - accuracy: 0.7000 - val_loss: 0.6160 - val_accuracy: 0.6293\n",
            "Epoch 71/200\n",
            "10/10 [==============================] - 0s 6ms/step - loss: 0.5784 - accuracy: 0.6826 - val_loss: 0.6163 - val_accuracy: 0.6379\n",
            "Epoch 72/200\n",
            "10/10 [==============================] - 0s 8ms/step - loss: 0.5746 - accuracy: 0.7043 - val_loss: 0.6106 - val_accuracy: 0.6293\n",
            "Epoch 73/200\n",
            "10/10 [==============================] - 0s 6ms/step - loss: 0.5759 - accuracy: 0.7043 - val_loss: 0.6135 - val_accuracy: 0.6293\n",
            "Epoch 74/200\n",
            "10/10 [==============================] - 0s 5ms/step - loss: 0.5753 - accuracy: 0.6957 - val_loss: 0.6131 - val_accuracy: 0.6552\n",
            "Epoch 75/200\n",
            "10/10 [==============================] - 0s 5ms/step - loss: 0.5772 - accuracy: 0.7000 - val_loss: 0.6075 - val_accuracy: 0.6293\n",
            "Epoch 76/200\n",
            "10/10 [==============================] - 0s 7ms/step - loss: 0.5787 - accuracy: 0.6935 - val_loss: 0.6152 - val_accuracy: 0.6466\n",
            "Epoch 77/200\n",
            "10/10 [==============================] - 0s 5ms/step - loss: 0.5746 - accuracy: 0.7022 - val_loss: 0.6118 - val_accuracy: 0.6379\n",
            "Epoch 78/200\n",
            "10/10 [==============================] - 0s 6ms/step - loss: 0.5769 - accuracy: 0.6913 - val_loss: 0.6229 - val_accuracy: 0.6552\n",
            "Epoch 79/200\n",
            "10/10 [==============================] - 0s 5ms/step - loss: 0.5711 - accuracy: 0.7022 - val_loss: 0.6110 - val_accuracy: 0.6379\n",
            "Epoch 80/200\n",
            "10/10 [==============================] - 0s 6ms/step - loss: 0.5724 - accuracy: 0.7022 - val_loss: 0.6162 - val_accuracy: 0.6466\n",
            "Epoch 81/200\n",
            "10/10 [==============================] - 0s 5ms/step - loss: 0.5783 - accuracy: 0.6913 - val_loss: 0.6175 - val_accuracy: 0.6638\n",
            "Epoch 82/200\n",
            "10/10 [==============================] - 0s 5ms/step - loss: 0.5728 - accuracy: 0.6935 - val_loss: 0.6083 - val_accuracy: 0.6466\n",
            "Epoch 83/200\n",
            "10/10 [==============================] - 0s 7ms/step - loss: 0.5684 - accuracy: 0.7000 - val_loss: 0.6081 - val_accuracy: 0.6552\n",
            "Epoch 84/200\n",
            "10/10 [==============================] - 0s 7ms/step - loss: 0.5717 - accuracy: 0.6978 - val_loss: 0.6058 - val_accuracy: 0.6466\n",
            "Epoch 85/200\n",
            "10/10 [==============================] - 0s 5ms/step - loss: 0.5685 - accuracy: 0.7000 - val_loss: 0.6037 - val_accuracy: 0.6466\n",
            "Epoch 86/200\n",
            "10/10 [==============================] - 0s 5ms/step - loss: 0.5759 - accuracy: 0.6891 - val_loss: 0.6048 - val_accuracy: 0.6466\n",
            "Epoch 87/200\n",
            "10/10 [==============================] - 0s 5ms/step - loss: 0.5815 - accuracy: 0.6804 - val_loss: 0.6255 - val_accuracy: 0.6638\n",
            "Epoch 88/200\n",
            "10/10 [==============================] - 0s 7ms/step - loss: 0.5627 - accuracy: 0.7065 - val_loss: 0.6026 - val_accuracy: 0.6466\n",
            "Epoch 89/200\n",
            "10/10 [==============================] - 0s 7ms/step - loss: 0.5768 - accuracy: 0.6935 - val_loss: 0.6180 - val_accuracy: 0.6638\n",
            "Epoch 90/200\n",
            "10/10 [==============================] - 0s 7ms/step - loss: 0.5721 - accuracy: 0.6935 - val_loss: 0.6030 - val_accuracy: 0.6466\n",
            "Epoch 91/200\n",
            "10/10 [==============================] - 0s 5ms/step - loss: 0.5677 - accuracy: 0.7043 - val_loss: 0.6074 - val_accuracy: 0.6552\n",
            "Epoch 92/200\n",
            "10/10 [==============================] - 0s 7ms/step - loss: 0.5615 - accuracy: 0.7043 - val_loss: 0.6114 - val_accuracy: 0.6466\n",
            "Epoch 93/200\n",
            "10/10 [==============================] - 0s 7ms/step - loss: 0.5628 - accuracy: 0.7087 - val_loss: 0.6170 - val_accuracy: 0.6552\n",
            "Epoch 94/200\n",
            "10/10 [==============================] - 0s 7ms/step - loss: 0.5622 - accuracy: 0.7000 - val_loss: 0.6067 - val_accuracy: 0.6552\n",
            "Epoch 95/200\n",
            "10/10 [==============================] - 0s 4ms/step - loss: 0.5648 - accuracy: 0.7000 - val_loss: 0.6063 - val_accuracy: 0.6552\n",
            "Epoch 96/200\n",
            "10/10 [==============================] - 0s 5ms/step - loss: 0.5609 - accuracy: 0.6957 - val_loss: 0.6109 - val_accuracy: 0.6638\n",
            "Epoch 97/200\n",
            "10/10 [==============================] - 0s 4ms/step - loss: 0.5674 - accuracy: 0.7022 - val_loss: 0.6038 - val_accuracy: 0.6466\n",
            "Epoch 98/200\n",
            "10/10 [==============================] - 0s 5ms/step - loss: 0.5662 - accuracy: 0.6935 - val_loss: 0.6043 - val_accuracy: 0.6466\n",
            "Epoch 99/200\n",
            "10/10 [==============================] - 0s 7ms/step - loss: 0.5579 - accuracy: 0.7022 - val_loss: 0.6044 - val_accuracy: 0.6466\n",
            "Epoch 100/200\n",
            "10/10 [==============================] - 0s 6ms/step - loss: 0.5628 - accuracy: 0.7000 - val_loss: 0.6154 - val_accuracy: 0.6638\n",
            "Epoch 101/200\n",
            "10/10 [==============================] - 0s 5ms/step - loss: 0.5547 - accuracy: 0.7022 - val_loss: 0.6074 - val_accuracy: 0.6552\n",
            "Epoch 102/200\n",
            "10/10 [==============================] - 0s 5ms/step - loss: 0.5585 - accuracy: 0.6978 - val_loss: 0.6257 - val_accuracy: 0.6552\n",
            "Epoch 103/200\n",
            "10/10 [==============================] - 0s 5ms/step - loss: 0.5522 - accuracy: 0.7000 - val_loss: 0.6061 - val_accuracy: 0.6379\n",
            "Epoch 104/200\n",
            "10/10 [==============================] - 0s 5ms/step - loss: 0.5645 - accuracy: 0.6957 - val_loss: 0.6188 - val_accuracy: 0.6552\n",
            "Epoch 105/200\n",
            "10/10 [==============================] - 0s 5ms/step - loss: 0.5622 - accuracy: 0.6891 - val_loss: 0.6127 - val_accuracy: 0.6466\n",
            "Epoch 106/200\n",
            "10/10 [==============================] - 0s 6ms/step - loss: 0.5562 - accuracy: 0.6957 - val_loss: 0.6059 - val_accuracy: 0.6552\n",
            "Epoch 107/200\n",
            "10/10 [==============================] - 0s 5ms/step - loss: 0.5554 - accuracy: 0.7043 - val_loss: 0.6098 - val_accuracy: 0.6552\n",
            "Epoch 108/200\n",
            "10/10 [==============================] - 0s 7ms/step - loss: 0.5527 - accuracy: 0.7000 - val_loss: 0.6114 - val_accuracy: 0.6466\n",
            "Epoch 109/200\n",
            "10/10 [==============================] - 0s 7ms/step - loss: 0.5536 - accuracy: 0.7000 - val_loss: 0.6106 - val_accuracy: 0.6466\n",
            "Epoch 110/200\n",
            "10/10 [==============================] - 0s 6ms/step - loss: 0.5498 - accuracy: 0.7022 - val_loss: 0.6021 - val_accuracy: 0.6552\n",
            "Epoch 111/200\n",
            "10/10 [==============================] - 0s 7ms/step - loss: 0.5518 - accuracy: 0.7000 - val_loss: 0.6186 - val_accuracy: 0.6638\n",
            "Epoch 112/200\n",
            "10/10 [==============================] - 0s 8ms/step - loss: 0.5519 - accuracy: 0.7000 - val_loss: 0.6058 - val_accuracy: 0.6552\n",
            "Epoch 113/200\n",
            "10/10 [==============================] - 0s 5ms/step - loss: 0.5626 - accuracy: 0.6870 - val_loss: 0.6075 - val_accuracy: 0.6638\n",
            "Epoch 114/200\n",
            "10/10 [==============================] - 0s 5ms/step - loss: 0.5505 - accuracy: 0.7000 - val_loss: 0.6249 - val_accuracy: 0.6638\n",
            "Epoch 115/200\n",
            "10/10 [==============================] - 0s 7ms/step - loss: 0.5588 - accuracy: 0.6848 - val_loss: 0.6043 - val_accuracy: 0.6552\n",
            "Epoch 116/200\n",
            "10/10 [==============================] - 0s 5ms/step - loss: 0.5594 - accuracy: 0.6891 - val_loss: 0.6121 - val_accuracy: 0.6552\n",
            "Epoch 117/200\n",
            "10/10 [==============================] - 0s 5ms/step - loss: 0.5470 - accuracy: 0.7000 - val_loss: 0.6077 - val_accuracy: 0.6466\n",
            "Epoch 118/200\n",
            "10/10 [==============================] - 0s 5ms/step - loss: 0.5467 - accuracy: 0.7065 - val_loss: 0.6170 - val_accuracy: 0.6552\n",
            "Epoch 119/200\n",
            "10/10 [==============================] - 0s 7ms/step - loss: 0.5499 - accuracy: 0.6978 - val_loss: 0.6017 - val_accuracy: 0.6552\n",
            "Epoch 120/200\n",
            "10/10 [==============================] - 0s 7ms/step - loss: 0.5498 - accuracy: 0.6957 - val_loss: 0.6008 - val_accuracy: 0.6552\n",
            "Epoch 121/200\n",
            "10/10 [==============================] - 0s 7ms/step - loss: 0.5535 - accuracy: 0.6978 - val_loss: 0.6074 - val_accuracy: 0.6466\n",
            "Epoch 122/200\n",
            "10/10 [==============================] - 0s 5ms/step - loss: 0.5510 - accuracy: 0.7000 - val_loss: 0.6055 - val_accuracy: 0.6638\n",
            "Epoch 123/200\n",
            "10/10 [==============================] - 0s 5ms/step - loss: 0.5497 - accuracy: 0.6957 - val_loss: 0.6099 - val_accuracy: 0.6552\n",
            "Epoch 124/200\n",
            "10/10 [==============================] - 0s 5ms/step - loss: 0.5432 - accuracy: 0.7022 - val_loss: 0.6101 - val_accuracy: 0.6638\n",
            "Epoch 125/200\n",
            "10/10 [==============================] - 0s 7ms/step - loss: 0.5442 - accuracy: 0.6957 - val_loss: 0.6169 - val_accuracy: 0.6552\n",
            "Epoch 126/200\n",
            "10/10 [==============================] - 0s 7ms/step - loss: 0.5426 - accuracy: 0.6978 - val_loss: 0.6116 - val_accuracy: 0.6638\n",
            "Epoch 127/200\n",
            "10/10 [==============================] - 0s 6ms/step - loss: 0.5454 - accuracy: 0.7000 - val_loss: 0.6055 - val_accuracy: 0.6552\n",
            "Epoch 128/200\n",
            "10/10 [==============================] - 0s 4ms/step - loss: 0.5420 - accuracy: 0.7043 - val_loss: 0.6060 - val_accuracy: 0.6552\n",
            "Epoch 129/200\n",
            "10/10 [==============================] - 0s 5ms/step - loss: 0.5482 - accuracy: 0.7022 - val_loss: 0.6165 - val_accuracy: 0.6552\n",
            "Epoch 130/200\n",
            "10/10 [==============================] - 0s 5ms/step - loss: 0.5389 - accuracy: 0.7022 - val_loss: 0.6010 - val_accuracy: 0.6638\n",
            "Epoch 131/200\n",
            "10/10 [==============================] - 0s 7ms/step - loss: 0.5422 - accuracy: 0.7022 - val_loss: 0.6056 - val_accuracy: 0.6552\n",
            "Epoch 132/200\n",
            "10/10 [==============================] - 0s 4ms/step - loss: 0.5392 - accuracy: 0.7043 - val_loss: 0.6171 - val_accuracy: 0.6638\n",
            "Epoch 133/200\n",
            "10/10 [==============================] - 0s 4ms/step - loss: 0.5429 - accuracy: 0.7000 - val_loss: 0.6064 - val_accuracy: 0.6638\n",
            "Epoch 134/200\n",
            "10/10 [==============================] - 0s 5ms/step - loss: 0.5383 - accuracy: 0.7022 - val_loss: 0.6097 - val_accuracy: 0.6638\n",
            "Epoch 135/200\n",
            "10/10 [==============================] - 0s 5ms/step - loss: 0.5376 - accuracy: 0.7043 - val_loss: 0.6103 - val_accuracy: 0.6638\n",
            "Epoch 136/200\n",
            "10/10 [==============================] - 0s 5ms/step - loss: 0.5384 - accuracy: 0.7000 - val_loss: 0.6105 - val_accuracy: 0.6638\n",
            "Epoch 137/200\n",
            "10/10 [==============================] - 0s 4ms/step - loss: 0.5376 - accuracy: 0.7043 - val_loss: 0.6128 - val_accuracy: 0.6552\n",
            "Epoch 138/200\n",
            "10/10 [==============================] - 0s 5ms/step - loss: 0.5463 - accuracy: 0.6913 - val_loss: 0.6116 - val_accuracy: 0.6552\n",
            "Epoch 139/200\n",
            "10/10 [==============================] - 0s 5ms/step - loss: 0.5436 - accuracy: 0.6957 - val_loss: 0.6046 - val_accuracy: 0.6552\n",
            "Epoch 140/200\n",
            "10/10 [==============================] - 0s 5ms/step - loss: 0.5353 - accuracy: 0.7043 - val_loss: 0.6057 - val_accuracy: 0.6638\n",
            "Epoch 141/200\n",
            "10/10 [==============================] - 0s 5ms/step - loss: 0.5398 - accuracy: 0.6978 - val_loss: 0.6027 - val_accuracy: 0.6638\n",
            "Epoch 142/200\n",
            "10/10 [==============================] - 0s 6ms/step - loss: 0.5416 - accuracy: 0.7000 - val_loss: 0.5985 - val_accuracy: 0.6638\n",
            "Epoch 143/200\n",
            "10/10 [==============================] - 0s 5ms/step - loss: 0.5397 - accuracy: 0.6935 - val_loss: 0.6158 - val_accuracy: 0.6379\n",
            "Epoch 144/200\n",
            "10/10 [==============================] - 0s 8ms/step - loss: 0.5346 - accuracy: 0.7174 - val_loss: 0.6108 - val_accuracy: 0.6466\n",
            "Epoch 145/200\n",
            "10/10 [==============================] - 0s 5ms/step - loss: 0.5346 - accuracy: 0.7087 - val_loss: 0.6196 - val_accuracy: 0.6293\n",
            "Epoch 146/200\n",
            "10/10 [==============================] - 0s 5ms/step - loss: 0.5414 - accuracy: 0.7065 - val_loss: 0.6120 - val_accuracy: 0.6552\n",
            "Epoch 147/200\n",
            "10/10 [==============================] - 0s 5ms/step - loss: 0.5372 - accuracy: 0.7043 - val_loss: 0.6058 - val_accuracy: 0.6552\n",
            "Epoch 148/200\n",
            "10/10 [==============================] - 0s 7ms/step - loss: 0.5353 - accuracy: 0.7065 - val_loss: 0.6101 - val_accuracy: 0.6552\n",
            "Epoch 149/200\n",
            "10/10 [==============================] - 0s 5ms/step - loss: 0.5342 - accuracy: 0.7043 - val_loss: 0.6061 - val_accuracy: 0.6638\n",
            "Epoch 150/200\n",
            "10/10 [==============================] - 0s 7ms/step - loss: 0.5359 - accuracy: 0.7065 - val_loss: 0.6024 - val_accuracy: 0.6552\n",
            "Epoch 151/200\n",
            "10/10 [==============================] - 0s 5ms/step - loss: 0.5383 - accuracy: 0.7022 - val_loss: 0.6098 - val_accuracy: 0.6552\n",
            "Epoch 152/200\n",
            "10/10 [==============================] - 0s 5ms/step - loss: 0.5302 - accuracy: 0.7065 - val_loss: 0.6018 - val_accuracy: 0.6638\n",
            "Epoch 153/200\n",
            "10/10 [==============================] - 0s 6ms/step - loss: 0.5318 - accuracy: 0.7043 - val_loss: 0.6046 - val_accuracy: 0.6552\n",
            "Epoch 154/200\n",
            "10/10 [==============================] - 0s 6ms/step - loss: 0.5311 - accuracy: 0.7065 - val_loss: 0.6059 - val_accuracy: 0.6466\n",
            "Epoch 155/200\n",
            "10/10 [==============================] - 0s 5ms/step - loss: 0.5314 - accuracy: 0.7174 - val_loss: 0.6114 - val_accuracy: 0.6552\n",
            "Epoch 156/200\n",
            "10/10 [==============================] - 0s 7ms/step - loss: 0.5314 - accuracy: 0.7087 - val_loss: 0.6084 - val_accuracy: 0.6379\n",
            "Epoch 157/200\n",
            "10/10 [==============================] - 0s 5ms/step - loss: 0.5300 - accuracy: 0.7109 - val_loss: 0.6060 - val_accuracy: 0.6552\n",
            "Epoch 158/200\n",
            "10/10 [==============================] - 0s 7ms/step - loss: 0.5309 - accuracy: 0.7043 - val_loss: 0.6042 - val_accuracy: 0.6638\n",
            "Epoch 159/200\n",
            "10/10 [==============================] - 0s 6ms/step - loss: 0.5574 - accuracy: 0.6913 - val_loss: 0.6234 - val_accuracy: 0.6466\n",
            "Epoch 160/200\n",
            "10/10 [==============================] - 0s 6ms/step - loss: 0.5388 - accuracy: 0.7000 - val_loss: 0.6022 - val_accuracy: 0.6466\n",
            "Epoch 161/200\n",
            "10/10 [==============================] - 0s 6ms/step - loss: 0.5329 - accuracy: 0.7087 - val_loss: 0.6017 - val_accuracy: 0.6638\n",
            "Epoch 162/200\n",
            "10/10 [==============================] - 0s 5ms/step - loss: 0.5322 - accuracy: 0.7043 - val_loss: 0.5983 - val_accuracy: 0.6552\n",
            "Epoch 163/200\n",
            "10/10 [==============================] - 0s 5ms/step - loss: 0.5310 - accuracy: 0.7043 - val_loss: 0.6083 - val_accuracy: 0.6552\n",
            "Epoch 164/200\n",
            "10/10 [==============================] - 0s 5ms/step - loss: 0.5306 - accuracy: 0.6978 - val_loss: 0.6128 - val_accuracy: 0.6552\n",
            "Epoch 165/200\n",
            "10/10 [==============================] - 0s 7ms/step - loss: 0.5302 - accuracy: 0.7087 - val_loss: 0.6103 - val_accuracy: 0.6552\n",
            "Epoch 166/200\n",
            "10/10 [==============================] - 0s 5ms/step - loss: 0.5338 - accuracy: 0.7087 - val_loss: 0.6084 - val_accuracy: 0.6638\n",
            "Epoch 167/200\n",
            "10/10 [==============================] - 0s 4ms/step - loss: 0.5262 - accuracy: 0.7109 - val_loss: 0.6039 - val_accuracy: 0.6466\n",
            "Epoch 168/200\n",
            "10/10 [==============================] - 0s 6ms/step - loss: 0.5279 - accuracy: 0.7109 - val_loss: 0.6346 - val_accuracy: 0.6379\n",
            "Epoch 169/200\n",
            "10/10 [==============================] - 0s 5ms/step - loss: 0.5381 - accuracy: 0.7043 - val_loss: 0.6031 - val_accuracy: 0.6466\n",
            "Epoch 170/200\n",
            "10/10 [==============================] - 0s 5ms/step - loss: 0.5292 - accuracy: 0.7087 - val_loss: 0.6016 - val_accuracy: 0.6466\n",
            "Epoch 171/200\n",
            "10/10 [==============================] - 0s 5ms/step - loss: 0.5306 - accuracy: 0.7065 - val_loss: 0.6104 - val_accuracy: 0.6466\n",
            "Epoch 172/200\n",
            "10/10 [==============================] - 0s 8ms/step - loss: 0.5270 - accuracy: 0.7022 - val_loss: 0.6077 - val_accuracy: 0.6638\n",
            "Epoch 173/200\n",
            "10/10 [==============================] - 0s 7ms/step - loss: 0.5340 - accuracy: 0.7109 - val_loss: 0.6089 - val_accuracy: 0.6552\n",
            "Epoch 174/200\n",
            "10/10 [==============================] - 0s 5ms/step - loss: 0.5278 - accuracy: 0.7109 - val_loss: 0.6135 - val_accuracy: 0.6552\n",
            "Epoch 175/200\n",
            "10/10 [==============================] - 0s 7ms/step - loss: 0.5268 - accuracy: 0.6957 - val_loss: 0.6099 - val_accuracy: 0.6552\n",
            "Epoch 176/200\n",
            "10/10 [==============================] - 0s 7ms/step - loss: 0.5237 - accuracy: 0.7087 - val_loss: 0.6158 - val_accuracy: 0.6552\n",
            "Epoch 177/200\n",
            "10/10 [==============================] - 0s 6ms/step - loss: 0.5245 - accuracy: 0.7065 - val_loss: 0.6206 - val_accuracy: 0.6379\n",
            "Epoch 178/200\n",
            "10/10 [==============================] - 0s 5ms/step - loss: 0.5300 - accuracy: 0.6935 - val_loss: 0.6077 - val_accuracy: 0.6552\n",
            "Epoch 179/200\n",
            "10/10 [==============================] - 0s 6ms/step - loss: 0.5269 - accuracy: 0.7087 - val_loss: 0.6163 - val_accuracy: 0.6466\n",
            "Epoch 180/200\n",
            "10/10 [==============================] - 0s 5ms/step - loss: 0.5316 - accuracy: 0.7109 - val_loss: 0.6035 - val_accuracy: 0.6466\n",
            "Epoch 181/200\n",
            "10/10 [==============================] - 0s 5ms/step - loss: 0.5264 - accuracy: 0.7000 - val_loss: 0.6147 - val_accuracy: 0.6552\n",
            "Epoch 182/200\n",
            "10/10 [==============================] - 0s 5ms/step - loss: 0.5218 - accuracy: 0.7087 - val_loss: 0.5990 - val_accuracy: 0.6466\n",
            "Epoch 183/200\n",
            "10/10 [==============================] - 0s 7ms/step - loss: 0.5256 - accuracy: 0.7065 - val_loss: 0.6188 - val_accuracy: 0.6293\n",
            "Epoch 184/200\n",
            "10/10 [==============================] - 0s 6ms/step - loss: 0.5265 - accuracy: 0.7087 - val_loss: 0.6056 - val_accuracy: 0.6552\n",
            "Epoch 185/200\n",
            "10/10 [==============================] - 0s 6ms/step - loss: 0.5270 - accuracy: 0.7087 - val_loss: 0.6078 - val_accuracy: 0.6552\n",
            "Epoch 186/200\n",
            "10/10 [==============================] - 0s 4ms/step - loss: 0.5201 - accuracy: 0.7087 - val_loss: 0.6070 - val_accuracy: 0.6466\n",
            "Epoch 187/200\n",
            "10/10 [==============================] - 0s 6ms/step - loss: 0.5206 - accuracy: 0.7087 - val_loss: 0.6136 - val_accuracy: 0.6552\n",
            "Epoch 188/200\n",
            "10/10 [==============================] - 0s 4ms/step - loss: 0.5227 - accuracy: 0.6957 - val_loss: 0.6020 - val_accuracy: 0.6638\n",
            "Epoch 189/200\n",
            "10/10 [==============================] - 0s 7ms/step - loss: 0.5276 - accuracy: 0.7022 - val_loss: 0.5994 - val_accuracy: 0.6552\n",
            "Epoch 190/200\n",
            "10/10 [==============================] - 0s 6ms/step - loss: 0.5291 - accuracy: 0.7000 - val_loss: 0.6287 - val_accuracy: 0.6466\n",
            "Epoch 191/200\n",
            "10/10 [==============================] - 0s 4ms/step - loss: 0.5417 - accuracy: 0.6826 - val_loss: 0.6153 - val_accuracy: 0.6638\n",
            "Epoch 192/200\n",
            "10/10 [==============================] - 0s 8ms/step - loss: 0.5228 - accuracy: 0.7087 - val_loss: 0.6145 - val_accuracy: 0.6552\n",
            "Epoch 193/200\n",
            "10/10 [==============================] - 0s 5ms/step - loss: 0.5193 - accuracy: 0.7043 - val_loss: 0.5999 - val_accuracy: 0.6466\n",
            "Epoch 194/200\n",
            "10/10 [==============================] - 0s 5ms/step - loss: 0.5273 - accuracy: 0.7043 - val_loss: 0.6139 - val_accuracy: 0.6552\n",
            "Epoch 195/200\n",
            "10/10 [==============================] - 0s 7ms/step - loss: 0.5181 - accuracy: 0.7022 - val_loss: 0.6008 - val_accuracy: 0.6552\n",
            "Epoch 196/200\n",
            "10/10 [==============================] - 0s 5ms/step - loss: 0.5231 - accuracy: 0.7087 - val_loss: 0.6230 - val_accuracy: 0.6293\n",
            "Epoch 197/200\n",
            "10/10 [==============================] - 0s 5ms/step - loss: 0.5206 - accuracy: 0.7087 - val_loss: 0.6051 - val_accuracy: 0.6552\n",
            "Epoch 198/200\n",
            "10/10 [==============================] - 0s 7ms/step - loss: 0.5206 - accuracy: 0.7043 - val_loss: 0.6023 - val_accuracy: 0.6552\n",
            "Epoch 199/200\n",
            "10/10 [==============================] - 0s 5ms/step - loss: 0.5263 - accuracy: 0.7065 - val_loss: 0.6192 - val_accuracy: 0.6552\n",
            "Epoch 200/200\n",
            "10/10 [==============================] - 0s 5ms/step - loss: 0.5211 - accuracy: 0.7043 - val_loss: 0.6067 - val_accuracy: 0.6638\n"
          ]
        }
      ]
    },
    {
      "cell_type": "code",
      "source": [
        "model.evaluate(X_test, y_test)"
      ],
      "metadata": {
        "colab": {
          "base_uri": "https://localhost:8080/"
        },
        "id": "FXKf7nIo05LQ",
        "outputId": "86e84c7c-6405-4e8d-e219-b30378797cae"
      },
      "execution_count": 95,
      "outputs": [
        {
          "output_type": "stream",
          "name": "stdout",
          "text": [
            "6/6 [==============================] - 0s 3ms/step - loss: 0.7023 - accuracy: 0.6354\n"
          ]
        },
        {
          "output_type": "execute_result",
          "data": {
            "text/plain": [
              "[0.7023420333862305, 0.6354166865348816]"
            ]
          },
          "metadata": {},
          "execution_count": 95
        }
      ]
    },
    {
      "cell_type": "markdown",
      "source": [
        "* 표준화 "
      ],
      "metadata": {
        "id": "idAM3yEd1dK8"
      }
    },
    {
      "cell_type": "code",
      "source": [
        "scaled = StandardScaler().fit_transform(df.values[:, :-1])\n",
        "X_train2, X_test2, y_train, y_test = train_test_split(\n",
        "    scaled, df.values[:, -1], stratify = df.values[:, -1], random_state = 2022\n",
        ")"
      ],
      "metadata": {
        "id": "mZ167WcD1W4q"
      },
      "execution_count": 78,
      "outputs": []
    },
    {
      "cell_type": "code",
      "source": [
        "model2 = Sequential([\n",
        "                    Dense(12, input_dim = 8, activation = 'relu'),\n",
        "                    Dense(8, activation = 'relu'),\n",
        "                    Dense(1, activation = 'sigmoid')\n",
        "])\n",
        "model2.summary()"
      ],
      "metadata": {
        "colab": {
          "base_uri": "https://localhost:8080/"
        },
        "id": "YVsjUOo-2CLp",
        "outputId": "141941f8-960d-4958-9d47-02bd013a7f08"
      },
      "execution_count": 79,
      "outputs": [
        {
          "output_type": "stream",
          "name": "stdout",
          "text": [
            "Model: \"sequential_11\"\n",
            "_________________________________________________________________\n",
            " Layer (type)                Output Shape              Param #   \n",
            "=================================================================\n",
            " dense_33 (Dense)            (None, 12)                108       \n",
            "                                                                 \n",
            " dense_34 (Dense)            (None, 8)                 104       \n",
            "                                                                 \n",
            " dense_35 (Dense)            (None, 1)                 9         \n",
            "                                                                 \n",
            "=================================================================\n",
            "Total params: 221\n",
            "Trainable params: 221\n",
            "Non-trainable params: 0\n",
            "_________________________________________________________________\n"
          ]
        }
      ]
    },
    {
      "cell_type": "code",
      "source": [
        "model2.compile(optimizer='adam', loss = 'binary_crossentropy', metrics = ['accuracy'])\n",
        "history2 = model2.fit(X_train2, y_train, validation_split=0.2,\n",
        "                    epochs = 200, batch_size = 50)"
      ],
      "metadata": {
        "id": "IPETGQ_12ITv"
      },
      "execution_count": null,
      "outputs": []
    },
    {
      "cell_type": "code",
      "source": [
        "model2.evaluate(X_test2, y_test)"
      ],
      "metadata": {
        "colab": {
          "base_uri": "https://localhost:8080/"
        },
        "id": "tDzEFlgd2TA1",
        "outputId": "54001801-f259-4192-8545-9b4cf87cdb24"
      },
      "execution_count": 81,
      "outputs": [
        {
          "output_type": "stream",
          "name": "stdout",
          "text": [
            "6/6 [==============================] - 0s 4ms/step - loss: 0.5955 - accuracy: 0.7396\n"
          ]
        },
        {
          "output_type": "execute_result",
          "data": {
            "text/plain": [
              "[0.595497727394104, 0.7395833134651184]"
            ]
          },
          "metadata": {},
          "execution_count": 81
        }
      ]
    },
    {
      "cell_type": "code",
      "source": [
        "import matplotlib.pyplot as plt"
      ],
      "metadata": {
        "id": "ujmERr-i3Qw8"
      },
      "execution_count": 82,
      "outputs": []
    },
    {
      "cell_type": "code",
      "source": [
        "acc = history.history['accuracy']\n",
        "loss = history.history['loss']\n",
        "val_acc = history.history['val_accuracy']\n",
        "val_loss = history.history['val_loss']"
      ],
      "metadata": {
        "id": "680B9VLZ3YZM"
      },
      "execution_count": 83,
      "outputs": []
    },
    {
      "cell_type": "code",
      "source": [
        "xs = np.arange(1, len(acc) + 1)     # epoch가 50이므로 그것보다 1 더해준다\n",
        "plt.figure(figsize=(12, 8))\n",
        "plt.plot(xs, acc, ms = 10, label = 'trainset accuracy')\n",
        "plt.plot(xs, val_loss, ms = 10, label = 'validation loss')\n",
        "plt.xlabel('Epoch')\n",
        "plt.legend()\n",
        "plt.grid()\n",
        "plt.title('No feature scaled', fontsize = 20)\n",
        "plt.show()"
      ],
      "metadata": {
        "colab": {
          "base_uri": "https://localhost:8080/",
          "height": 518
        },
        "id": "Iewa9Q_82m7L",
        "outputId": "46dff8b5-1ecd-4543-b121-4e7a8d54e2c7"
      },
      "execution_count": 96,
      "outputs": [
        {
          "output_type": "display_data",
          "data": {
            "image/png": "[encoded data removed]",
            "text/plain": [
              "<Figure size 864x576 with 1 Axes>"
            ]
          },
          "metadata": {
            "needs_background": "light"
          }
        }
      ]
    },
    {
      "cell_type": "code",
      "source": [
        "xs = np.arange(1, len(acc) + 1)     # epoch가 50이므로 그것보다 1 더해준다\n",
        "plt.figure(figsize=(12, 8))\n",
        "plt.plot(xs, history2.history['accuracy'], ms = 10, label = 'trainset accuracy')\n",
        "plt.plot(xs, history2.history['val_loss'], ms = 10, label = 'validation loss')\n",
        "plt.xlabel('Epoch')\n",
        "plt.legend()\n",
        "plt.grid()\n",
        "plt.title('No feature scaled', fontsize = 20)\n",
        "plt.show()"
      ],
      "metadata": {
        "colab": {
          "base_uri": "https://localhost:8080/",
          "height": 518
        },
        "id": "yVef1rMW303d",
        "outputId": "8acf9c7d-eb51-4226-f4c0-76d27f340d03"
      },
      "execution_count": 85,
      "outputs": [
        {
          "output_type": "display_data",
          "data": {
            "image/png": "[encoded data removed]",
            "text/plain": [
              "<Figure size 864x576 with 1 Axes>"
            ]
          },
          "metadata": {
            "needs_background": "light"
          }
        }
      ]
    },
    {
      "cell_type": "code",
      "source": [
        ""
      ],
      "metadata": {
        "id": "sutcHzRT5N3v"
      },
      "execution_count": null,
      "outputs": []
    }
  ]
}