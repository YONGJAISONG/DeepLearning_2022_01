{
  "nbformat": 4,
  "nbformat_minor": 0,
  "metadata": {
    "colab": {
      "name": "40.프로그램 실행.ipynb",
      "provenance": [],
      "collapsed_sections": []
    },
    "kernelspec": {
      "name": "python3",
      "display_name": "Python 3"
    },
    "language_info": {
      "name": "python"
    }
  },
  "cells": [
    {
      "cell_type": "code",
      "source": [
        "!python boston.py"
      ],
      "metadata": {
        "colab": {
          "base_uri": "https://localhost:8080/"
        },
        "id": "lfF6bOq0HkWu",
        "outputId": "34101d6f-3ecc-4157-9f67-a2c3b96647a4"
      },
      "execution_count": null,
      "outputs": [
        {
          "output_type": "stream",
          "name": "stdout",
          "text": [
            "2022-01-12 02:32:52.409877: E tensorflow/stream_executor/cuda/cuda_driver.cc:271] failed call to cuInit: CUDA_ERROR_NO_DEVICE: no CUDA-capable device is detected\n",
            "0 ~ 100 정수값을 입력하세요.> 50\n",
            "실제값 : 22.3, 예측값 :  23.52\n"
          ]
        }
      ]
    },
    {
      "cell_type": "code",
      "source": [
        "!python boston2.py"
      ],
      "metadata": {
        "colab": {
          "base_uri": "https://localhost:8080/"
        },
        "id": "75rWllo1IM7U",
        "outputId": "b00a9d9a-33fe-47f6-e389-97bd167300cc"
      },
      "execution_count": null,
      "outputs": [
        {
          "output_type": "stream",
          "name": "stdout",
          "text": [
            "2022-01-12 04:12:25.815823: E tensorflow/stream_executor/cuda/cuda_driver.cc:271] failed call to cuInit: CUDA_ERROR_NO_DEVICE: no CUDA-capable device is detected\n",
            "0 ~ 50 정수값을 입력하세요.> 50\n",
            "실제값 : 22.3, 예측값 :  17.91\n"
          ]
        }
      ]
    },
    {
      "cell_type": "code",
      "source": [
        "!python boston3.py"
      ],
      "metadata": {
        "colab": {
          "base_uri": "https://localhost:8080/"
        },
        "id": "4WryztgxfEeU",
        "outputId": "c6565fe1-b3af-4cf8-e1d7-f750236a85ca"
      },
      "execution_count": null,
      "outputs": [
        {
          "output_type": "stream",
          "name": "stdout",
          "text": [
            "boston3.py 1\n",
            "사용법 : python boston3.py test_dataset_index(0~50)\n"
          ]
        }
      ]
    },
    {
      "cell_type": "code",
      "source": [
        "!python boston3.py 42"
      ],
      "metadata": {
        "colab": {
          "base_uri": "https://localhost:8080/"
        },
        "id": "azonHhbWh3wi",
        "outputId": "577e95e4-226d-42de-c0c4-5ae666aaf56b"
      },
      "execution_count": null,
      "outputs": [
        {
          "output_type": "stream",
          "name": "stdout",
          "text": [
            "2022-01-12 04:30:44.572871: E tensorflow/stream_executor/cuda/cuda_driver.cc:271] failed call to cuInit: CUDA_ERROR_NO_DEVICE: no CUDA-capable device is detected\n",
            "실제값 : 20.4, 예측값 :  16.33\n"
          ]
        }
      ]
    },
    {
      "cell_type": "code",
      "source": [
        "!python boston3.py one"
      ],
      "metadata": {
        "colab": {
          "base_uri": "https://localhost:8080/"
        },
        "id": "TS5XT3I5jVqt",
        "outputId": "8fa8eefd-c0d8-48a4-ad9c-f6cb898a0a68"
      },
      "execution_count": null,
      "outputs": [
        {
          "output_type": "stream",
          "name": "stdout",
          "text": [
            "정수를 입력하세요\n",
            "사용법 : python boston3.py test_dataset_index(0~50)\n"
          ]
        }
      ]
    },
    {
      "cell_type": "code",
      "source": [
        "!python boston3.py 100"
      ],
      "metadata": {
        "colab": {
          "base_uri": "https://localhost:8080/"
        },
        "id": "VYidxw2Ak2oH",
        "outputId": "6ec63856-2ecb-48ad-fc8f-6a0166dd09a1"
      },
      "execution_count": null,
      "outputs": [
        {
          "output_type": "stream",
          "name": "stdout",
          "text": [
            "0과 50사이의 정수를 입력하세요\n",
            "사용법 : python boston3.py test_dataset_index(0~50) 2> /dev/null\n"
          ]
        }
      ]
    },
    {
      "cell_type": "code",
      "source": [
        "!python boston3.py 12 2> /dev/null      # 2 (standard error 메세지)는 /dev/null(쓰레기통)으로 보내라"
      ],
      "metadata": {
        "colab": {
          "base_uri": "https://localhost:8080/"
        },
        "id": "n2WOrXj2k6iU",
        "outputId": "f963a9a7-80e3-42aa-e0cb-bf882b194bed"
      },
      "execution_count": null,
      "outputs": [
        {
          "output_type": "stream",
          "name": "stdout",
          "text": [
            "실제값 : 18.5, 예측값 :  26.11\n"
          ]
        }
      ]
    },
    {
      "cell_type": "code",
      "source": [
        ""
      ],
      "metadata": {
        "id": "xmF033WNk-xZ"
      },
      "execution_count": null,
      "outputs": []
    }
  ]
}