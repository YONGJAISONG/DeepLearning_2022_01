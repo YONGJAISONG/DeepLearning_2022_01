{
  "nbformat": 4,
  "nbformat_minor": 0,
  "metadata": {
    "colab": {
      "name": "송용재_0.8492.ipynb",
      "provenance": [],
      "collapsed_sections": [
        "zadwSkAjoy1Y",
        "p-vpecpwwsNM",
        "QR5q60mz0YXE",
        "VOMOPLsx0cx7",
        "NdwsGQNM0_1B",
        "ZYH0NVoY1F7U",
        "zt_EuzSy1x8V",
        "QzEZORZS2S2N",
        "fNzWo5Gh2mAQ",
        "KQ60zN583SdB",
        "5ElTyrSW5Yy4",
        "Sq0Ij1RM4r_p"
      ]
    },
    "kernelspec": {
      "name": "python3",
      "display_name": "Python 3"
    },
    "language_info": {
      "name": "python"
    }
  },
  "cells": [
    {
      "cell_type": "markdown",
      "source": [
        "# 타이타닉 데이터 이진분류 정확도 경시대회\n",
        "- Seaborn titanic data : 전처리는 ML에서 했던대로 할 것\n",
        "- random seed = 2022\n",
        "- train_test_split : test_size = 0.2\n",
        "- validation_split = 0.2\n",
        "\n",
        "신경망을 사용해서 정확도를 도출  \n",
        "모델 정의/설정/실행/학습 --> 임의로 결정\n",
        "\n",
        "파일 이름 : 이름 0.8934.html의 형식으로"
      ],
      "metadata": {
        "id": "zadwSkAjoy1Y"
      }
    },
    {
      "cell_type": "code",
      "execution_count": null,
      "metadata": {
        "id": "DG3Zelt-ouoe"
      },
      "outputs": [],
      "source": [
        ""
      ]
    },
    {
      "cell_type": "markdown",
      "source": [
        "# 1. 필요한 모듈 불러오기 및 데이터 로딩"
      ],
      "metadata": {
        "id": "p-vpecpwwsNM"
      }
    },
    {
      "cell_type": "code",
      "source": [
        "import numpy as np\n",
        "import pandas as pd\n",
        "import matplotlib.pyplot as plt\n",
        "import seaborn as sns\n",
        "import tensorflow as tf\n",
        "\n",
        "# 관습적으로 쓰기도 한다\n",
        "seed = 2022\n",
        "np.random.seed(seed)\n",
        "tf.random.set_seed(seed)"
      ],
      "metadata": {
        "id": "hJq-NuHHwyQj"
      },
      "execution_count": 1,
      "outputs": []
    },
    {
      "cell_type": "code",
      "source": [
        "df = sns.load_dataset('titanic')\n",
        "df.head()"
      ],
      "metadata": {
        "colab": {
          "base_uri": "https://localhost:8080/",
          "height": 206
        },
        "id": "SNYt1oKhyTeJ",
        "outputId": "700687f4-da20-4e61-d841-6e1791e77a4c"
      },
      "execution_count": 17,
      "outputs": [
        {
          "output_type": "execute_result",
          "data": {
            "text/html": [
              "\n",
              "  <div id=\"df-1c9cffab-3446-4554-b9b6-58b99d3fa1ca\">\n",
              "    <div class=\"colab-df-container\">\n",
              "      <div>\n",
              "<style scoped>\n",
              "    .dataframe tbody tr th:only-of-type {\n",
              "        vertical-align: middle;\n",
              "    }\n",
              "\n",
              "    .dataframe tbody tr th {\n",
              "        vertical-align: top;\n",
              "    }\n",
              "\n",
              "    .dataframe thead th {\n",
              "        text-align: right;\n",
              "    }\n",
              "</style>\n",
              "<table border=\"1\" class=\"dataframe\">\n",
              "  <thead>\n",
              "    <tr style=\"text-align: right;\">\n",
              "      <th></th>\n",
              "      <th>survived</th>\n",
              "      <th>pclass</th>\n",
              "      <th>sex</th>\n",
              "      <th>age</th>\n",
              "      <th>sibsp</th>\n",
              "      <th>parch</th>\n",
              "      <th>fare</th>\n",
              "      <th>embarked</th>\n",
              "      <th>class</th>\n",
              "      <th>who</th>\n",
              "      <th>adult_male</th>\n",
              "      <th>deck</th>\n",
              "      <th>embark_town</th>\n",
              "      <th>alive</th>\n",
              "      <th>alone</th>\n",
              "    </tr>\n",
              "  </thead>\n",
              "  <tbody>\n",
              "    <tr>\n",
              "      <th>0</th>\n",
              "      <td>0</td>\n",
              "      <td>3</td>\n",
              "      <td>male</td>\n",
              "      <td>22.0</td>\n",
              "      <td>1</td>\n",
              "      <td>0</td>\n",
              "      <td>7.2500</td>\n",
              "      <td>S</td>\n",
              "      <td>Third</td>\n",
              "      <td>man</td>\n",
              "      <td>True</td>\n",
              "      <td>NaN</td>\n",
              "      <td>Southampton</td>\n",
              "      <td>no</td>\n",
              "      <td>False</td>\n",
              "    </tr>\n",
              "    <tr>\n",
              "      <th>1</th>\n",
              "      <td>1</td>\n",
              "      <td>1</td>\n",
              "      <td>female</td>\n",
              "      <td>38.0</td>\n",
              "      <td>1</td>\n",
              "      <td>0</td>\n",
              "      <td>71.2833</td>\n",
              "      <td>C</td>\n",
              "      <td>First</td>\n",
              "      <td>woman</td>\n",
              "      <td>False</td>\n",
              "      <td>C</td>\n",
              "      <td>Cherbourg</td>\n",
              "      <td>yes</td>\n",
              "      <td>False</td>\n",
              "    </tr>\n",
              "    <tr>\n",
              "      <th>2</th>\n",
              "      <td>1</td>\n",
              "      <td>3</td>\n",
              "      <td>female</td>\n",
              "      <td>26.0</td>\n",
              "      <td>0</td>\n",
              "      <td>0</td>\n",
              "      <td>7.9250</td>\n",
              "      <td>S</td>\n",
              "      <td>Third</td>\n",
              "      <td>woman</td>\n",
              "      <td>False</td>\n",
              "      <td>NaN</td>\n",
              "      <td>Southampton</td>\n",
              "      <td>yes</td>\n",
              "      <td>True</td>\n",
              "    </tr>\n",
              "    <tr>\n",
              "      <th>3</th>\n",
              "      <td>1</td>\n",
              "      <td>1</td>\n",
              "      <td>female</td>\n",
              "      <td>35.0</td>\n",
              "      <td>1</td>\n",
              "      <td>0</td>\n",
              "      <td>53.1000</td>\n",
              "      <td>S</td>\n",
              "      <td>First</td>\n",
              "      <td>woman</td>\n",
              "      <td>False</td>\n",
              "      <td>C</td>\n",
              "      <td>Southampton</td>\n",
              "      <td>yes</td>\n",
              "      <td>False</td>\n",
              "    </tr>\n",
              "    <tr>\n",
              "      <th>4</th>\n",
              "      <td>0</td>\n",
              "      <td>3</td>\n",
              "      <td>male</td>\n",
              "      <td>35.0</td>\n",
              "      <td>0</td>\n",
              "      <td>0</td>\n",
              "      <td>8.0500</td>\n",
              "      <td>S</td>\n",
              "      <td>Third</td>\n",
              "      <td>man</td>\n",
              "      <td>True</td>\n",
              "      <td>NaN</td>\n",
              "      <td>Southampton</td>\n",
              "      <td>no</td>\n",
              "      <td>True</td>\n",
              "    </tr>\n",
              "  </tbody>\n",
              "</table>\n",
              "</div>\n",
              "      <button class=\"colab-df-convert\" onclick=\"convertToInteractive('df-1c9cffab-3446-4554-b9b6-58b99d3fa1ca')\"\n",
              "              title=\"Convert this dataframe to an interactive table.\"\n",
              "              style=\"display:none;\">\n",
              "        \n",
              "  <svg xmlns=\"http://www.w3.org/2000/svg\" height=\"24px\"viewBox=\"0 0 24 24\"\n",
              "       width=\"24px\">\n",
              "    <path d=\"M0 0h24v24H0V0z\" fill=\"none\"/>\n",
              "    <path d=\"M18.56 5.44l.94 2.06.94-2.06 2.06-.94-2.06-.94-.94-2.06-.94 2.06-2.06.94zm-11 1L8.5 8.5l.94-2.06 2.06-.94-2.06-.94L8.5 2.5l-.94 2.06-2.06.94zm10 10l.94 2.06.94-2.06 2.06-.94-2.06-.94-.94-2.06-.94 2.06-2.06.94z\"/><path d=\"M17.41 7.96l-1.37-1.37c-.4-.4-.92-.59-1.43-.59-.52 0-1.04.2-1.43.59L10.3 9.45l-7.72 7.72c-.78.78-.78 2.05 0 2.83L4 21.41c.39.39.9.59 1.41.59.51 0 1.02-.2 1.41-.59l7.78-7.78 2.81-2.81c.8-.78.8-2.07 0-2.86zM5.41 20L4 18.59l7.72-7.72 1.47 1.35L5.41 20z\"/>\n",
              "  </svg>\n",
              "      </button>\n",
              "      \n",
              "  <style>\n",
              "    .colab-df-container {\n",
              "      display:flex;\n",
              "      flex-wrap:wrap;\n",
              "      gap: 12px;\n",
              "    }\n",
              "\n",
              "    .colab-df-convert {\n",
              "      background-color: #E8F0FE;\n",
              "      border: none;\n",
              "      border-radius: 50%;\n",
              "      cursor: pointer;\n",
              "      display: none;\n",
              "      fill: #1967D2;\n",
              "      height: 32px;\n",
              "      padding: 0 0 0 0;\n",
              "      width: 32px;\n",
              "    }\n",
              "\n",
              "    .colab-df-convert:hover {\n",
              "      background-color: #E2EBFA;\n",
              "      box-shadow: 0px 1px 2px rgba(60, 64, 67, 0.3), 0px 1px 3px 1px rgba(60, 64, 67, 0.15);\n",
              "      fill: #174EA6;\n",
              "    }\n",
              "\n",
              "    [theme=dark] .colab-df-convert {\n",
              "      background-color: #3B4455;\n",
              "      fill: #D2E3FC;\n",
              "    }\n",
              "\n",
              "    [theme=dark] .colab-df-convert:hover {\n",
              "      background-color: #434B5C;\n",
              "      box-shadow: 0px 1px 3px 1px rgba(0, 0, 0, 0.15);\n",
              "      filter: drop-shadow(0px 1px 2px rgba(0, 0, 0, 0.3));\n",
              "      fill: #FFFFFF;\n",
              "    }\n",
              "  </style>\n",
              "\n",
              "      <script>\n",
              "        const buttonEl =\n",
              "          document.querySelector('#df-1c9cffab-3446-4554-b9b6-58b99d3fa1ca button.colab-df-convert');\n",
              "        buttonEl.style.display =\n",
              "          google.colab.kernel.accessAllowed ? 'block' : 'none';\n",
              "\n",
              "        async function convertToInteractive(key) {\n",
              "          const element = document.querySelector('#df-1c9cffab-3446-4554-b9b6-58b99d3fa1ca');\n",
              "          const dataTable =\n",
              "            await google.colab.kernel.invokeFunction('convertToInteractive',\n",
              "                                                     [key], {});\n",
              "          if (!dataTable) return;\n",
              "\n",
              "          const docLinkHtml = 'Like what you see? Visit the ' +\n",
              "            '<a target=\"_blank\" href=https://colab.research.google.com/notebooks/data_table.ipynb>data table notebook</a>'\n",
              "            + ' to learn more about interactive tables.';\n",
              "          element.innerHTML = '';\n",
              "          dataTable['output_type'] = 'display_data';\n",
              "          await google.colab.output.renderOutput(dataTable, element);\n",
              "          const docLink = document.createElement('div');\n",
              "          docLink.innerHTML = docLinkHtml;\n",
              "          element.appendChild(docLink);\n",
              "        }\n",
              "      </script>\n",
              "    </div>\n",
              "  </div>\n",
              "  "
            ],
            "text/plain": [
              "   survived  pclass     sex   age  ...  deck  embark_town  alive  alone\n",
              "0         0       3    male  22.0  ...   NaN  Southampton     no  False\n",
              "1         1       1  female  38.0  ...     C    Cherbourg    yes  False\n",
              "2         1       3  female  26.0  ...   NaN  Southampton    yes   True\n",
              "3         1       1  female  35.0  ...     C  Southampton    yes  False\n",
              "4         0       3    male  35.0  ...   NaN  Southampton     no   True\n",
              "\n",
              "[5 rows x 15 columns]"
            ]
          },
          "metadata": {},
          "execution_count": 17
        }
      ]
    },
    {
      "cell_type": "markdown",
      "source": [
        "# 2. 데이터 전처리"
      ],
      "metadata": {
        "id": "QR5q60mz0YXE"
      }
    },
    {
      "cell_type": "markdown",
      "source": [
        "### 1) 필요한 컬럼 추리기"
      ],
      "metadata": {
        "id": "VOMOPLsx0cx7"
      }
    },
    {
      "cell_type": "code",
      "source": [
        "df = df[['survived', 'pclass', 'sex', 'age', 'sibsp', 'parch', 'fare', 'embarked', 'deck']]\n",
        "df.head(6)"
      ],
      "metadata": {
        "colab": {
          "base_uri": "https://localhost:8080/",
          "height": 238
        },
        "id": "V60bqPZ-yhvO",
        "outputId": "eafa2eb9-10c6-4e06-bdd8-f8e29785bdd0"
      },
      "execution_count": 18,
      "outputs": [
        {
          "output_type": "execute_result",
          "data": {
            "text/html": [
              "\n",
              "  <div id=\"df-4c12c0c6-1a68-4226-bd1d-3b2b47cefb83\">\n",
              "    <div class=\"colab-df-container\">\n",
              "      <div>\n",
              "<style scoped>\n",
              "    .dataframe tbody tr th:only-of-type {\n",
              "        vertical-align: middle;\n",
              "    }\n",
              "\n",
              "    .dataframe tbody tr th {\n",
              "        vertical-align: top;\n",
              "    }\n",
              "\n",
              "    .dataframe thead th {\n",
              "        text-align: right;\n",
              "    }\n",
              "</style>\n",
              "<table border=\"1\" class=\"dataframe\">\n",
              "  <thead>\n",
              "    <tr style=\"text-align: right;\">\n",
              "      <th></th>\n",
              "      <th>survived</th>\n",
              "      <th>pclass</th>\n",
              "      <th>sex</th>\n",
              "      <th>age</th>\n",
              "      <th>sibsp</th>\n",
              "      <th>parch</th>\n",
              "      <th>fare</th>\n",
              "      <th>embarked</th>\n",
              "      <th>deck</th>\n",
              "    </tr>\n",
              "  </thead>\n",
              "  <tbody>\n",
              "    <tr>\n",
              "      <th>0</th>\n",
              "      <td>0</td>\n",
              "      <td>3</td>\n",
              "      <td>male</td>\n",
              "      <td>22.0</td>\n",
              "      <td>1</td>\n",
              "      <td>0</td>\n",
              "      <td>7.2500</td>\n",
              "      <td>S</td>\n",
              "      <td>NaN</td>\n",
              "    </tr>\n",
              "    <tr>\n",
              "      <th>1</th>\n",
              "      <td>1</td>\n",
              "      <td>1</td>\n",
              "      <td>female</td>\n",
              "      <td>38.0</td>\n",
              "      <td>1</td>\n",
              "      <td>0</td>\n",
              "      <td>71.2833</td>\n",
              "      <td>C</td>\n",
              "      <td>C</td>\n",
              "    </tr>\n",
              "    <tr>\n",
              "      <th>2</th>\n",
              "      <td>1</td>\n",
              "      <td>3</td>\n",
              "      <td>female</td>\n",
              "      <td>26.0</td>\n",
              "      <td>0</td>\n",
              "      <td>0</td>\n",
              "      <td>7.9250</td>\n",
              "      <td>S</td>\n",
              "      <td>NaN</td>\n",
              "    </tr>\n",
              "    <tr>\n",
              "      <th>3</th>\n",
              "      <td>1</td>\n",
              "      <td>1</td>\n",
              "      <td>female</td>\n",
              "      <td>35.0</td>\n",
              "      <td>1</td>\n",
              "      <td>0</td>\n",
              "      <td>53.1000</td>\n",
              "      <td>S</td>\n",
              "      <td>C</td>\n",
              "    </tr>\n",
              "    <tr>\n",
              "      <th>4</th>\n",
              "      <td>0</td>\n",
              "      <td>3</td>\n",
              "      <td>male</td>\n",
              "      <td>35.0</td>\n",
              "      <td>0</td>\n",
              "      <td>0</td>\n",
              "      <td>8.0500</td>\n",
              "      <td>S</td>\n",
              "      <td>NaN</td>\n",
              "    </tr>\n",
              "    <tr>\n",
              "      <th>5</th>\n",
              "      <td>0</td>\n",
              "      <td>3</td>\n",
              "      <td>male</td>\n",
              "      <td>NaN</td>\n",
              "      <td>0</td>\n",
              "      <td>0</td>\n",
              "      <td>8.4583</td>\n",
              "      <td>Q</td>\n",
              "      <td>NaN</td>\n",
              "    </tr>\n",
              "  </tbody>\n",
              "</table>\n",
              "</div>\n",
              "      <button class=\"colab-df-convert\" onclick=\"convertToInteractive('df-4c12c0c6-1a68-4226-bd1d-3b2b47cefb83')\"\n",
              "              title=\"Convert this dataframe to an interactive table.\"\n",
              "              style=\"display:none;\">\n",
              "        \n",
              "  <svg xmlns=\"http://www.w3.org/2000/svg\" height=\"24px\"viewBox=\"0 0 24 24\"\n",
              "       width=\"24px\">\n",
              "    <path d=\"M0 0h24v24H0V0z\" fill=\"none\"/>\n",
              "    <path d=\"M18.56 5.44l.94 2.06.94-2.06 2.06-.94-2.06-.94-.94-2.06-.94 2.06-2.06.94zm-11 1L8.5 8.5l.94-2.06 2.06-.94-2.06-.94L8.5 2.5l-.94 2.06-2.06.94zm10 10l.94 2.06.94-2.06 2.06-.94-2.06-.94-.94-2.06-.94 2.06-2.06.94z\"/><path d=\"M17.41 7.96l-1.37-1.37c-.4-.4-.92-.59-1.43-.59-.52 0-1.04.2-1.43.59L10.3 9.45l-7.72 7.72c-.78.78-.78 2.05 0 2.83L4 21.41c.39.39.9.59 1.41.59.51 0 1.02-.2 1.41-.59l7.78-7.78 2.81-2.81c.8-.78.8-2.07 0-2.86zM5.41 20L4 18.59l7.72-7.72 1.47 1.35L5.41 20z\"/>\n",
              "  </svg>\n",
              "      </button>\n",
              "      \n",
              "  <style>\n",
              "    .colab-df-container {\n",
              "      display:flex;\n",
              "      flex-wrap:wrap;\n",
              "      gap: 12px;\n",
              "    }\n",
              "\n",
              "    .colab-df-convert {\n",
              "      background-color: #E8F0FE;\n",
              "      border: none;\n",
              "      border-radius: 50%;\n",
              "      cursor: pointer;\n",
              "      display: none;\n",
              "      fill: #1967D2;\n",
              "      height: 32px;\n",
              "      padding: 0 0 0 0;\n",
              "      width: 32px;\n",
              "    }\n",
              "\n",
              "    .colab-df-convert:hover {\n",
              "      background-color: #E2EBFA;\n",
              "      box-shadow: 0px 1px 2px rgba(60, 64, 67, 0.3), 0px 1px 3px 1px rgba(60, 64, 67, 0.15);\n",
              "      fill: #174EA6;\n",
              "    }\n",
              "\n",
              "    [theme=dark] .colab-df-convert {\n",
              "      background-color: #3B4455;\n",
              "      fill: #D2E3FC;\n",
              "    }\n",
              "\n",
              "    [theme=dark] .colab-df-convert:hover {\n",
              "      background-color: #434B5C;\n",
              "      box-shadow: 0px 1px 3px 1px rgba(0, 0, 0, 0.15);\n",
              "      filter: drop-shadow(0px 1px 2px rgba(0, 0, 0, 0.3));\n",
              "      fill: #FFFFFF;\n",
              "    }\n",
              "  </style>\n",
              "\n",
              "      <script>\n",
              "        const buttonEl =\n",
              "          document.querySelector('#df-4c12c0c6-1a68-4226-bd1d-3b2b47cefb83 button.colab-df-convert');\n",
              "        buttonEl.style.display =\n",
              "          google.colab.kernel.accessAllowed ? 'block' : 'none';\n",
              "\n",
              "        async function convertToInteractive(key) {\n",
              "          const element = document.querySelector('#df-4c12c0c6-1a68-4226-bd1d-3b2b47cefb83');\n",
              "          const dataTable =\n",
              "            await google.colab.kernel.invokeFunction('convertToInteractive',\n",
              "                                                     [key], {});\n",
              "          if (!dataTable) return;\n",
              "\n",
              "          const docLinkHtml = 'Like what you see? Visit the ' +\n",
              "            '<a target=\"_blank\" href=https://colab.research.google.com/notebooks/data_table.ipynb>data table notebook</a>'\n",
              "            + ' to learn more about interactive tables.';\n",
              "          element.innerHTML = '';\n",
              "          dataTable['output_type'] = 'display_data';\n",
              "          await google.colab.output.renderOutput(dataTable, element);\n",
              "          const docLink = document.createElement('div');\n",
              "          docLink.innerHTML = docLinkHtml;\n",
              "          element.appendChild(docLink);\n",
              "        }\n",
              "      </script>\n",
              "    </div>\n",
              "  </div>\n",
              "  "
            ],
            "text/plain": [
              "   survived  pclass     sex   age  sibsp  parch     fare embarked deck\n",
              "0         0       3    male  22.0      1      0   7.2500        S  NaN\n",
              "1         1       1  female  38.0      1      0  71.2833        C    C\n",
              "2         1       3  female  26.0      0      0   7.9250        S  NaN\n",
              "3         1       1  female  35.0      1      0  53.1000        S    C\n",
              "4         0       3    male  35.0      0      0   8.0500        S  NaN\n",
              "5         0       3    male   NaN      0      0   8.4583        Q  NaN"
            ]
          },
          "metadata": {},
          "execution_count": 18
        }
      ]
    },
    {
      "cell_type": "markdown",
      "source": [
        "### 2) 결측값 확인 및 처리"
      ],
      "metadata": {
        "id": "NdwsGQNM0_1B"
      }
    },
    {
      "cell_type": "code",
      "source": [
        "df.isna().sum()"
      ],
      "metadata": {
        "colab": {
          "base_uri": "https://localhost:8080/"
        },
        "id": "LRaFSiuK09KY",
        "outputId": "1c72a009-e51a-4820-d4ef-c69b2e8d2f92"
      },
      "execution_count": 19,
      "outputs": [
        {
          "output_type": "execute_result",
          "data": {
            "text/plain": [
              "survived      0\n",
              "pclass        0\n",
              "sex           0\n",
              "age         177\n",
              "sibsp         0\n",
              "parch         0\n",
              "fare          0\n",
              "embarked      2\n",
              "deck        688\n",
              "dtype: int64"
            ]
          },
          "metadata": {},
          "execution_count": 19
        }
      ]
    },
    {
      "cell_type": "markdown",
      "source": [
        "#### embarked의 경우 최빈값으로 대체"
      ],
      "metadata": {
        "id": "ZYH0NVoY1F7U"
      }
    },
    {
      "cell_type": "code",
      "source": [
        "df['embarked'].value_counts()"
      ],
      "metadata": {
        "colab": {
          "base_uri": "https://localhost:8080/"
        },
        "id": "6PTlCJdH1TWz",
        "outputId": "1a3536fb-0750-46eb-fb57-b1bd7479fd50"
      },
      "execution_count": 20,
      "outputs": [
        {
          "output_type": "execute_result",
          "data": {
            "text/plain": [
              "S    644\n",
              "C    168\n",
              "Q     77\n",
              "Name: embarked, dtype: int64"
            ]
          },
          "metadata": {},
          "execution_count": 20
        }
      ]
    },
    {
      "cell_type": "code",
      "source": [
        "df['embarked'].fillna('S', inplace=True)\n",
        "df.isna().sum()"
      ],
      "metadata": {
        "id": "wh5YVMAM1gjF"
      },
      "execution_count": null,
      "outputs": []
    },
    {
      "cell_type": "markdown",
      "source": [
        "#### age의 경우 평균값(소수 첫째자리)으로 대체"
      ],
      "metadata": {
        "id": "zt_EuzSy1x8V"
      }
    },
    {
      "cell_type": "code",
      "source": [
        "round(df['age'].mean(), 1)"
      ],
      "metadata": {
        "colab": {
          "base_uri": "https://localhost:8080/"
        },
        "id": "hl1f6RbP16rv",
        "outputId": "0335eb2b-d7b8-488d-ec48-f497f7b9f686"
      },
      "execution_count": 22,
      "outputs": [
        {
          "output_type": "execute_result",
          "data": {
            "text/plain": [
              "29.7"
            ]
          },
          "metadata": {},
          "execution_count": 22
        }
      ]
    },
    {
      "cell_type": "code",
      "source": [
        "df['age'].fillna(round(df['age'].mean(), 1), inplace=True)\n",
        "df.head(6)"
      ],
      "metadata": {
        "id": "GRpb53Hs19M1"
      },
      "execution_count": null,
      "outputs": []
    },
    {
      "cell_type": "markdown",
      "source": [
        "#### deck 컬럼의 경우 결측치가 너무 많으므로 삭제"
      ],
      "metadata": {
        "id": "QzEZORZS2S2N"
      }
    },
    {
      "cell_type": "code",
      "source": [
        "df.drop(columns=['deck'], inplace=True)\n",
        "df.head()"
      ],
      "metadata": {
        "colab": {
          "base_uri": "https://localhost:8080/",
          "height": 206
        },
        "id": "7gYBu3TM2e4W",
        "outputId": "64e6894a-f436-490d-e816-3d5e01d1097e"
      },
      "execution_count": 24,
      "outputs": [
        {
          "output_type": "execute_result",
          "data": {
            "text/html": [
              "\n",
              "  <div id=\"df-58205354-6535-498e-a803-1f16a7589820\">\n",
              "    <div class=\"colab-df-container\">\n",
              "      <div>\n",
              "<style scoped>\n",
              "    .dataframe tbody tr th:only-of-type {\n",
              "        vertical-align: middle;\n",
              "    }\n",
              "\n",
              "    .dataframe tbody tr th {\n",
              "        vertical-align: top;\n",
              "    }\n",
              "\n",
              "    .dataframe thead th {\n",
              "        text-align: right;\n",
              "    }\n",
              "</style>\n",
              "<table border=\"1\" class=\"dataframe\">\n",
              "  <thead>\n",
              "    <tr style=\"text-align: right;\">\n",
              "      <th></th>\n",
              "      <th>survived</th>\n",
              "      <th>pclass</th>\n",
              "      <th>sex</th>\n",
              "      <th>age</th>\n",
              "      <th>sibsp</th>\n",
              "      <th>parch</th>\n",
              "      <th>fare</th>\n",
              "      <th>embarked</th>\n",
              "    </tr>\n",
              "  </thead>\n",
              "  <tbody>\n",
              "    <tr>\n",
              "      <th>0</th>\n",
              "      <td>0</td>\n",
              "      <td>3</td>\n",
              "      <td>male</td>\n",
              "      <td>22.0</td>\n",
              "      <td>1</td>\n",
              "      <td>0</td>\n",
              "      <td>7.2500</td>\n",
              "      <td>S</td>\n",
              "    </tr>\n",
              "    <tr>\n",
              "      <th>1</th>\n",
              "      <td>1</td>\n",
              "      <td>1</td>\n",
              "      <td>female</td>\n",
              "      <td>38.0</td>\n",
              "      <td>1</td>\n",
              "      <td>0</td>\n",
              "      <td>71.2833</td>\n",
              "      <td>C</td>\n",
              "    </tr>\n",
              "    <tr>\n",
              "      <th>2</th>\n",
              "      <td>1</td>\n",
              "      <td>3</td>\n",
              "      <td>female</td>\n",
              "      <td>26.0</td>\n",
              "      <td>0</td>\n",
              "      <td>0</td>\n",
              "      <td>7.9250</td>\n",
              "      <td>S</td>\n",
              "    </tr>\n",
              "    <tr>\n",
              "      <th>3</th>\n",
              "      <td>1</td>\n",
              "      <td>1</td>\n",
              "      <td>female</td>\n",
              "      <td>35.0</td>\n",
              "      <td>1</td>\n",
              "      <td>0</td>\n",
              "      <td>53.1000</td>\n",
              "      <td>S</td>\n",
              "    </tr>\n",
              "    <tr>\n",
              "      <th>4</th>\n",
              "      <td>0</td>\n",
              "      <td>3</td>\n",
              "      <td>male</td>\n",
              "      <td>35.0</td>\n",
              "      <td>0</td>\n",
              "      <td>0</td>\n",
              "      <td>8.0500</td>\n",
              "      <td>S</td>\n",
              "    </tr>\n",
              "  </tbody>\n",
              "</table>\n",
              "</div>\n",
              "      <button class=\"colab-df-convert\" onclick=\"convertToInteractive('df-58205354-6535-498e-a803-1f16a7589820')\"\n",
              "              title=\"Convert this dataframe to an interactive table.\"\n",
              "              style=\"display:none;\">\n",
              "        \n",
              "  <svg xmlns=\"http://www.w3.org/2000/svg\" height=\"24px\"viewBox=\"0 0 24 24\"\n",
              "       width=\"24px\">\n",
              "    <path d=\"M0 0h24v24H0V0z\" fill=\"none\"/>\n",
              "    <path d=\"M18.56 5.44l.94 2.06.94-2.06 2.06-.94-2.06-.94-.94-2.06-.94 2.06-2.06.94zm-11 1L8.5 8.5l.94-2.06 2.06-.94-2.06-.94L8.5 2.5l-.94 2.06-2.06.94zm10 10l.94 2.06.94-2.06 2.06-.94-2.06-.94-.94-2.06-.94 2.06-2.06.94z\"/><path d=\"M17.41 7.96l-1.37-1.37c-.4-.4-.92-.59-1.43-.59-.52 0-1.04.2-1.43.59L10.3 9.45l-7.72 7.72c-.78.78-.78 2.05 0 2.83L4 21.41c.39.39.9.59 1.41.59.51 0 1.02-.2 1.41-.59l7.78-7.78 2.81-2.81c.8-.78.8-2.07 0-2.86zM5.41 20L4 18.59l7.72-7.72 1.47 1.35L5.41 20z\"/>\n",
              "  </svg>\n",
              "      </button>\n",
              "      \n",
              "  <style>\n",
              "    .colab-df-container {\n",
              "      display:flex;\n",
              "      flex-wrap:wrap;\n",
              "      gap: 12px;\n",
              "    }\n",
              "\n",
              "    .colab-df-convert {\n",
              "      background-color: #E8F0FE;\n",
              "      border: none;\n",
              "      border-radius: 50%;\n",
              "      cursor: pointer;\n",
              "      display: none;\n",
              "      fill: #1967D2;\n",
              "      height: 32px;\n",
              "      padding: 0 0 0 0;\n",
              "      width: 32px;\n",
              "    }\n",
              "\n",
              "    .colab-df-convert:hover {\n",
              "      background-color: #E2EBFA;\n",
              "      box-shadow: 0px 1px 2px rgba(60, 64, 67, 0.3), 0px 1px 3px 1px rgba(60, 64, 67, 0.15);\n",
              "      fill: #174EA6;\n",
              "    }\n",
              "\n",
              "    [theme=dark] .colab-df-convert {\n",
              "      background-color: #3B4455;\n",
              "      fill: #D2E3FC;\n",
              "    }\n",
              "\n",
              "    [theme=dark] .colab-df-convert:hover {\n",
              "      background-color: #434B5C;\n",
              "      box-shadow: 0px 1px 3px 1px rgba(0, 0, 0, 0.15);\n",
              "      filter: drop-shadow(0px 1px 2px rgba(0, 0, 0, 0.3));\n",
              "      fill: #FFFFFF;\n",
              "    }\n",
              "  </style>\n",
              "\n",
              "      <script>\n",
              "        const buttonEl =\n",
              "          document.querySelector('#df-58205354-6535-498e-a803-1f16a7589820 button.colab-df-convert');\n",
              "        buttonEl.style.display =\n",
              "          google.colab.kernel.accessAllowed ? 'block' : 'none';\n",
              "\n",
              "        async function convertToInteractive(key) {\n",
              "          const element = document.querySelector('#df-58205354-6535-498e-a803-1f16a7589820');\n",
              "          const dataTable =\n",
              "            await google.colab.kernel.invokeFunction('convertToInteractive',\n",
              "                                                     [key], {});\n",
              "          if (!dataTable) return;\n",
              "\n",
              "          const docLinkHtml = 'Like what you see? Visit the ' +\n",
              "            '<a target=\"_blank\" href=https://colab.research.google.com/notebooks/data_table.ipynb>data table notebook</a>'\n",
              "            + ' to learn more about interactive tables.';\n",
              "          element.innerHTML = '';\n",
              "          dataTable['output_type'] = 'display_data';\n",
              "          await google.colab.output.renderOutput(dataTable, element);\n",
              "          const docLink = document.createElement('div');\n",
              "          docLink.innerHTML = docLinkHtml;\n",
              "          element.appendChild(docLink);\n",
              "        }\n",
              "      </script>\n",
              "    </div>\n",
              "  </div>\n",
              "  "
            ],
            "text/plain": [
              "   survived  pclass     sex   age  sibsp  parch     fare embarked\n",
              "0         0       3    male  22.0      1      0   7.2500        S\n",
              "1         1       1  female  38.0      1      0  71.2833        C\n",
              "2         1       3  female  26.0      0      0   7.9250        S\n",
              "3         1       1  female  35.0      1      0  53.1000        S\n",
              "4         0       3    male  35.0      0      0   8.0500        S"
            ]
          },
          "metadata": {},
          "execution_count": 24
        }
      ]
    },
    {
      "cell_type": "markdown",
      "source": [
        "### 3) 데이터 인코딩 및 스케일링"
      ],
      "metadata": {
        "id": "fNzWo5Gh2mAQ"
      }
    },
    {
      "cell_type": "code",
      "source": [
        "df.info()"
      ],
      "metadata": {
        "colab": {
          "base_uri": "https://localhost:8080/"
        },
        "id": "zUaYBA4w3aVi",
        "outputId": "64e66085-ac09-4197-c1d7-b32ba615ddb1"
      },
      "execution_count": 25,
      "outputs": [
        {
          "output_type": "stream",
          "name": "stdout",
          "text": [
            "<class 'pandas.core.frame.DataFrame'>\n",
            "RangeIndex: 891 entries, 0 to 890\n",
            "Data columns (total 8 columns):\n",
            " #   Column    Non-Null Count  Dtype  \n",
            "---  ------    --------------  -----  \n",
            " 0   survived  891 non-null    int64  \n",
            " 1   pclass    891 non-null    int64  \n",
            " 2   sex       891 non-null    object \n",
            " 3   age       891 non-null    float64\n",
            " 4   sibsp     891 non-null    int64  \n",
            " 5   parch     891 non-null    int64  \n",
            " 6   fare      891 non-null    float64\n",
            " 7   embarked  891 non-null    object \n",
            "dtypes: float64(2), int64(4), object(2)\n",
            "memory usage: 55.8+ KB\n"
          ]
        }
      ]
    },
    {
      "cell_type": "markdown",
      "source": [
        "#### 'sex' , 'embarked' 컬럼의 경우 카테고리 값이므로 레이블 인코딩 실시"
      ],
      "metadata": {
        "id": "KQ60zN583SdB"
      }
    },
    {
      "cell_type": "code",
      "source": [
        "from sklearn.preprocessing import LabelEncoder\n",
        "\n",
        "le = LabelEncoder()\n",
        "le.fit(df['sex'])\n",
        "df['sex'] = le.transform(df['sex'])\n",
        "\n",
        "df['embarked'] = le.fit_transform(df['embarked'])\n",
        "df.head()"
      ],
      "metadata": {
        "colab": {
          "base_uri": "https://localhost:8080/",
          "height": 206
        },
        "id": "ITOOc2x83moh",
        "outputId": "21cf2eb5-cc69-4d17-a68b-ddbe4bf5939f"
      },
      "execution_count": 27,
      "outputs": [
        {
          "output_type": "execute_result",
          "data": {
            "text/html": [
              "\n",
              "  <div id=\"df-400cbba1-4f1c-4a9d-9625-3205fc01356d\">\n",
              "    <div class=\"colab-df-container\">\n",
              "      <div>\n",
              "<style scoped>\n",
              "    .dataframe tbody tr th:only-of-type {\n",
              "        vertical-align: middle;\n",
              "    }\n",
              "\n",
              "    .dataframe tbody tr th {\n",
              "        vertical-align: top;\n",
              "    }\n",
              "\n",
              "    .dataframe thead th {\n",
              "        text-align: right;\n",
              "    }\n",
              "</style>\n",
              "<table border=\"1\" class=\"dataframe\">\n",
              "  <thead>\n",
              "    <tr style=\"text-align: right;\">\n",
              "      <th></th>\n",
              "      <th>survived</th>\n",
              "      <th>pclass</th>\n",
              "      <th>sex</th>\n",
              "      <th>age</th>\n",
              "      <th>sibsp</th>\n",
              "      <th>parch</th>\n",
              "      <th>fare</th>\n",
              "      <th>embarked</th>\n",
              "    </tr>\n",
              "  </thead>\n",
              "  <tbody>\n",
              "    <tr>\n",
              "      <th>0</th>\n",
              "      <td>0</td>\n",
              "      <td>3</td>\n",
              "      <td>1</td>\n",
              "      <td>22.0</td>\n",
              "      <td>1</td>\n",
              "      <td>0</td>\n",
              "      <td>7.2500</td>\n",
              "      <td>2</td>\n",
              "    </tr>\n",
              "    <tr>\n",
              "      <th>1</th>\n",
              "      <td>1</td>\n",
              "      <td>1</td>\n",
              "      <td>0</td>\n",
              "      <td>38.0</td>\n",
              "      <td>1</td>\n",
              "      <td>0</td>\n",
              "      <td>71.2833</td>\n",
              "      <td>0</td>\n",
              "    </tr>\n",
              "    <tr>\n",
              "      <th>2</th>\n",
              "      <td>1</td>\n",
              "      <td>3</td>\n",
              "      <td>0</td>\n",
              "      <td>26.0</td>\n",
              "      <td>0</td>\n",
              "      <td>0</td>\n",
              "      <td>7.9250</td>\n",
              "      <td>2</td>\n",
              "    </tr>\n",
              "    <tr>\n",
              "      <th>3</th>\n",
              "      <td>1</td>\n",
              "      <td>1</td>\n",
              "      <td>0</td>\n",
              "      <td>35.0</td>\n",
              "      <td>1</td>\n",
              "      <td>0</td>\n",
              "      <td>53.1000</td>\n",
              "      <td>2</td>\n",
              "    </tr>\n",
              "    <tr>\n",
              "      <th>4</th>\n",
              "      <td>0</td>\n",
              "      <td>3</td>\n",
              "      <td>1</td>\n",
              "      <td>35.0</td>\n",
              "      <td>0</td>\n",
              "      <td>0</td>\n",
              "      <td>8.0500</td>\n",
              "      <td>2</td>\n",
              "    </tr>\n",
              "  </tbody>\n",
              "</table>\n",
              "</div>\n",
              "      <button class=\"colab-df-convert\" onclick=\"convertToInteractive('df-400cbba1-4f1c-4a9d-9625-3205fc01356d')\"\n",
              "              title=\"Convert this dataframe to an interactive table.\"\n",
              "              style=\"display:none;\">\n",
              "        \n",
              "  <svg xmlns=\"http://www.w3.org/2000/svg\" height=\"24px\"viewBox=\"0 0 24 24\"\n",
              "       width=\"24px\">\n",
              "    <path d=\"M0 0h24v24H0V0z\" fill=\"none\"/>\n",
              "    <path d=\"M18.56 5.44l.94 2.06.94-2.06 2.06-.94-2.06-.94-.94-2.06-.94 2.06-2.06.94zm-11 1L8.5 8.5l.94-2.06 2.06-.94-2.06-.94L8.5 2.5l-.94 2.06-2.06.94zm10 10l.94 2.06.94-2.06 2.06-.94-2.06-.94-.94-2.06-.94 2.06-2.06.94z\"/><path d=\"M17.41 7.96l-1.37-1.37c-.4-.4-.92-.59-1.43-.59-.52 0-1.04.2-1.43.59L10.3 9.45l-7.72 7.72c-.78.78-.78 2.05 0 2.83L4 21.41c.39.39.9.59 1.41.59.51 0 1.02-.2 1.41-.59l7.78-7.78 2.81-2.81c.8-.78.8-2.07 0-2.86zM5.41 20L4 18.59l7.72-7.72 1.47 1.35L5.41 20z\"/>\n",
              "  </svg>\n",
              "      </button>\n",
              "      \n",
              "  <style>\n",
              "    .colab-df-container {\n",
              "      display:flex;\n",
              "      flex-wrap:wrap;\n",
              "      gap: 12px;\n",
              "    }\n",
              "\n",
              "    .colab-df-convert {\n",
              "      background-color: #E8F0FE;\n",
              "      border: none;\n",
              "      border-radius: 50%;\n",
              "      cursor: pointer;\n",
              "      display: none;\n",
              "      fill: #1967D2;\n",
              "      height: 32px;\n",
              "      padding: 0 0 0 0;\n",
              "      width: 32px;\n",
              "    }\n",
              "\n",
              "    .colab-df-convert:hover {\n",
              "      background-color: #E2EBFA;\n",
              "      box-shadow: 0px 1px 2px rgba(60, 64, 67, 0.3), 0px 1px 3px 1px rgba(60, 64, 67, 0.15);\n",
              "      fill: #174EA6;\n",
              "    }\n",
              "\n",
              "    [theme=dark] .colab-df-convert {\n",
              "      background-color: #3B4455;\n",
              "      fill: #D2E3FC;\n",
              "    }\n",
              "\n",
              "    [theme=dark] .colab-df-convert:hover {\n",
              "      background-color: #434B5C;\n",
              "      box-shadow: 0px 1px 3px 1px rgba(0, 0, 0, 0.15);\n",
              "      filter: drop-shadow(0px 1px 2px rgba(0, 0, 0, 0.3));\n",
              "      fill: #FFFFFF;\n",
              "    }\n",
              "  </style>\n",
              "\n",
              "      <script>\n",
              "        const buttonEl =\n",
              "          document.querySelector('#df-400cbba1-4f1c-4a9d-9625-3205fc01356d button.colab-df-convert');\n",
              "        buttonEl.style.display =\n",
              "          google.colab.kernel.accessAllowed ? 'block' : 'none';\n",
              "\n",
              "        async function convertToInteractive(key) {\n",
              "          const element = document.querySelector('#df-400cbba1-4f1c-4a9d-9625-3205fc01356d');\n",
              "          const dataTable =\n",
              "            await google.colab.kernel.invokeFunction('convertToInteractive',\n",
              "                                                     [key], {});\n",
              "          if (!dataTable) return;\n",
              "\n",
              "          const docLinkHtml = 'Like what you see? Visit the ' +\n",
              "            '<a target=\"_blank\" href=https://colab.research.google.com/notebooks/data_table.ipynb>data table notebook</a>'\n",
              "            + ' to learn more about interactive tables.';\n",
              "          element.innerHTML = '';\n",
              "          dataTable['output_type'] = 'display_data';\n",
              "          await google.colab.output.renderOutput(dataTable, element);\n",
              "          const docLink = document.createElement('div');\n",
              "          docLink.innerHTML = docLinkHtml;\n",
              "          element.appendChild(docLink);\n",
              "        }\n",
              "      </script>\n",
              "    </div>\n",
              "  </div>\n",
              "  "
            ],
            "text/plain": [
              "   survived  pclass  sex   age  sibsp  parch     fare  embarked\n",
              "0         0       3    1  22.0      1      0   7.2500         2\n",
              "1         1       1    0  38.0      1      0  71.2833         0\n",
              "2         1       3    0  26.0      0      0   7.9250         2\n",
              "3         1       1    0  35.0      1      0  53.1000         2\n",
              "4         0       3    1  35.0      0      0   8.0500         2"
            ]
          },
          "metadata": {},
          "execution_count": 27
        }
      ]
    },
    {
      "cell_type": "markdown",
      "source": [
        "#### X, y값을 설정"
      ],
      "metadata": {
        "id": "5ElTyrSW5Yy4"
      }
    },
    {
      "cell_type": "code",
      "source": [
        "X = df.iloc[:, 1:].values\n",
        "y = df.iloc[:, 0].values"
      ],
      "metadata": {
        "id": "RwquHCFZ5YmI"
      },
      "execution_count": 30,
      "outputs": []
    },
    {
      "cell_type": "markdown",
      "source": [
        "#### X의 각 컬럼 범위 분포가 서로 다르므로 정규화 스케일링 실시"
      ],
      "metadata": {
        "id": "Sq0Ij1RM4r_p"
      }
    },
    {
      "cell_type": "code",
      "source": [
        "from sklearn.preprocessing import StandardScaler\n",
        "\n",
        "scaler = StandardScaler()\n",
        "scaler.fit(X)\n",
        "X_std = scaler.transform(X)"
      ],
      "metadata": {
        "id": "nAkRveRx5KIT"
      },
      "execution_count": 31,
      "outputs": []
    },
    {
      "cell_type": "markdown",
      "source": [
        "# 3. Train/Test 분리"
      ],
      "metadata": {
        "id": "92wqYBH16HiR"
      }
    },
    {
      "cell_type": "code",
      "source": [
        "from sklearn.model_selection import train_test_split\n",
        "\n",
        "X_train, X_test, y_train, y_test = train_test_split(\n",
        "    X_std, y, stratify = y, test_size = 0.2, random_state = 2022\n",
        ")\n",
        "X_train.shape, X_test.shape, y_train.shape, y_test.shape"
      ],
      "metadata": {
        "colab": {
          "base_uri": "https://localhost:8080/"
        },
        "id": "nsfoQVUX571W",
        "outputId": "25334c50-140c-4068-85ee-bc2e11171b44"
      },
      "execution_count": 34,
      "outputs": [
        {
          "output_type": "execute_result",
          "data": {
            "text/plain": [
              "((712, 7), (179, 7), (712,), (179,))"
            ]
          },
          "metadata": {},
          "execution_count": 34
        }
      ]
    },
    {
      "cell_type": "markdown",
      "source": [
        "# 4. Model 설정"
      ],
      "metadata": {
        "id": "25qyYDUA65bk"
      }
    },
    {
      "cell_type": "code",
      "source": [
        "from tensorflow.keras.models import Sequential\n",
        "from tensorflow.keras.layers import Dense"
      ],
      "metadata": {
        "id": "NgfP6r267FWS"
      },
      "execution_count": 35,
      "outputs": []
    },
    {
      "cell_type": "code",
      "source": [
        "model = Sequential([\n",
        "                    Dense(64, input_dim = 7, activation = 'relu'),\n",
        "                    Dense(32, activation = 'relu'),\n",
        "                    Dense(16, activation = 'relu'),\n",
        "                    Dense(8, activation = 'relu'),\n",
        "                    Dense(4, activation = 'relu'),\n",
        "                    Dense(1, activation = 'sigmoid')\n",
        "])\n",
        "model.summary()"
      ],
      "metadata": {
        "colab": {
          "base_uri": "https://localhost:8080/"
        },
        "id": "LAmHlYn17N59",
        "outputId": "fe953fbc-f673-4744-f9cc-027a0d4923b1"
      },
      "execution_count": 42,
      "outputs": [
        {
          "output_type": "stream",
          "name": "stdout",
          "text": [
            "Model: \"sequential_1\"\n",
            "_________________________________________________________________\n",
            " Layer (type)                Output Shape              Param #   \n",
            "=================================================================\n",
            " dense_6 (Dense)             (None, 64)                512       \n",
            "                                                                 \n",
            " dense_7 (Dense)             (None, 32)                2080      \n",
            "                                                                 \n",
            " dense_8 (Dense)             (None, 16)                528       \n",
            "                                                                 \n",
            " dense_9 (Dense)             (None, 8)                 136       \n",
            "                                                                 \n",
            " dense_10 (Dense)            (None, 4)                 36        \n",
            "                                                                 \n",
            " dense_11 (Dense)            (None, 1)                 5         \n",
            "                                                                 \n",
            "=================================================================\n",
            "Total params: 3,297\n",
            "Trainable params: 3,297\n",
            "Non-trainable params: 0\n",
            "_________________________________________________________________\n"
          ]
        }
      ]
    },
    {
      "cell_type": "code",
      "source": [
        "model.compile(optimizer='adam', loss = 'binary_crossentropy', metrics = ['accuracy'])\n",
        "hist = model.fit(X_train, y_train, validation_split=0.2, batch_size=50, epochs=200,\n",
        "                 verbose = 1, callbacks = [checkpoint])"
      ],
      "metadata": {
        "id": "n2MioDKm8A0y"
      },
      "execution_count": null,
      "outputs": []
    },
    {
      "cell_type": "code",
      "source": [
        "import os\n",
        "if not os.path.exists('model'):\n",
        "    os.mkdir('model')"
      ],
      "metadata": {
        "id": "mGsrBiFn8zz3"
      },
      "execution_count": 37,
      "outputs": []
    },
    {
      "cell_type": "code",
      "source": [
        "# model_path = 'model/best_titanic.h5'\n",
        "model_path = 'model/titanic_{epoch:03d}_{val_loss:.4f}.h5'"
      ],
      "metadata": {
        "id": "WOP7fSXv9WTg"
      },
      "execution_count": 38,
      "outputs": []
    },
    {
      "cell_type": "code",
      "source": [
        "from tensorflow.keras.callbacks import ModelCheckpoint\n",
        "checkpoint = ModelCheckpoint(\n",
        "    model_path, monitor = 'val_loss', save_best_only=True\n",
        ")\n",
        "\n",
        "# ModelCheckpoint(모델 저장경로, 모델 저장시 기준값, save_best_only여부)"
      ],
      "metadata": {
        "id": "61UE39r19y9e"
      },
      "execution_count": 39,
      "outputs": []
    },
    {
      "cell_type": "markdown",
      "source": [
        "# 5. Model 평가 및 학습과정 시각화"
      ],
      "metadata": {
        "id": "1ryQw59MAB7e"
      }
    },
    {
      "cell_type": "code",
      "source": [
        "from tensorflow.keras.models import load_model\n",
        "best_model_path = 'model/titanic_023_0.4565.h5'\n",
        "best_model = load_model(best_model_path)\n",
        "best_model.evaluate(X_test, y_test)"
      ],
      "metadata": {
        "colab": {
          "base_uri": "https://localhost:8080/"
        },
        "id": "YciF6EfA-02i",
        "outputId": "7e761d4f-a6cd-41d7-dba0-a926f24acb5b"
      },
      "execution_count": 44,
      "outputs": [
        {
          "output_type": "stream",
          "name": "stdout",
          "text": [
            "6/6 [==============================] - 0s 2ms/step - loss: 0.4031 - accuracy: 0.8268\n"
          ]
        },
        {
          "output_type": "execute_result",
          "data": {
            "text/plain": [
              "[0.40310925245285034, 0.826815664768219]"
            ]
          },
          "metadata": {},
          "execution_count": 44
        }
      ]
    },
    {
      "cell_type": "code",
      "source": [
        "y_acc = hist.history['accuracy']\n",
        "y_vloss = hist.history['val_loss']\n",
        "xs = np.arange(1, len(y_acc)+1)"
      ],
      "metadata": {
        "id": "zW-O7i50AtVt"
      },
      "execution_count": 46,
      "outputs": []
    },
    {
      "cell_type": "code",
      "source": [
        "plt.figure(figsize=(12, 8))\n",
        "plt.plot(xs, y_acc, ms=5, label = 'train accuracy')\n",
        "plt.plot(xs, y_vloss, ms=5, label = 'validation loss')\n",
        "plt.grid()\n",
        "plt.legend()\n",
        "plt.xlabel('Epoch')\n",
        "plt.show()"
      ],
      "metadata": {
        "colab": {
          "base_uri": "https://localhost:8080/",
          "height": 497
        },
        "id": "RplpQ-5yA88R",
        "outputId": "7e78bda9-0779-44cc-e681-1ffa4bdc03cf"
      },
      "execution_count": 47,
      "outputs": [
        {
          "output_type": "display_data",
          "data": {
            "image/png": "[encoded data removed]",
            "text/plain": [
              "<Figure size 864x576 with 1 Axes>"
            ]
          },
          "metadata": {
            "needs_background": "light"
          }
        }
      ]
    },
    {
      "cell_type": "markdown",
      "source": [
        "# 다른 모델 반복"
      ],
      "metadata": {
        "id": "hDA8Gbz6BznT"
      }
    },
    {
      "cell_type": "code",
      "source": [
        "model2 = Sequential([\n",
        "                    Dense(512, input_dim = 7, activation = 'relu'),\n",
        "                    Dense(256, activation = 'relu'),\n",
        "                    Dense(128, activation = 'relu'),\n",
        "                    Dense(64, activation = 'relu'),\n",
        "                    Dense(32, activation = 'relu'),\n",
        "                    Dense(1, activation = 'sigmoid')\n",
        "])\n",
        "model2.summary()"
      ],
      "metadata": {
        "colab": {
          "base_uri": "https://localhost:8080/"
        },
        "id": "9WRBpnvfBUpa",
        "outputId": "b6eb2462-67e8-4cc6-8ed1-d08fa865b0ce"
      },
      "execution_count": 65,
      "outputs": [
        {
          "output_type": "stream",
          "name": "stdout",
          "text": [
            "Model: \"sequential_6\"\n",
            "_________________________________________________________________\n",
            " Layer (type)                Output Shape              Param #   \n",
            "=================================================================\n",
            " dense_36 (Dense)            (None, 512)               4096      \n",
            "                                                                 \n",
            " dense_37 (Dense)            (None, 256)               131328    \n",
            "                                                                 \n",
            " dense_38 (Dense)            (None, 128)               32896     \n",
            "                                                                 \n",
            " dense_39 (Dense)            (None, 64)                8256      \n",
            "                                                                 \n",
            " dense_40 (Dense)            (None, 32)                2080      \n",
            "                                                                 \n",
            " dense_41 (Dense)            (None, 1)                 33        \n",
            "                                                                 \n",
            "=================================================================\n",
            "Total params: 178,689\n",
            "Trainable params: 178,689\n",
            "Non-trainable params: 0\n",
            "_________________________________________________________________\n"
          ]
        }
      ]
    },
    {
      "cell_type": "code",
      "source": [
        "model_path2 = 'model/best_titanic.h5'\n",
        "# model_path = 'model/titanic_{epoch:03d}_{val_loss:.4f}.h5'\n",
        "\n",
        "from tensorflow.keras.callbacks import ModelCheckpoint\n",
        "checkpoint = ModelCheckpoint(\n",
        "    model_path2, monitor = 'val_loss', save_best_only=True, verbose = 1\n",
        ")\n"
      ],
      "metadata": {
        "id": "2en68NPTCUsX"
      },
      "execution_count": 66,
      "outputs": []
    },
    {
      "cell_type": "code",
      "source": [
        "from tensorflow.keras.callbacks import EarlyStopping\n",
        "early_stopping = EarlyStopping(patience = 40)"
      ],
      "metadata": {
        "id": "S8S-AwfACaVl"
      },
      "execution_count": 67,
      "outputs": []
    },
    {
      "cell_type": "code",
      "source": [
        "model2.compile(optimizer='adam', loss = 'binary_crossentropy', metrics = ['accuracy'])\n",
        "hist2 = model2.fit(X_train, y_train, batch_size = 200, epochs = 400, validation_split=0.2,\n",
        "                   verbose = 0, callbacks = [checkpoint, early_stopping])"
      ],
      "metadata": {
        "colab": {
          "base_uri": "https://localhost:8080/"
        },
        "id": "WgFkCdGIB1_n",
        "outputId": "965aa422-459d-4466-85fc-38720f2a9bf4"
      },
      "execution_count": 68,
      "outputs": [
        {
          "output_type": "stream",
          "name": "stdout",
          "text": [
            "\n",
            "Epoch 00001: val_loss improved from inf to 0.62100, saving model to model/best_titanic.h5\n",
            "\n",
            "Epoch 00002: val_loss improved from 0.62100 to 0.54345, saving model to model/best_titanic.h5\n",
            "\n",
            "Epoch 00003: val_loss improved from 0.54345 to 0.49908, saving model to model/best_titanic.h5\n",
            "\n",
            "Epoch 00004: val_loss did not improve from 0.49908\n",
            "\n",
            "Epoch 00005: val_loss improved from 0.49908 to 0.49846, saving model to model/best_titanic.h5\n",
            "\n",
            "Epoch 00006: val_loss improved from 0.49846 to 0.47086, saving model to model/best_titanic.h5\n",
            "\n",
            "Epoch 00007: val_loss improved from 0.47086 to 0.45809, saving model to model/best_titanic.h5\n",
            "\n",
            "Epoch 00008: val_loss improved from 0.45809 to 0.45559, saving model to model/best_titanic.h5\n",
            "\n",
            "Epoch 00009: val_loss did not improve from 0.45559\n",
            "\n",
            "Epoch 00010: val_loss did not improve from 0.45559\n",
            "\n",
            "Epoch 00011: val_loss did not improve from 0.45559\n",
            "\n",
            "Epoch 00012: val_loss did not improve from 0.45559\n",
            "\n",
            "Epoch 00013: val_loss did not improve from 0.45559\n",
            "\n",
            "Epoch 00014: val_loss did not improve from 0.45559\n",
            "\n",
            "Epoch 00015: val_loss did not improve from 0.45559\n",
            "\n",
            "Epoch 00016: val_loss did not improve from 0.45559\n",
            "\n",
            "Epoch 00017: val_loss did not improve from 0.45559\n",
            "\n",
            "Epoch 00018: val_loss did not improve from 0.45559\n",
            "\n",
            "Epoch 00019: val_loss did not improve from 0.45559\n",
            "\n",
            "Epoch 00020: val_loss did not improve from 0.45559\n",
            "\n",
            "Epoch 00021: val_loss did not improve from 0.45559\n",
            "\n",
            "Epoch 00022: val_loss did not improve from 0.45559\n",
            "\n",
            "Epoch 00023: val_loss did not improve from 0.45559\n",
            "\n",
            "Epoch 00024: val_loss did not improve from 0.45559\n",
            "\n",
            "Epoch 00025: val_loss did not improve from 0.45559\n",
            "\n",
            "Epoch 00026: val_loss did not improve from 0.45559\n",
            "\n",
            "Epoch 00027: val_loss did not improve from 0.45559\n",
            "\n",
            "Epoch 00028: val_loss did not improve from 0.45559\n",
            "\n",
            "Epoch 00029: val_loss did not improve from 0.45559\n",
            "\n",
            "Epoch 00030: val_loss did not improve from 0.45559\n",
            "\n",
            "Epoch 00031: val_loss did not improve from 0.45559\n",
            "\n",
            "Epoch 00032: val_loss did not improve from 0.45559\n",
            "\n",
            "Epoch 00033: val_loss did not improve from 0.45559\n",
            "\n",
            "Epoch 00034: val_loss did not improve from 0.45559\n",
            "\n",
            "Epoch 00035: val_loss did not improve from 0.45559\n",
            "\n",
            "Epoch 00036: val_loss did not improve from 0.45559\n",
            "\n",
            "Epoch 00037: val_loss did not improve from 0.45559\n",
            "\n",
            "Epoch 00038: val_loss did not improve from 0.45559\n",
            "\n",
            "Epoch 00039: val_loss did not improve from 0.45559\n",
            "\n",
            "Epoch 00040: val_loss did not improve from 0.45559\n",
            "\n",
            "Epoch 00041: val_loss did not improve from 0.45559\n",
            "\n",
            "Epoch 00042: val_loss did not improve from 0.45559\n",
            "\n",
            "Epoch 00043: val_loss did not improve from 0.45559\n",
            "\n",
            "Epoch 00044: val_loss did not improve from 0.45559\n",
            "\n",
            "Epoch 00045: val_loss did not improve from 0.45559\n",
            "\n",
            "Epoch 00046: val_loss did not improve from 0.45559\n",
            "\n",
            "Epoch 00047: val_loss did not improve from 0.45559\n",
            "\n",
            "Epoch 00048: val_loss did not improve from 0.45559\n"
          ]
        }
      ]
    },
    {
      "cell_type": "code",
      "source": [
        "best_model2 = load_model(model_path2)\n",
        "best_model2.evaluate(X_test, y_test)"
      ],
      "metadata": {
        "colab": {
          "base_uri": "https://localhost:8080/"
        },
        "id": "Xc9YIaFoCo9J",
        "outputId": "fc649a38-f59b-449e-9e01-0a31d00db07b"
      },
      "execution_count": 69,
      "outputs": [
        {
          "output_type": "stream",
          "name": "stdout",
          "text": [
            "6/6 [==============================] - 0s 2ms/step - loss: 0.3982 - accuracy: 0.8380\n"
          ]
        },
        {
          "output_type": "execute_result",
          "data": {
            "text/plain": [
              "[0.39824411273002625, 0.8379888534545898]"
            ]
          },
          "metadata": {},
          "execution_count": 69
        }
      ]
    },
    {
      "cell_type": "code",
      "source": [
        "model3 = Sequential([\n",
        "                    Dense(512, input_dim = 7, activation = 'relu'),\n",
        "                    Dense(256, activation = 'relu'),\n",
        "                    Dense(128, activation = 'relu'),\n",
        "                    Dense(64, activation = 'relu'),\n",
        "                    Dense(32, activation = 'relu'),\n",
        "                    Dense(16, activation = 'relu'),\n",
        "                    Dense(1, activation = 'sigmoid')\n",
        "])\n",
        "model3.summary()"
      ],
      "metadata": {
        "colab": {
          "base_uri": "https://localhost:8080/"
        },
        "id": "WgA9jgmvErTE",
        "outputId": "cd4e81f8-8828-4598-f979-aa76d7e2e1eb"
      },
      "execution_count": 73,
      "outputs": [
        {
          "output_type": "stream",
          "name": "stdout",
          "text": [
            "Model: \"sequential_7\"\n",
            "_________________________________________________________________\n",
            " Layer (type)                Output Shape              Param #   \n",
            "=================================================================\n",
            " dense_42 (Dense)            (None, 512)               4096      \n",
            "                                                                 \n",
            " dense_43 (Dense)            (None, 256)               131328    \n",
            "                                                                 \n",
            " dense_44 (Dense)            (None, 128)               32896     \n",
            "                                                                 \n",
            " dense_45 (Dense)            (None, 64)                8256      \n",
            "                                                                 \n",
            " dense_46 (Dense)            (None, 32)                2080      \n",
            "                                                                 \n",
            " dense_47 (Dense)            (None, 16)                528       \n",
            "                                                                 \n",
            " dense_48 (Dense)            (None, 1)                 17        \n",
            "                                                                 \n",
            "=================================================================\n",
            "Total params: 179,201\n",
            "Trainable params: 179,201\n",
            "Non-trainable params: 0\n",
            "_________________________________________________________________\n"
          ]
        }
      ]
    },
    {
      "cell_type": "code",
      "source": [
        "model_path3 = 'model/best_titanic3.h5'\n",
        "# model_path = 'model/titanic_{epoch:03d}_{val_loss:.4f}.h5'\n",
        "\n",
        "from tensorflow.keras.callbacks import ModelCheckpoint\n",
        "checkpoint = ModelCheckpoint(\n",
        "    model_path3, monitor = 'val_loss', save_best_only=True, verbose = 1\n",
        ")\n"
      ],
      "metadata": {
        "id": "aPkF_VC2FF2T"
      },
      "execution_count": 74,
      "outputs": []
    },
    {
      "cell_type": "code",
      "source": [
        "model3.compile(optimizer='adam', loss = 'binary_crossentropy', metrics = ['accuracy'])\n",
        "hist3 = model3.fit(X_train, y_train, batch_size = 200, epochs = 400, validation_split=0.2,\n",
        "                   verbose = 0, callbacks = [checkpoint, early_stopping])"
      ],
      "metadata": {
        "colab": {
          "base_uri": "https://localhost:8080/"
        },
        "id": "xWuvpYIUFQFk",
        "outputId": "ee3ffac2-7c70-495a-ba0f-02600d38962a"
      },
      "execution_count": 75,
      "outputs": [
        {
          "output_type": "stream",
          "name": "stdout",
          "text": [
            "\n",
            "Epoch 00001: val_loss improved from inf to 0.65110, saving model to model/best_titanic3.h5\n",
            "\n",
            "Epoch 00002: val_loss improved from 0.65110 to 0.59534, saving model to model/best_titanic3.h5\n",
            "\n",
            "Epoch 00003: val_loss improved from 0.59534 to 0.53608, saving model to model/best_titanic3.h5\n",
            "\n",
            "Epoch 00004: val_loss improved from 0.53608 to 0.50611, saving model to model/best_titanic3.h5\n",
            "\n",
            "Epoch 00005: val_loss improved from 0.50611 to 0.50336, saving model to model/best_titanic3.h5\n",
            "\n",
            "Epoch 00006: val_loss improved from 0.50336 to 0.48566, saving model to model/best_titanic3.h5\n",
            "\n",
            "Epoch 00007: val_loss improved from 0.48566 to 0.46262, saving model to model/best_titanic3.h5\n",
            "\n",
            "Epoch 00008: val_loss improved from 0.46262 to 0.45353, saving model to model/best_titanic3.h5\n",
            "\n",
            "Epoch 00009: val_loss did not improve from 0.45353\n",
            "\n",
            "Epoch 00010: val_loss did not improve from 0.45353\n",
            "\n",
            "Epoch 00011: val_loss improved from 0.45353 to 0.45299, saving model to model/best_titanic3.h5\n",
            "\n",
            "Epoch 00012: val_loss did not improve from 0.45299\n",
            "\n",
            "Epoch 00013: val_loss did not improve from 0.45299\n",
            "\n",
            "Epoch 00014: val_loss did not improve from 0.45299\n",
            "\n",
            "Epoch 00015: val_loss did not improve from 0.45299\n",
            "\n",
            "Epoch 00016: val_loss did not improve from 0.45299\n",
            "\n",
            "Epoch 00017: val_loss did not improve from 0.45299\n",
            "\n",
            "Epoch 00018: val_loss did not improve from 0.45299\n",
            "\n",
            "Epoch 00019: val_loss did not improve from 0.45299\n",
            "\n",
            "Epoch 00020: val_loss did not improve from 0.45299\n",
            "\n",
            "Epoch 00021: val_loss did not improve from 0.45299\n",
            "\n",
            "Epoch 00022: val_loss did not improve from 0.45299\n",
            "\n",
            "Epoch 00023: val_loss did not improve from 0.45299\n",
            "\n",
            "Epoch 00024: val_loss did not improve from 0.45299\n",
            "\n",
            "Epoch 00025: val_loss did not improve from 0.45299\n",
            "\n",
            "Epoch 00026: val_loss did not improve from 0.45299\n",
            "\n",
            "Epoch 00027: val_loss did not improve from 0.45299\n",
            "\n",
            "Epoch 00028: val_loss did not improve from 0.45299\n",
            "\n",
            "Epoch 00029: val_loss did not improve from 0.45299\n",
            "\n",
            "Epoch 00030: val_loss did not improve from 0.45299\n",
            "\n",
            "Epoch 00031: val_loss did not improve from 0.45299\n",
            "\n",
            "Epoch 00032: val_loss did not improve from 0.45299\n",
            "\n",
            "Epoch 00033: val_loss did not improve from 0.45299\n",
            "\n",
            "Epoch 00034: val_loss did not improve from 0.45299\n",
            "\n",
            "Epoch 00035: val_loss did not improve from 0.45299\n",
            "\n",
            "Epoch 00036: val_loss did not improve from 0.45299\n",
            "\n",
            "Epoch 00037: val_loss did not improve from 0.45299\n",
            "\n",
            "Epoch 00038: val_loss did not improve from 0.45299\n",
            "\n",
            "Epoch 00039: val_loss did not improve from 0.45299\n",
            "\n",
            "Epoch 00040: val_loss did not improve from 0.45299\n",
            "\n",
            "Epoch 00041: val_loss did not improve from 0.45299\n",
            "\n",
            "Epoch 00042: val_loss did not improve from 0.45299\n",
            "\n",
            "Epoch 00043: val_loss did not improve from 0.45299\n",
            "\n",
            "Epoch 00044: val_loss did not improve from 0.45299\n",
            "\n",
            "Epoch 00045: val_loss did not improve from 0.45299\n",
            "\n",
            "Epoch 00046: val_loss did not improve from 0.45299\n",
            "\n",
            "Epoch 00047: val_loss did not improve from 0.45299\n",
            "\n",
            "Epoch 00048: val_loss did not improve from 0.45299\n",
            "\n",
            "Epoch 00049: val_loss did not improve from 0.45299\n",
            "\n",
            "Epoch 00050: val_loss did not improve from 0.45299\n",
            "\n",
            "Epoch 00051: val_loss did not improve from 0.45299\n"
          ]
        }
      ]
    },
    {
      "cell_type": "code",
      "source": [
        "best_model3 = load_model(model_path3)\n",
        "best_model3.evaluate(X_test, y_test)"
      ],
      "metadata": {
        "colab": {
          "base_uri": "https://localhost:8080/"
        },
        "id": "SoUyoO30FW29",
        "outputId": "6e5b2972-9211-4f08-e0ce-de8c750ff8fa"
      },
      "execution_count": 76,
      "outputs": [
        {
          "output_type": "stream",
          "name": "stdout",
          "text": [
            "6/6 [==============================] - 0s 2ms/step - loss: 0.4127 - accuracy: 0.8380\n"
          ]
        },
        {
          "output_type": "execute_result",
          "data": {
            "text/plain": [
              "[0.41265222430229187, 0.8379888534545898]"
            ]
          },
          "metadata": {},
          "execution_count": 76
        }
      ]
    },
    {
      "cell_type": "code",
      "source": [
        "model4 = Sequential([\n",
        "                    Dense(64, input_dim = 7, activation = 'relu'),\n",
        "                    Dense(32, activation = 'relu'),\n",
        "                    Dense(16, activation = 'relu'),\n",
        "                    Dense(8, activation = 'relu'),\n",
        "                    Dense(4, activation = 'relu'),\n",
        "                    Dense(1, activation = 'sigmoid')\n",
        "])\n",
        "model4.summary()"
      ],
      "metadata": {
        "colab": {
          "base_uri": "https://localhost:8080/"
        },
        "id": "iTLPjZX_FjuG",
        "outputId": "4bd002dd-69ec-4be9-8a76-c7beef076aa2"
      },
      "execution_count": 144,
      "outputs": [
        {
          "output_type": "stream",
          "name": "stdout",
          "text": [
            "Model: \"sequential_22\"\n",
            "_________________________________________________________________\n",
            " Layer (type)                Output Shape              Param #   \n",
            "=================================================================\n",
            " dense_172 (Dense)           (None, 64)                512       \n",
            "                                                                 \n",
            " dense_173 (Dense)           (None, 32)                2080      \n",
            "                                                                 \n",
            " dense_174 (Dense)           (None, 16)                528       \n",
            "                                                                 \n",
            " dense_175 (Dense)           (None, 8)                 136       \n",
            "                                                                 \n",
            " dense_176 (Dense)           (None, 4)                 36        \n",
            "                                                                 \n",
            " dense_177 (Dense)           (None, 1)                 5         \n",
            "                                                                 \n",
            "=================================================================\n",
            "Total params: 3,297\n",
            "Trainable params: 3,297\n",
            "Non-trainable params: 0\n",
            "_________________________________________________________________\n"
          ]
        }
      ]
    },
    {
      "cell_type": "code",
      "source": [
        "model_path4 = 'model/best_titanic4.h5'\n",
        "# model_path = 'model/titanic_{epoch:03d}_{val_loss:.4f}.h5'\n",
        "\n",
        "from tensorflow.keras.callbacks import ModelCheckpoint\n",
        "checkpoint = ModelCheckpoint(\n",
        "    model_path4, monitor = 'val_loss', save_best_only=True, verbose = 1\n",
        ")\n"
      ],
      "metadata": {
        "id": "80QODuHNF390"
      },
      "execution_count": 145,
      "outputs": []
    },
    {
      "cell_type": "code",
      "source": [
        "model4.compile(optimizer='adam', loss = 'binary_crossentropy', metrics = ['accuracy'])\n",
        "hist4 = model4.fit(X_train, y_train, batch_size = 200, epochs = 400, validation_split=0.2,\n",
        "                   verbose = 0, callbacks = [checkpoint, early_stopping])"
      ],
      "metadata": {
        "colab": {
          "base_uri": "https://localhost:8080/"
        },
        "id": "zZBYac43GHjr",
        "outputId": "17e11d22-25d4-4e4b-d24c-fc6ae2f66837"
      },
      "execution_count": 146,
      "outputs": [
        {
          "output_type": "stream",
          "name": "stdout",
          "text": [
            "\n",
            "Epoch 00001: val_loss improved from inf to 0.68389, saving model to model/best_titanic4.h5\n",
            "\n",
            "Epoch 00002: val_loss improved from 0.68389 to 0.67617, saving model to model/best_titanic4.h5\n",
            "\n",
            "Epoch 00003: val_loss improved from 0.67617 to 0.66988, saving model to model/best_titanic4.h5\n",
            "\n",
            "Epoch 00004: val_loss improved from 0.66988 to 0.66358, saving model to model/best_titanic4.h5\n",
            "\n",
            "Epoch 00005: val_loss improved from 0.66358 to 0.65648, saving model to model/best_titanic4.h5\n",
            "\n",
            "Epoch 00006: val_loss improved from 0.65648 to 0.64892, saving model to model/best_titanic4.h5\n",
            "\n",
            "Epoch 00007: val_loss improved from 0.64892 to 0.64139, saving model to model/best_titanic4.h5\n",
            "\n",
            "Epoch 00008: val_loss improved from 0.64139 to 0.63354, saving model to model/best_titanic4.h5\n",
            "\n",
            "Epoch 00009: val_loss improved from 0.63354 to 0.62497, saving model to model/best_titanic4.h5\n",
            "\n",
            "Epoch 00010: val_loss improved from 0.62497 to 0.61630, saving model to model/best_titanic4.h5\n",
            "\n",
            "Epoch 00011: val_loss improved from 0.61630 to 0.60764, saving model to model/best_titanic4.h5\n",
            "\n",
            "Epoch 00012: val_loss improved from 0.60764 to 0.59926, saving model to model/best_titanic4.h5\n",
            "\n",
            "Epoch 00013: val_loss improved from 0.59926 to 0.59060, saving model to model/best_titanic4.h5\n",
            "\n",
            "Epoch 00014: val_loss improved from 0.59060 to 0.58131, saving model to model/best_titanic4.h5\n",
            "\n",
            "Epoch 00015: val_loss improved from 0.58131 to 0.57124, saving model to model/best_titanic4.h5\n",
            "\n",
            "Epoch 00016: val_loss improved from 0.57124 to 0.56058, saving model to model/best_titanic4.h5\n",
            "\n",
            "Epoch 00017: val_loss improved from 0.56058 to 0.55135, saving model to model/best_titanic4.h5\n",
            "\n",
            "Epoch 00018: val_loss improved from 0.55135 to 0.54224, saving model to model/best_titanic4.h5\n",
            "\n",
            "Epoch 00019: val_loss improved from 0.54224 to 0.53331, saving model to model/best_titanic4.h5\n",
            "\n",
            "Epoch 00020: val_loss improved from 0.53331 to 0.52536, saving model to model/best_titanic4.h5\n",
            "\n",
            "Epoch 00021: val_loss improved from 0.52536 to 0.51834, saving model to model/best_titanic4.h5\n",
            "\n",
            "Epoch 00022: val_loss improved from 0.51834 to 0.51088, saving model to model/best_titanic4.h5\n",
            "\n",
            "Epoch 00023: val_loss improved from 0.51088 to 0.50318, saving model to model/best_titanic4.h5\n",
            "\n",
            "Epoch 00024: val_loss improved from 0.50318 to 0.49555, saving model to model/best_titanic4.h5\n",
            "\n",
            "Epoch 00025: val_loss improved from 0.49555 to 0.48963, saving model to model/best_titanic4.h5\n",
            "\n",
            "Epoch 00026: val_loss improved from 0.48963 to 0.48615, saving model to model/best_titanic4.h5\n",
            "\n",
            "Epoch 00027: val_loss improved from 0.48615 to 0.48213, saving model to model/best_titanic4.h5\n",
            "\n",
            "Epoch 00028: val_loss improved from 0.48213 to 0.47759, saving model to model/best_titanic4.h5\n",
            "\n",
            "Epoch 00029: val_loss improved from 0.47759 to 0.47464, saving model to model/best_titanic4.h5\n",
            "\n",
            "Epoch 00030: val_loss did not improve from 0.47464\n",
            "\n",
            "Epoch 00031: val_loss did not improve from 0.47464\n",
            "\n",
            "Epoch 00032: val_loss did not improve from 0.47464\n",
            "\n",
            "Epoch 00033: val_loss did not improve from 0.47464\n",
            "\n",
            "Epoch 00034: val_loss did not improve from 0.47464\n",
            "\n",
            "Epoch 00035: val_loss did not improve from 0.47464\n",
            "\n",
            "Epoch 00036: val_loss did not improve from 0.47464\n",
            "\n",
            "Epoch 00037: val_loss did not improve from 0.47464\n",
            "\n",
            "Epoch 00038: val_loss did not improve from 0.47464\n",
            "\n",
            "Epoch 00039: val_loss did not improve from 0.47464\n",
            "\n",
            "Epoch 00040: val_loss did not improve from 0.47464\n",
            "\n",
            "Epoch 00041: val_loss did not improve from 0.47464\n",
            "\n",
            "Epoch 00042: val_loss did not improve from 0.47464\n",
            "\n",
            "Epoch 00043: val_loss did not improve from 0.47464\n",
            "\n",
            "Epoch 00044: val_loss did not improve from 0.47464\n",
            "\n",
            "Epoch 00045: val_loss did not improve from 0.47464\n",
            "\n",
            "Epoch 00046: val_loss did not improve from 0.47464\n",
            "\n",
            "Epoch 00047: val_loss did not improve from 0.47464\n",
            "\n",
            "Epoch 00048: val_loss did not improve from 0.47464\n",
            "\n",
            "Epoch 00049: val_loss did not improve from 0.47464\n",
            "\n",
            "Epoch 00050: val_loss did not improve from 0.47464\n",
            "\n",
            "Epoch 00051: val_loss did not improve from 0.47464\n",
            "\n",
            "Epoch 00052: val_loss did not improve from 0.47464\n",
            "\n",
            "Epoch 00053: val_loss did not improve from 0.47464\n",
            "\n",
            "Epoch 00054: val_loss did not improve from 0.47464\n",
            "\n",
            "Epoch 00055: val_loss did not improve from 0.47464\n",
            "\n",
            "Epoch 00056: val_loss did not improve from 0.47464\n",
            "\n",
            "Epoch 00057: val_loss did not improve from 0.47464\n",
            "\n",
            "Epoch 00058: val_loss did not improve from 0.47464\n",
            "\n",
            "Epoch 00059: val_loss did not improve from 0.47464\n",
            "\n",
            "Epoch 00060: val_loss did not improve from 0.47464\n",
            "\n",
            "Epoch 00061: val_loss did not improve from 0.47464\n",
            "\n",
            "Epoch 00062: val_loss did not improve from 0.47464\n",
            "\n",
            "Epoch 00063: val_loss did not improve from 0.47464\n",
            "\n",
            "Epoch 00064: val_loss did not improve from 0.47464\n",
            "\n",
            "Epoch 00065: val_loss did not improve from 0.47464\n",
            "\n",
            "Epoch 00066: val_loss did not improve from 0.47464\n",
            "\n",
            "Epoch 00067: val_loss did not improve from 0.47464\n",
            "\n",
            "Epoch 00068: val_loss did not improve from 0.47464\n",
            "\n",
            "Epoch 00069: val_loss did not improve from 0.47464\n"
          ]
        }
      ]
    },
    {
      "cell_type": "code",
      "source": [
        "best_model4 = load_model(model_path4)\n",
        "best_model4.evaluate(X_test, y_test)"
      ],
      "metadata": {
        "colab": {
          "base_uri": "https://localhost:8080/"
        },
        "id": "yZFEOb2AGLre",
        "outputId": "06fad136-5276-493d-abae-fdf92d79be07"
      },
      "execution_count": 147,
      "outputs": [
        {
          "output_type": "stream",
          "name": "stdout",
          "text": [
            "6/6 [==============================] - 0s 2ms/step - loss: 0.4106 - accuracy: 0.8324\n"
          ]
        },
        {
          "output_type": "execute_result",
          "data": {
            "text/plain": [
              "[0.410617470741272, 0.832402229309082]"
            ]
          },
          "metadata": {},
          "execution_count": 147
        }
      ]
    },
    {
      "cell_type": "code",
      "source": [
        "model5 = Sequential([\n",
        "                    Dense(512, input_dim = 7, activation = 'relu'),\n",
        "                    Dense(256, activation = 'relu'),\n",
        "                    Dense(128, activation = 'relu'),\n",
        "                    Dense(64, activation = 'relu'),\n",
        "                    Dense(32, activation = 'relu'),\n",
        "                    Dense(16, activation = 'relu'),\n",
        "                    Dense(8, activation = 'relu'),\n",
        "                    Dense(4, activation = 'relu'),\n",
        "                    Dense(1, activation = 'sigmoid')\n",
        "])\n",
        "model5.summary()"
      ],
      "metadata": {
        "colab": {
          "base_uri": "https://localhost:8080/"
        },
        "id": "7VhnKE2EGRGH",
        "outputId": "e8c72cdc-ea73-4211-e2af-8fc7f543a92b"
      },
      "execution_count": 124,
      "outputs": [
        {
          "output_type": "stream",
          "name": "stdout",
          "text": [
            "Model: \"sequential_18\"\n",
            "_________________________________________________________________\n",
            " Layer (type)                Output Shape              Param #   \n",
            "=================================================================\n",
            " dense_142 (Dense)           (None, 512)               4096      \n",
            "                                                                 \n",
            " dense_143 (Dense)           (None, 256)               131328    \n",
            "                                                                 \n",
            " dense_144 (Dense)           (None, 128)               32896     \n",
            "                                                                 \n",
            " dense_145 (Dense)           (None, 64)                8256      \n",
            "                                                                 \n",
            " dense_146 (Dense)           (None, 32)                2080      \n",
            "                                                                 \n",
            " dense_147 (Dense)           (None, 16)                528       \n",
            "                                                                 \n",
            " dense_148 (Dense)           (None, 8)                 136       \n",
            "                                                                 \n",
            " dense_149 (Dense)           (None, 4)                 36        \n",
            "                                                                 \n",
            " dense_150 (Dense)           (None, 1)                 5         \n",
            "                                                                 \n",
            "=================================================================\n",
            "Total params: 179,361\n",
            "Trainable params: 179,361\n",
            "Non-trainable params: 0\n",
            "_________________________________________________________________\n"
          ]
        }
      ]
    },
    {
      "cell_type": "code",
      "source": [
        "model_path5 = 'model/best_titanic5.h5'\n",
        "# model_path = 'model/titanic_{epoch:03d}_{val_loss:.4f}.h5'\n",
        "\n",
        "from tensorflow.keras.callbacks import ModelCheckpoint\n",
        "checkpoint = ModelCheckpoint(\n",
        "    model_path5, monitor = 'val_loss', save_best_only=True, verbose = 1\n",
        ")\n"
      ],
      "metadata": {
        "id": "ruUlkOrEGfn6"
      },
      "execution_count": 125,
      "outputs": []
    },
    {
      "cell_type": "code",
      "source": [
        "model5.compile(optimizer='adam', loss = 'binary_crossentropy', metrics = ['accuracy'])\n",
        "hist5 = model5.fit(X_train, y_train, batch_size = 200, epochs = 400, validation_split=0.2,\n",
        "                   verbose = 0, callbacks = [checkpoint, early_stopping])"
      ],
      "metadata": {
        "colab": {
          "base_uri": "https://localhost:8080/"
        },
        "id": "4gGebfGaGkUD",
        "outputId": "3b99f055-0a50-4074-88d3-d2aadb56b280"
      },
      "execution_count": 126,
      "outputs": [
        {
          "output_type": "stream",
          "name": "stdout",
          "text": [
            "\n",
            "Epoch 00001: val_loss improved from inf to 0.67644, saving model to model/best_titanic5.h5\n",
            "\n",
            "Epoch 00002: val_loss improved from 0.67644 to 0.64973, saving model to model/best_titanic5.h5\n",
            "\n",
            "Epoch 00003: val_loss improved from 0.64973 to 0.60799, saving model to model/best_titanic5.h5\n",
            "\n",
            "Epoch 00004: val_loss improved from 0.60799 to 0.55427, saving model to model/best_titanic5.h5\n",
            "\n",
            "Epoch 00005: val_loss improved from 0.55427 to 0.50923, saving model to model/best_titanic5.h5\n",
            "\n",
            "Epoch 00006: val_loss did not improve from 0.50923\n",
            "\n",
            "Epoch 00007: val_loss did not improve from 0.50923\n",
            "\n",
            "Epoch 00008: val_loss improved from 0.50923 to 0.50479, saving model to model/best_titanic5.h5\n",
            "\n",
            "Epoch 00009: val_loss improved from 0.50479 to 0.47988, saving model to model/best_titanic5.h5\n",
            "\n",
            "Epoch 00010: val_loss improved from 0.47988 to 0.47884, saving model to model/best_titanic5.h5\n",
            "\n",
            "Epoch 00011: val_loss improved from 0.47884 to 0.45273, saving model to model/best_titanic5.h5\n",
            "\n",
            "Epoch 00012: val_loss did not improve from 0.45273\n",
            "\n",
            "Epoch 00013: val_loss did not improve from 0.45273\n",
            "\n",
            "Epoch 00014: val_loss did not improve from 0.45273\n",
            "\n",
            "Epoch 00015: val_loss did not improve from 0.45273\n",
            "\n",
            "Epoch 00016: val_loss improved from 0.45273 to 0.44540, saving model to model/best_titanic5.h5\n",
            "\n",
            "Epoch 00017: val_loss did not improve from 0.44540\n",
            "\n",
            "Epoch 00018: val_loss did not improve from 0.44540\n",
            "\n",
            "Epoch 00019: val_loss did not improve from 0.44540\n",
            "\n",
            "Epoch 00020: val_loss did not improve from 0.44540\n",
            "\n",
            "Epoch 00021: val_loss did not improve from 0.44540\n",
            "\n",
            "Epoch 00022: val_loss did not improve from 0.44540\n",
            "\n",
            "Epoch 00023: val_loss did not improve from 0.44540\n",
            "\n",
            "Epoch 00024: val_loss did not improve from 0.44540\n",
            "\n",
            "Epoch 00025: val_loss did not improve from 0.44540\n",
            "\n",
            "Epoch 00026: val_loss did not improve from 0.44540\n",
            "\n",
            "Epoch 00027: val_loss did not improve from 0.44540\n",
            "\n",
            "Epoch 00028: val_loss did not improve from 0.44540\n",
            "\n",
            "Epoch 00029: val_loss did not improve from 0.44540\n",
            "\n",
            "Epoch 00030: val_loss did not improve from 0.44540\n",
            "\n",
            "Epoch 00031: val_loss did not improve from 0.44540\n",
            "\n",
            "Epoch 00032: val_loss did not improve from 0.44540\n",
            "\n",
            "Epoch 00033: val_loss did not improve from 0.44540\n",
            "\n",
            "Epoch 00034: val_loss did not improve from 0.44540\n",
            "\n",
            "Epoch 00035: val_loss did not improve from 0.44540\n",
            "\n",
            "Epoch 00036: val_loss did not improve from 0.44540\n",
            "\n",
            "Epoch 00037: val_loss did not improve from 0.44540\n",
            "\n",
            "Epoch 00038: val_loss did not improve from 0.44540\n",
            "\n",
            "Epoch 00039: val_loss did not improve from 0.44540\n",
            "\n",
            "Epoch 00040: val_loss did not improve from 0.44540\n",
            "\n",
            "Epoch 00041: val_loss did not improve from 0.44540\n",
            "\n",
            "Epoch 00042: val_loss did not improve from 0.44540\n",
            "\n",
            "Epoch 00043: val_loss did not improve from 0.44540\n",
            "\n",
            "Epoch 00044: val_loss did not improve from 0.44540\n",
            "\n",
            "Epoch 00045: val_loss did not improve from 0.44540\n",
            "\n",
            "Epoch 00046: val_loss did not improve from 0.44540\n",
            "\n",
            "Epoch 00047: val_loss did not improve from 0.44540\n",
            "\n",
            "Epoch 00048: val_loss did not improve from 0.44540\n",
            "\n",
            "Epoch 00049: val_loss did not improve from 0.44540\n",
            "\n",
            "Epoch 00050: val_loss did not improve from 0.44540\n",
            "\n",
            "Epoch 00051: val_loss did not improve from 0.44540\n",
            "\n",
            "Epoch 00052: val_loss did not improve from 0.44540\n",
            "\n",
            "Epoch 00053: val_loss did not improve from 0.44540\n",
            "\n",
            "Epoch 00054: val_loss did not improve from 0.44540\n",
            "\n",
            "Epoch 00055: val_loss did not improve from 0.44540\n",
            "\n",
            "Epoch 00056: val_loss did not improve from 0.44540\n"
          ]
        }
      ]
    },
    {
      "cell_type": "code",
      "source": [
        "best_model5 = load_model(model_path5)\n",
        "best_model5.evaluate(X_test, y_test)"
      ],
      "metadata": {
        "colab": {
          "base_uri": "https://localhost:8080/"
        },
        "id": "sb9fij6CGpbD",
        "outputId": "374caded-e7b7-435b-e0b4-4936a83a75cd"
      },
      "execution_count": 127,
      "outputs": [
        {
          "output_type": "stream",
          "name": "stdout",
          "text": [
            "6/6 [==============================] - 0s 3ms/step - loss: 0.4057 - accuracy: 0.8492\n"
          ]
        },
        {
          "output_type": "execute_result",
          "data": {
            "text/plain": [
              "[0.4056529998779297, 0.8491619825363159]"
            ]
          },
          "metadata": {},
          "execution_count": 127
        }
      ]
    },
    {
      "cell_type": "code",
      "source": [
        "y_acc = hist5.history['accuracy']\n",
        "y_vloss = hist5.history['val_loss']\n",
        "xs = np.arange(1, len(y_acc)+1)"
      ],
      "metadata": {
        "id": "F7r9_fdAGu5b"
      },
      "execution_count": 148,
      "outputs": []
    },
    {
      "cell_type": "code",
      "source": [
        "plt.figure(figsize=(12, 8))\n",
        "plt.plot(xs, y_acc, ms=5, label='train accuracy')\n",
        "plt.plot(xs, y_vloss, ms=5, label = 'validation loss')\n",
        "plt.legend()\n",
        "plt.grid()\n",
        "plt.xlabel('Epoch')\n",
        "plt.show()"
      ],
      "metadata": {
        "colab": {
          "base_uri": "https://localhost:8080/",
          "height": 497
        },
        "id": "1abrL8EwKgnx",
        "outputId": "49bb9a46-d899-4d8d-fd69-01c14e65b92c"
      },
      "execution_count": 149,
      "outputs": [
        {
          "output_type": "display_data",
          "data": {
            "image/png": "[encoded data removed]",
            "text/plain": [
              "<Figure size 864x576 with 1 Axes>"
            ]
          },
          "metadata": {
            "needs_background": "light"
          }
        }
      ]
    },
    {
      "cell_type": "code",
      "source": [
        ""
      ],
      "metadata": {
        "id": "5xtylVrAKlEc"
      },
      "execution_count": null,
      "outputs": []
    }
  ]
}