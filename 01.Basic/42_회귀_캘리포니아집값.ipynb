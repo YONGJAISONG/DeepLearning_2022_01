{
  "nbformat": 4,
  "nbformat_minor": 0,
  "metadata": {
    "colab": {
      "name": "42.회귀-캘리포니아집값.ipynb",
      "provenance": []
    },
    "kernelspec": {
      "name": "python3",
      "display_name": "Python 3"
    },
    "language_info": {
      "name": "python"
    }
  },
  "cells": [
    {
      "cell_type": "markdown",
      "source": [
        "# 회귀 - 캘리포니아 집값"
      ],
      "metadata": {
        "id": "R_F1VYVvrXzI"
      }
    },
    {
      "cell_type": "code",
      "execution_count": 2,
      "metadata": {
        "id": "kMGkQ0xGrR3_"
      },
      "outputs": [],
      "source": [
        "import numpy as np\n",
        "import pandas as pd\n",
        "from sklearn.datasets import fetch_california_housing\n",
        "house = fetch_california_housing()"
      ]
    },
    {
      "cell_type": "code",
      "source": [
        "df = pd.DataFrame(house.data, columns=house.feature_names)\n",
        "df['target'] = house.target\n",
        "df.head()"
      ],
      "metadata": {
        "colab": {
          "base_uri": "https://localhost:8080/",
          "height": 206
        },
        "id": "y1HyS892rno_",
        "outputId": "43976406-d0b9-4c19-92fd-618091b6b69b"
      },
      "execution_count": 4,
      "outputs": [
        {
          "output_type": "execute_result",
          "data": {
            "text/html": [
              "\n",
              "  <div id=\"df-48b8c1a2-5a5a-4dbf-9204-64ff32b582bb\">\n",
              "    <div class=\"colab-df-container\">\n",
              "      <div>\n",
              "<style scoped>\n",
              "    .dataframe tbody tr th:only-of-type {\n",
              "        vertical-align: middle;\n",
              "    }\n",
              "\n",
              "    .dataframe tbody tr th {\n",
              "        vertical-align: top;\n",
              "    }\n",
              "\n",
              "    .dataframe thead th {\n",
              "        text-align: right;\n",
              "    }\n",
              "</style>\n",
              "<table border=\"1\" class=\"dataframe\">\n",
              "  <thead>\n",
              "    <tr style=\"text-align: right;\">\n",
              "      <th></th>\n",
              "      <th>MedInc</th>\n",
              "      <th>HouseAge</th>\n",
              "      <th>AveRooms</th>\n",
              "      <th>AveBedrms</th>\n",
              "      <th>Population</th>\n",
              "      <th>AveOccup</th>\n",
              "      <th>Latitude</th>\n",
              "      <th>Longitude</th>\n",
              "      <th>target</th>\n",
              "    </tr>\n",
              "  </thead>\n",
              "  <tbody>\n",
              "    <tr>\n",
              "      <th>0</th>\n",
              "      <td>8.3252</td>\n",
              "      <td>41.0</td>\n",
              "      <td>6.984127</td>\n",
              "      <td>1.023810</td>\n",
              "      <td>322.0</td>\n",
              "      <td>2.555556</td>\n",
              "      <td>37.88</td>\n",
              "      <td>-122.23</td>\n",
              "      <td>4.526</td>\n",
              "    </tr>\n",
              "    <tr>\n",
              "      <th>1</th>\n",
              "      <td>8.3014</td>\n",
              "      <td>21.0</td>\n",
              "      <td>6.238137</td>\n",
              "      <td>0.971880</td>\n",
              "      <td>2401.0</td>\n",
              "      <td>2.109842</td>\n",
              "      <td>37.86</td>\n",
              "      <td>-122.22</td>\n",
              "      <td>3.585</td>\n",
              "    </tr>\n",
              "    <tr>\n",
              "      <th>2</th>\n",
              "      <td>7.2574</td>\n",
              "      <td>52.0</td>\n",
              "      <td>8.288136</td>\n",
              "      <td>1.073446</td>\n",
              "      <td>496.0</td>\n",
              "      <td>2.802260</td>\n",
              "      <td>37.85</td>\n",
              "      <td>-122.24</td>\n",
              "      <td>3.521</td>\n",
              "    </tr>\n",
              "    <tr>\n",
              "      <th>3</th>\n",
              "      <td>5.6431</td>\n",
              "      <td>52.0</td>\n",
              "      <td>5.817352</td>\n",
              "      <td>1.073059</td>\n",
              "      <td>558.0</td>\n",
              "      <td>2.547945</td>\n",
              "      <td>37.85</td>\n",
              "      <td>-122.25</td>\n",
              "      <td>3.413</td>\n",
              "    </tr>\n",
              "    <tr>\n",
              "      <th>4</th>\n",
              "      <td>3.8462</td>\n",
              "      <td>52.0</td>\n",
              "      <td>6.281853</td>\n",
              "      <td>1.081081</td>\n",
              "      <td>565.0</td>\n",
              "      <td>2.181467</td>\n",
              "      <td>37.85</td>\n",
              "      <td>-122.25</td>\n",
              "      <td>3.422</td>\n",
              "    </tr>\n",
              "  </tbody>\n",
              "</table>\n",
              "</div>\n",
              "      <button class=\"colab-df-convert\" onclick=\"convertToInteractive('df-48b8c1a2-5a5a-4dbf-9204-64ff32b582bb')\"\n",
              "              title=\"Convert this dataframe to an interactive table.\"\n",
              "              style=\"display:none;\">\n",
              "        \n",
              "  <svg xmlns=\"http://www.w3.org/2000/svg\" height=\"24px\"viewBox=\"0 0 24 24\"\n",
              "       width=\"24px\">\n",
              "    <path d=\"M0 0h24v24H0V0z\" fill=\"none\"/>\n",
              "    <path d=\"M18.56 5.44l.94 2.06.94-2.06 2.06-.94-2.06-.94-.94-2.06-.94 2.06-2.06.94zm-11 1L8.5 8.5l.94-2.06 2.06-.94-2.06-.94L8.5 2.5l-.94 2.06-2.06.94zm10 10l.94 2.06.94-2.06 2.06-.94-2.06-.94-.94-2.06-.94 2.06-2.06.94z\"/><path d=\"M17.41 7.96l-1.37-1.37c-.4-.4-.92-.59-1.43-.59-.52 0-1.04.2-1.43.59L10.3 9.45l-7.72 7.72c-.78.78-.78 2.05 0 2.83L4 21.41c.39.39.9.59 1.41.59.51 0 1.02-.2 1.41-.59l7.78-7.78 2.81-2.81c.8-.78.8-2.07 0-2.86zM5.41 20L4 18.59l7.72-7.72 1.47 1.35L5.41 20z\"/>\n",
              "  </svg>\n",
              "      </button>\n",
              "      \n",
              "  <style>\n",
              "    .colab-df-container {\n",
              "      display:flex;\n",
              "      flex-wrap:wrap;\n",
              "      gap: 12px;\n",
              "    }\n",
              "\n",
              "    .colab-df-convert {\n",
              "      background-color: #E8F0FE;\n",
              "      border: none;\n",
              "      border-radius: 50%;\n",
              "      cursor: pointer;\n",
              "      display: none;\n",
              "      fill: #1967D2;\n",
              "      height: 32px;\n",
              "      padding: 0 0 0 0;\n",
              "      width: 32px;\n",
              "    }\n",
              "\n",
              "    .colab-df-convert:hover {\n",
              "      background-color: #E2EBFA;\n",
              "      box-shadow: 0px 1px 2px rgba(60, 64, 67, 0.3), 0px 1px 3px 1px rgba(60, 64, 67, 0.15);\n",
              "      fill: #174EA6;\n",
              "    }\n",
              "\n",
              "    [theme=dark] .colab-df-convert {\n",
              "      background-color: #3B4455;\n",
              "      fill: #D2E3FC;\n",
              "    }\n",
              "\n",
              "    [theme=dark] .colab-df-convert:hover {\n",
              "      background-color: #434B5C;\n",
              "      box-shadow: 0px 1px 3px 1px rgba(0, 0, 0, 0.15);\n",
              "      filter: drop-shadow(0px 1px 2px rgba(0, 0, 0, 0.3));\n",
              "      fill: #FFFFFF;\n",
              "    }\n",
              "  </style>\n",
              "\n",
              "      <script>\n",
              "        const buttonEl =\n",
              "          document.querySelector('#df-48b8c1a2-5a5a-4dbf-9204-64ff32b582bb button.colab-df-convert');\n",
              "        buttonEl.style.display =\n",
              "          google.colab.kernel.accessAllowed ? 'block' : 'none';\n",
              "\n",
              "        async function convertToInteractive(key) {\n",
              "          const element = document.querySelector('#df-48b8c1a2-5a5a-4dbf-9204-64ff32b582bb');\n",
              "          const dataTable =\n",
              "            await google.colab.kernel.invokeFunction('convertToInteractive',\n",
              "                                                     [key], {});\n",
              "          if (!dataTable) return;\n",
              "\n",
              "          const docLinkHtml = 'Like what you see? Visit the ' +\n",
              "            '<a target=\"_blank\" href=https://colab.research.google.com/notebooks/data_table.ipynb>data table notebook</a>'\n",
              "            + ' to learn more about interactive tables.';\n",
              "          element.innerHTML = '';\n",
              "          dataTable['output_type'] = 'display_data';\n",
              "          await google.colab.output.renderOutput(dataTable, element);\n",
              "          const docLink = document.createElement('div');\n",
              "          docLink.innerHTML = docLinkHtml;\n",
              "          element.appendChild(docLink);\n",
              "        }\n",
              "      </script>\n",
              "    </div>\n",
              "  </div>\n",
              "  "
            ],
            "text/plain": [
              "   MedInc  HouseAge  AveRooms  AveBedrms  ...  AveOccup  Latitude  Longitude  target\n",
              "0  8.3252      41.0  6.984127   1.023810  ...  2.555556     37.88    -122.23   4.526\n",
              "1  8.3014      21.0  6.238137   0.971880  ...  2.109842     37.86    -122.22   3.585\n",
              "2  7.2574      52.0  8.288136   1.073446  ...  2.802260     37.85    -122.24   3.521\n",
              "3  5.6431      52.0  5.817352   1.073059  ...  2.547945     37.85    -122.25   3.413\n",
              "4  3.8462      52.0  6.281853   1.081081  ...  2.181467     37.85    -122.25   3.422\n",
              "\n",
              "[5 rows x 9 columns]"
            ]
          },
          "metadata": {},
          "execution_count": 4
        }
      ]
    },
    {
      "cell_type": "code",
      "source": [
        "df.shape"
      ],
      "metadata": {
        "colab": {
          "base_uri": "https://localhost:8080/"
        },
        "id": "w3svT7bLr05D",
        "outputId": "91d29fb7-ec02-48cb-eaee-5537919c75ef"
      },
      "execution_count": 5,
      "outputs": [
        {
          "output_type": "execute_result",
          "data": {
            "text/plain": [
              "(20640, 9)"
            ]
          },
          "metadata": {},
          "execution_count": 5
        }
      ]
    },
    {
      "cell_type": "markdown",
      "source": [
        "- Train/Test dataset 분리"
      ],
      "metadata": {
        "id": "yG2tNBTYsQlu"
      }
    },
    {
      "cell_type": "code",
      "source": [
        "from sklearn.model_selection import train_test_split\n",
        "X_train, X_test, y_train, y_test = train_test_split(\n",
        "    house.data, house.target, test_size=0.1, random_state=2022\n",
        ")\n",
        "X_train.shape, X_test.shape, y_train.shape, y_test.shape"
      ],
      "metadata": {
        "colab": {
          "base_uri": "https://localhost:8080/"
        },
        "id": "J20NZj7_r9pR",
        "outputId": "cc2372f1-59a6-4040-d8f4-b70ca1d6848a"
      },
      "execution_count": 6,
      "outputs": [
        {
          "output_type": "execute_result",
          "data": {
            "text/plain": [
              "((18576, 8), (2064, 8), (18576,), (2064,))"
            ]
          },
          "metadata": {},
          "execution_count": 6
        }
      ]
    },
    {
      "cell_type": "markdown",
      "source": [
        "* 모델 정의/설정/학습"
      ],
      "metadata": {
        "id": "1Q-fg6-psv9b"
      }
    },
    {
      "cell_type": "code",
      "source": [
        "import tensorflow as tf\n",
        "seed = 2022\n",
        "np.random.seed(seed)\n",
        "tf.random.set_seed(seed)"
      ],
      "metadata": {
        "id": "-LlqHPHzs8tF"
      },
      "execution_count": 7,
      "outputs": []
    },
    {
      "cell_type": "code",
      "source": [
        "from tensorflow.keras.models import Sequential\n",
        "from tensorflow.keras.layers import Dense"
      ],
      "metadata": {
        "id": "AaKDhUqftJjb"
      },
      "execution_count": 8,
      "outputs": []
    },
    {
      "cell_type": "code",
      "source": [
        "model = Sequential([\n",
        "                    Dense(20, input_dim = 8, activation = 'relu'),\n",
        "                    Dense(8, activation = 'relu'),\n",
        "                    Dense(1)\n",
        "])\n",
        "model.summary()"
      ],
      "metadata": {
        "colab": {
          "base_uri": "https://localhost:8080/"
        },
        "id": "jwXbsB1WtRGF",
        "outputId": "41b146b4-079f-4d81-ea23-e8f37b168e74"
      },
      "execution_count": 9,
      "outputs": [
        {
          "output_type": "stream",
          "name": "stdout",
          "text": [
            "Model: \"sequential\"\n",
            "_________________________________________________________________\n",
            " Layer (type)                Output Shape              Param #   \n",
            "=================================================================\n",
            " dense (Dense)               (None, 20)                180       \n",
            "                                                                 \n",
            " dense_1 (Dense)             (None, 8)                 168       \n",
            "                                                                 \n",
            " dense_2 (Dense)             (None, 1)                 9         \n",
            "                                                                 \n",
            "=================================================================\n",
            "Total params: 357\n",
            "Trainable params: 357\n",
            "Non-trainable params: 0\n",
            "_________________________________________________________________\n"
          ]
        }
      ]
    },
    {
      "cell_type": "code",
      "source": [
        "model.compile(optimizer='adam', loss = 'mean_squared_error')"
      ],
      "metadata": {
        "id": "eLh8DaB2ty5K"
      },
      "execution_count": 10,
      "outputs": []
    },
    {
      "cell_type": "code",
      "source": [
        "hist = model.fit(X_train, y_train, validation_split=0.2, epochs = 100,\n",
        "                 batch_size = 128)"
      ],
      "metadata": {
        "colab": {
          "base_uri": "https://localhost:8080/"
        },
        "id": "Nr2HLKcNuEOj",
        "outputId": "47a72582-ff7b-47d7-fdb1-628443e6902e"
      },
      "execution_count": 12,
      "outputs": [
        {
          "output_type": "stream",
          "name": "stdout",
          "text": [
            "Epoch 1/100\n",
            "117/117 [==============================] - 1s 3ms/step - loss: 924.8505 - val_loss: 11.1883\n",
            "Epoch 2/100\n",
            "117/117 [==============================] - 0s 2ms/step - loss: 13.7025 - val_loss: 9.9141\n",
            "Epoch 3/100\n",
            "117/117 [==============================] - 0s 2ms/step - loss: 12.0063 - val_loss: 8.7134\n",
            "Epoch 4/100\n",
            "117/117 [==============================] - 0s 2ms/step - loss: 10.4420 - val_loss: 7.8351\n",
            "Epoch 5/100\n",
            "117/117 [==============================] - 0s 2ms/step - loss: 8.9745 - val_loss: 6.4690\n",
            "Epoch 6/100\n",
            "117/117 [==============================] - 0s 2ms/step - loss: 7.3797 - val_loss: 5.3087\n",
            "Epoch 7/100\n",
            "117/117 [==============================] - 0s 2ms/step - loss: 6.1005 - val_loss: 4.3859\n",
            "Epoch 8/100\n",
            "117/117 [==============================] - 0s 2ms/step - loss: 4.9349 - val_loss: 3.6842\n",
            "Epoch 9/100\n",
            "117/117 [==============================] - 0s 2ms/step - loss: 3.8383 - val_loss: 2.0832\n",
            "Epoch 10/100\n",
            "117/117 [==============================] - 0s 2ms/step - loss: 1.1136 - val_loss: 0.8826\n",
            "Epoch 11/100\n",
            "117/117 [==============================] - 0s 2ms/step - loss: 0.8685 - val_loss: 0.8360\n",
            "Epoch 12/100\n",
            "117/117 [==============================] - 0s 2ms/step - loss: 0.8190 - val_loss: 0.7465\n",
            "Epoch 13/100\n",
            "117/117 [==============================] - 0s 2ms/step - loss: 0.7829 - val_loss: 0.8023\n",
            "Epoch 14/100\n",
            "117/117 [==============================] - 0s 2ms/step - loss: 0.7470 - val_loss: 0.7457\n",
            "Epoch 15/100\n",
            "117/117 [==============================] - 0s 2ms/step - loss: 0.7557 - val_loss: 0.6864\n",
            "Epoch 16/100\n",
            "117/117 [==============================] - 0s 2ms/step - loss: 0.7253 - val_loss: 0.7170\n",
            "Epoch 17/100\n",
            "117/117 [==============================] - 0s 2ms/step - loss: 0.7202 - val_loss: 0.6691\n",
            "Epoch 18/100\n",
            "117/117 [==============================] - 0s 2ms/step - loss: 0.6818 - val_loss: 0.6667\n",
            "Epoch 19/100\n",
            "117/117 [==============================] - 0s 2ms/step - loss: 0.6783 - val_loss: 0.7195\n",
            "Epoch 20/100\n",
            "117/117 [==============================] - 0s 2ms/step - loss: 0.6855 - val_loss: 0.6991\n",
            "Epoch 21/100\n",
            "117/117 [==============================] - 0s 2ms/step - loss: 0.6920 - val_loss: 0.6538\n",
            "Epoch 22/100\n",
            "117/117 [==============================] - 0s 2ms/step - loss: 0.6833 - val_loss: 1.0597\n",
            "Epoch 23/100\n",
            "117/117 [==============================] - 0s 2ms/step - loss: 0.6865 - val_loss: 0.6567\n",
            "Epoch 24/100\n",
            "117/117 [==============================] - 0s 2ms/step - loss: 0.6845 - val_loss: 0.7007\n",
            "Epoch 25/100\n",
            "117/117 [==============================] - 0s 2ms/step - loss: 0.7329 - val_loss: 0.8036\n",
            "Epoch 26/100\n",
            "117/117 [==============================] - 0s 2ms/step - loss: 0.6711 - val_loss: 0.6415\n",
            "Epoch 27/100\n",
            "117/117 [==============================] - 0s 2ms/step - loss: 0.6624 - val_loss: 0.6275\n",
            "Epoch 28/100\n",
            "117/117 [==============================] - 0s 2ms/step - loss: 0.6840 - val_loss: 0.6922\n",
            "Epoch 29/100\n",
            "117/117 [==============================] - 0s 2ms/step - loss: 0.7448 - val_loss: 0.7068\n",
            "Epoch 30/100\n",
            "117/117 [==============================] - 0s 2ms/step - loss: 0.6947 - val_loss: 1.4534\n",
            "Epoch 31/100\n",
            "117/117 [==============================] - 0s 2ms/step - loss: 0.7420 - val_loss: 0.6161\n",
            "Epoch 32/100\n",
            "117/117 [==============================] - 0s 2ms/step - loss: 0.6563 - val_loss: 0.6176\n",
            "Epoch 33/100\n",
            "117/117 [==============================] - 0s 2ms/step - loss: 0.6518 - val_loss: 1.0189\n",
            "Epoch 34/100\n",
            "117/117 [==============================] - 0s 2ms/step - loss: 0.6955 - val_loss: 0.8068\n",
            "Epoch 35/100\n",
            "117/117 [==============================] - 0s 2ms/step - loss: 0.6709 - val_loss: 0.8924\n",
            "Epoch 36/100\n",
            "117/117 [==============================] - 0s 2ms/step - loss: 0.8750 - val_loss: 0.7324\n",
            "Epoch 37/100\n",
            "117/117 [==============================] - 0s 2ms/step - loss: 1.1345 - val_loss: 1.5042\n",
            "Epoch 38/100\n",
            "117/117 [==============================] - 0s 3ms/step - loss: 0.7448 - val_loss: 0.7940\n",
            "Epoch 39/100\n",
            "117/117 [==============================] - 0s 2ms/step - loss: 0.7597 - val_loss: 0.7932\n",
            "Epoch 40/100\n",
            "117/117 [==============================] - 0s 2ms/step - loss: 0.6645 - val_loss: 0.6085\n",
            "Epoch 41/100\n",
            "117/117 [==============================] - 0s 2ms/step - loss: 0.7212 - val_loss: 5.0056\n",
            "Epoch 42/100\n",
            "117/117 [==============================] - 0s 2ms/step - loss: 0.9609 - val_loss: 0.7618\n",
            "Epoch 43/100\n",
            "117/117 [==============================] - 0s 2ms/step - loss: 0.7996 - val_loss: 0.6097\n",
            "Epoch 44/100\n",
            "117/117 [==============================] - 0s 2ms/step - loss: 0.7307 - val_loss: 0.5934\n",
            "Epoch 45/100\n",
            "117/117 [==============================] - 0s 2ms/step - loss: 0.8780 - val_loss: 0.6591\n",
            "Epoch 46/100\n",
            "117/117 [==============================] - 0s 2ms/step - loss: 1.0519 - val_loss: 0.9561\n",
            "Epoch 47/100\n",
            "117/117 [==============================] - 0s 2ms/step - loss: 0.7979 - val_loss: 0.5941\n",
            "Epoch 48/100\n",
            "117/117 [==============================] - 0s 2ms/step - loss: 0.6552 - val_loss: 0.9042\n",
            "Epoch 49/100\n",
            "117/117 [==============================] - 0s 2ms/step - loss: 1.1116 - val_loss: 0.5954\n",
            "Epoch 50/100\n",
            "117/117 [==============================] - 0s 2ms/step - loss: 0.8673 - val_loss: 5.2047\n",
            "Epoch 51/100\n",
            "117/117 [==============================] - 0s 2ms/step - loss: 1.1892 - val_loss: 1.9673\n",
            "Epoch 52/100\n",
            "117/117 [==============================] - 0s 3ms/step - loss: 1.0250 - val_loss: 0.5861\n",
            "Epoch 53/100\n",
            "117/117 [==============================] - 0s 2ms/step - loss: 0.7549 - val_loss: 0.5821\n",
            "Epoch 54/100\n",
            "117/117 [==============================] - 0s 2ms/step - loss: 1.1009 - val_loss: 5.0128\n",
            "Epoch 55/100\n",
            "117/117 [==============================] - 0s 2ms/step - loss: 10.0376 - val_loss: 0.5981\n",
            "Epoch 56/100\n",
            "117/117 [==============================] - 0s 2ms/step - loss: 0.7339 - val_loss: 0.8933\n",
            "Epoch 57/100\n",
            "117/117 [==============================] - 0s 2ms/step - loss: 0.8369 - val_loss: 1.3117\n",
            "Epoch 58/100\n",
            "117/117 [==============================] - 0s 2ms/step - loss: 0.8710 - val_loss: 1.0300\n",
            "Epoch 59/100\n",
            "117/117 [==============================] - 0s 2ms/step - loss: 0.7764 - val_loss: 1.0249\n",
            "Epoch 60/100\n",
            "117/117 [==============================] - 0s 2ms/step - loss: 2.6127 - val_loss: 0.7617\n",
            "Epoch 61/100\n",
            "117/117 [==============================] - 0s 2ms/step - loss: 0.9044 - val_loss: 0.9658\n",
            "Epoch 62/100\n",
            "117/117 [==============================] - 0s 2ms/step - loss: 7.1692 - val_loss: 1.5485\n",
            "Epoch 63/100\n",
            "117/117 [==============================] - 0s 2ms/step - loss: 0.7737 - val_loss: 0.5724\n",
            "Epoch 64/100\n",
            "117/117 [==============================] - 0s 2ms/step - loss: 0.6487 - val_loss: 0.7043\n",
            "Epoch 65/100\n",
            "117/117 [==============================] - 0s 2ms/step - loss: 0.7229 - val_loss: 0.6587\n",
            "Epoch 66/100\n",
            "117/117 [==============================] - 0s 2ms/step - loss: 0.6193 - val_loss: 0.6514\n",
            "Epoch 67/100\n",
            "117/117 [==============================] - 0s 2ms/step - loss: 0.6372 - val_loss: 0.5988\n",
            "Epoch 68/100\n",
            "117/117 [==============================] - 0s 2ms/step - loss: 0.6173 - val_loss: 1.4101\n",
            "Epoch 69/100\n",
            "117/117 [==============================] - 0s 2ms/step - loss: 0.8399 - val_loss: 0.6179\n",
            "Epoch 70/100\n",
            "117/117 [==============================] - 0s 2ms/step - loss: 0.9309 - val_loss: 0.8425\n",
            "Epoch 71/100\n",
            "117/117 [==============================] - 0s 2ms/step - loss: 0.6239 - val_loss: 1.1288\n",
            "Epoch 72/100\n",
            "117/117 [==============================] - 0s 2ms/step - loss: 0.9092 - val_loss: 2.9604\n",
            "Epoch 73/100\n",
            "117/117 [==============================] - 0s 2ms/step - loss: 1.0533 - val_loss: 0.5799\n",
            "Epoch 74/100\n",
            "117/117 [==============================] - 0s 2ms/step - loss: 1.3742 - val_loss: 3.6063\n",
            "Epoch 75/100\n",
            "117/117 [==============================] - 0s 2ms/step - loss: 1.2552 - val_loss: 6.0691\n",
            "Epoch 76/100\n",
            "117/117 [==============================] - 0s 2ms/step - loss: 1.1493 - val_loss: 1.0344\n",
            "Epoch 77/100\n",
            "117/117 [==============================] - 0s 2ms/step - loss: 0.9265 - val_loss: 0.8679\n",
            "Epoch 78/100\n",
            "117/117 [==============================] - 0s 2ms/step - loss: 0.7320 - val_loss: 0.7087\n",
            "Epoch 79/100\n",
            "117/117 [==============================] - 0s 2ms/step - loss: 1.0781 - val_loss: 0.6303\n",
            "Epoch 80/100\n",
            "117/117 [==============================] - 0s 2ms/step - loss: 0.6344 - val_loss: 0.5924\n",
            "Epoch 81/100\n",
            "117/117 [==============================] - 0s 2ms/step - loss: 0.6199 - val_loss: 0.5981\n",
            "Epoch 82/100\n",
            "117/117 [==============================] - 0s 2ms/step - loss: 0.7282 - val_loss: 8.8720\n",
            "Epoch 83/100\n",
            "117/117 [==============================] - 0s 2ms/step - loss: 26.2781 - val_loss: 0.6201\n",
            "Epoch 84/100\n",
            "117/117 [==============================] - 0s 2ms/step - loss: 1.0708 - val_loss: 1.2066\n",
            "Epoch 85/100\n",
            "117/117 [==============================] - 0s 2ms/step - loss: 0.6836 - val_loss: 0.5710\n",
            "Epoch 86/100\n",
            "117/117 [==============================] - 0s 2ms/step - loss: 0.6373 - val_loss: 0.6324\n",
            "Epoch 87/100\n",
            "117/117 [==============================] - 0s 2ms/step - loss: 0.6808 - val_loss: 0.5733\n",
            "Epoch 88/100\n",
            "117/117 [==============================] - 0s 2ms/step - loss: 0.5986 - val_loss: 0.7622\n",
            "Epoch 89/100\n",
            "117/117 [==============================] - 0s 2ms/step - loss: 0.7605 - val_loss: 0.6556\n",
            "Epoch 90/100\n",
            "117/117 [==============================] - 0s 2ms/step - loss: 0.6558 - val_loss: 0.9234\n",
            "Epoch 91/100\n",
            "117/117 [==============================] - 0s 2ms/step - loss: 0.6304 - val_loss: 0.6244\n",
            "Epoch 92/100\n",
            "117/117 [==============================] - 0s 2ms/step - loss: 0.5950 - val_loss: 0.6475\n",
            "Epoch 93/100\n",
            "117/117 [==============================] - 0s 2ms/step - loss: 0.6840 - val_loss: 0.6452\n",
            "Epoch 94/100\n",
            "117/117 [==============================] - 0s 2ms/step - loss: 0.6172 - val_loss: 0.5614\n",
            "Epoch 95/100\n",
            "117/117 [==============================] - 0s 2ms/step - loss: 0.6300 - val_loss: 0.5806\n",
            "Epoch 96/100\n",
            "117/117 [==============================] - 0s 2ms/step - loss: 0.6387 - val_loss: 50.5448\n",
            "Epoch 97/100\n",
            "117/117 [==============================] - 0s 2ms/step - loss: 6.3235 - val_loss: 1.9378\n",
            "Epoch 98/100\n",
            "117/117 [==============================] - 0s 2ms/step - loss: 0.9254 - val_loss: 0.5981\n",
            "Epoch 99/100\n",
            "117/117 [==============================] - 0s 2ms/step - loss: 0.5984 - val_loss: 0.8691\n",
            "Epoch 100/100\n",
            "117/117 [==============================] - 0s 2ms/step - loss: 0.6289 - val_loss: 0.5811\n"
          ]
        }
      ]
    },
    {
      "cell_type": "markdown",
      "source": [
        "* 학습과정 시각화"
      ],
      "metadata": {
        "id": "0N_wlno_vAXg"
      }
    },
    {
      "cell_type": "code",
      "source": [
        "y_loss = hist.history['loss'][5:]\n",
        "y_vloss = hist.history['val_loss'][5:]\n",
        "xs = np.arange(6, len(y_loss)+6)"
      ],
      "metadata": {
        "id": "sBSJFYNkuS56"
      },
      "execution_count": 23,
      "outputs": []
    },
    {
      "cell_type": "code",
      "source": [
        "import matplotlib.pyplot as plt\n",
        "\n",
        "plt.figure(figsize = (12, 8))\n",
        "plt.plot(xs, y_loss, label = 'train loss')\n",
        "plt.plot(xs, y_vloss, label = 'validation loss')\n",
        "plt.ylim([0, 10])\n",
        "plt.legend()\n",
        "plt.grid()\n",
        "plt.xlabel('Epoch')\n",
        "plt.show()"
      ],
      "metadata": {
        "colab": {
          "base_uri": "https://localhost:8080/",
          "height": 501
        },
        "id": "WqjatOCuvezF",
        "outputId": "674e7055-a8fc-4544-f8fb-36cc39466134"
      },
      "execution_count": 25,
      "outputs": [
        {
          "output_type": "display_data",
          "data": {
            "image/png": "[encoded data removed]",
            "text/plain": [
              "<Figure size 864x576 with 1 Axes>"
            ]
          },
          "metadata": {
            "needs_background": "light"
          }
        }
      ]
    },
    {
      "cell_type": "markdown",
      "source": [
        "Case 2) 모델 재정의, 콜백 함수 사용"
      ],
      "metadata": {
        "id": "8WPZlLrwvq0S"
      }
    },
    {
      "cell_type": "code",
      "source": [
        "model2 = Sequential([\n",
        "                     Dense(10, input_dim = 8, activation='relu'),\n",
        "                     Dense(16, activation = 'relu'),\n",
        "                     Dense(6, activation = 'relu'),\n",
        "                     Dense(1)\n",
        "])\n",
        "model2.summary()"
      ],
      "metadata": {
        "colab": {
          "base_uri": "https://localhost:8080/"
        },
        "id": "kXh5-xbNww5Z",
        "outputId": "a5690b26-98be-4791-a28b-f515216dbd08"
      },
      "execution_count": 29,
      "outputs": [
        {
          "output_type": "stream",
          "name": "stdout",
          "text": [
            "Model: \"sequential_2\"\n",
            "_________________________________________________________________\n",
            " Layer (type)                Output Shape              Param #   \n",
            "=================================================================\n",
            " dense_7 (Dense)             (None, 10)                90        \n",
            "                                                                 \n",
            " dense_8 (Dense)             (None, 16)                176       \n",
            "                                                                 \n",
            " dense_9 (Dense)             (None, 6)                 102       \n",
            "                                                                 \n",
            " dense_10 (Dense)            (None, 1)                 7         \n",
            "                                                                 \n",
            "=================================================================\n",
            "Total params: 375\n",
            "Trainable params: 375\n",
            "Non-trainable params: 0\n",
            "_________________________________________________________________\n"
          ]
        }
      ]
    },
    {
      "cell_type": "code",
      "source": [
        "model2.compile(optimizer='rmsprop', loss = 'mean_squared_error')"
      ],
      "metadata": {
        "id": "QjEifRkfxJrV"
      },
      "execution_count": 30,
      "outputs": []
    },
    {
      "cell_type": "code",
      "source": [
        "from tensorflow.keras.callbacks import ModelCheckpoint, EarlyStopping\n",
        "\n",
        "model_path = 'california_house2.h5'\n",
        "checkpoint = ModelCheckpoint(\n",
        "    model_path, monitor='val_loss', verbose=1, save_best_only=True\n",
        ")\n",
        "early_stop = EarlyStopping(patience = 30)"
      ],
      "metadata": {
        "id": "EJLUQk2Bx49I"
      },
      "execution_count": 31,
      "outputs": []
    },
    {
      "cell_type": "code",
      "source": [
        "hist2 = model2.fit(X_train, y_train, validation_split=0.2, epochs = 1000, \n",
        "                   batch_size = 128, verbose = 0, callbacks = [checkpoint, early_stop])"
      ],
      "metadata": {
        "colab": {
          "base_uri": "https://localhost:8080/"
        },
        "id": "FNXPkX_VxnzR",
        "outputId": "287c2be8-5ebe-4610-91da-8dbd98c4c012"
      },
      "execution_count": 32,
      "outputs": [
        {
          "output_type": "stream",
          "name": "stdout",
          "text": [
            "\n",
            "Epoch 00001: val_loss improved from inf to 4.69632, saving model to california_house2.h5\n",
            "\n",
            "Epoch 00002: val_loss did not improve from 4.69632\n",
            "\n",
            "Epoch 00003: val_loss did not improve from 4.69632\n",
            "\n",
            "Epoch 00004: val_loss improved from 4.69632 to 1.76989, saving model to california_house2.h5\n",
            "\n",
            "Epoch 00005: val_loss did not improve from 1.76989\n",
            "\n",
            "Epoch 00006: val_loss improved from 1.76989 to 1.61931, saving model to california_house2.h5\n",
            "\n",
            "Epoch 00007: val_loss did not improve from 1.61931\n",
            "\n",
            "Epoch 00008: val_loss did not improve from 1.61931\n",
            "\n",
            "Epoch 00009: val_loss did not improve from 1.61931\n",
            "\n",
            "Epoch 00010: val_loss improved from 1.61931 to 1.14543, saving model to california_house2.h5\n",
            "\n",
            "Epoch 00011: val_loss did not improve from 1.14543\n",
            "\n",
            "Epoch 00012: val_loss did not improve from 1.14543\n",
            "\n",
            "Epoch 00013: val_loss did not improve from 1.14543\n",
            "\n",
            "Epoch 00014: val_loss did not improve from 1.14543\n",
            "\n",
            "Epoch 00015: val_loss did not improve from 1.14543\n",
            "\n",
            "Epoch 00016: val_loss did not improve from 1.14543\n",
            "\n",
            "Epoch 00017: val_loss did not improve from 1.14543\n",
            "\n",
            "Epoch 00018: val_loss did not improve from 1.14543\n",
            "\n",
            "Epoch 00019: val_loss did not improve from 1.14543\n",
            "\n",
            "Epoch 00020: val_loss did not improve from 1.14543\n",
            "\n",
            "Epoch 00021: val_loss improved from 1.14543 to 1.05043, saving model to california_house2.h5\n",
            "\n",
            "Epoch 00022: val_loss did not improve from 1.05043\n",
            "\n",
            "Epoch 00023: val_loss did not improve from 1.05043\n",
            "\n",
            "Epoch 00024: val_loss did not improve from 1.05043\n",
            "\n",
            "Epoch 00025: val_loss did not improve from 1.05043\n",
            "\n",
            "Epoch 00026: val_loss improved from 1.05043 to 0.92809, saving model to california_house2.h5\n",
            "\n",
            "Epoch 00027: val_loss did not improve from 0.92809\n",
            "\n",
            "Epoch 00028: val_loss did not improve from 0.92809\n",
            "\n",
            "Epoch 00029: val_loss did not improve from 0.92809\n",
            "\n",
            "Epoch 00030: val_loss improved from 0.92809 to 0.92783, saving model to california_house2.h5\n",
            "\n",
            "Epoch 00031: val_loss did not improve from 0.92783\n",
            "\n",
            "Epoch 00032: val_loss did not improve from 0.92783\n",
            "\n",
            "Epoch 00033: val_loss did not improve from 0.92783\n",
            "\n",
            "Epoch 00034: val_loss did not improve from 0.92783\n",
            "\n",
            "Epoch 00035: val_loss did not improve from 0.92783\n",
            "\n",
            "Epoch 00036: val_loss did not improve from 0.92783\n",
            "\n",
            "Epoch 00037: val_loss improved from 0.92783 to 0.89492, saving model to california_house2.h5\n",
            "\n",
            "Epoch 00038: val_loss did not improve from 0.89492\n",
            "\n",
            "Epoch 00039: val_loss did not improve from 0.89492\n",
            "\n",
            "Epoch 00040: val_loss did not improve from 0.89492\n",
            "\n",
            "Epoch 00041: val_loss improved from 0.89492 to 0.76815, saving model to california_house2.h5\n",
            "\n",
            "Epoch 00042: val_loss improved from 0.76815 to 0.71800, saving model to california_house2.h5\n",
            "\n",
            "Epoch 00043: val_loss did not improve from 0.71800\n",
            "\n",
            "Epoch 00044: val_loss did not improve from 0.71800\n",
            "\n",
            "Epoch 00045: val_loss improved from 0.71800 to 0.70065, saving model to california_house2.h5\n",
            "\n",
            "Epoch 00046: val_loss did not improve from 0.70065\n",
            "\n",
            "Epoch 00047: val_loss improved from 0.70065 to 0.69897, saving model to california_house2.h5\n",
            "\n",
            "Epoch 00048: val_loss did not improve from 0.69897\n",
            "\n",
            "Epoch 00049: val_loss did not improve from 0.69897\n",
            "\n",
            "Epoch 00050: val_loss improved from 0.69897 to 0.64679, saving model to california_house2.h5\n",
            "\n",
            "Epoch 00051: val_loss did not improve from 0.64679\n",
            "\n",
            "Epoch 00052: val_loss did not improve from 0.64679\n",
            "\n",
            "Epoch 00053: val_loss did not improve from 0.64679\n",
            "\n",
            "Epoch 00054: val_loss did not improve from 0.64679\n",
            "\n",
            "Epoch 00055: val_loss did not improve from 0.64679\n",
            "\n",
            "Epoch 00056: val_loss did not improve from 0.64679\n",
            "\n",
            "Epoch 00057: val_loss did not improve from 0.64679\n",
            "\n",
            "Epoch 00058: val_loss did not improve from 0.64679\n",
            "\n",
            "Epoch 00059: val_loss improved from 0.64679 to 0.61697, saving model to california_house2.h5\n",
            "\n",
            "Epoch 00060: val_loss did not improve from 0.61697\n",
            "\n",
            "Epoch 00061: val_loss did not improve from 0.61697\n",
            "\n",
            "Epoch 00062: val_loss did not improve from 0.61697\n",
            "\n",
            "Epoch 00063: val_loss did not improve from 0.61697\n",
            "\n",
            "Epoch 00064: val_loss did not improve from 0.61697\n",
            "\n",
            "Epoch 00065: val_loss did not improve from 0.61697\n",
            "\n",
            "Epoch 00066: val_loss did not improve from 0.61697\n",
            "\n",
            "Epoch 00067: val_loss did not improve from 0.61697\n",
            "\n",
            "Epoch 00068: val_loss did not improve from 0.61697\n",
            "\n",
            "Epoch 00069: val_loss improved from 0.61697 to 0.59128, saving model to california_house2.h5\n",
            "\n",
            "Epoch 00070: val_loss did not improve from 0.59128\n",
            "\n",
            "Epoch 00071: val_loss did not improve from 0.59128\n",
            "\n",
            "Epoch 00072: val_loss did not improve from 0.59128\n",
            "\n",
            "Epoch 00073: val_loss did not improve from 0.59128\n",
            "\n",
            "Epoch 00074: val_loss did not improve from 0.59128\n",
            "\n",
            "Epoch 00075: val_loss did not improve from 0.59128\n",
            "\n",
            "Epoch 00076: val_loss did not improve from 0.59128\n",
            "\n",
            "Epoch 00077: val_loss did not improve from 0.59128\n",
            "\n",
            "Epoch 00078: val_loss did not improve from 0.59128\n",
            "\n",
            "Epoch 00079: val_loss did not improve from 0.59128\n",
            "\n",
            "Epoch 00080: val_loss did not improve from 0.59128\n",
            "\n",
            "Epoch 00081: val_loss did not improve from 0.59128\n",
            "\n",
            "Epoch 00082: val_loss did not improve from 0.59128\n",
            "\n",
            "Epoch 00083: val_loss did not improve from 0.59128\n",
            "\n",
            "Epoch 00084: val_loss did not improve from 0.59128\n",
            "\n",
            "Epoch 00085: val_loss did not improve from 0.59128\n",
            "\n",
            "Epoch 00086: val_loss did not improve from 0.59128\n",
            "\n",
            "Epoch 00087: val_loss did not improve from 0.59128\n",
            "\n",
            "Epoch 00088: val_loss improved from 0.59128 to 0.56024, saving model to california_house2.h5\n",
            "\n",
            "Epoch 00089: val_loss did not improve from 0.56024\n",
            "\n",
            "Epoch 00090: val_loss did not improve from 0.56024\n",
            "\n",
            "Epoch 00091: val_loss did not improve from 0.56024\n",
            "\n",
            "Epoch 00092: val_loss did not improve from 0.56024\n",
            "\n",
            "Epoch 00093: val_loss did not improve from 0.56024\n",
            "\n",
            "Epoch 00094: val_loss did not improve from 0.56024\n",
            "\n",
            "Epoch 00095: val_loss did not improve from 0.56024\n",
            "\n",
            "Epoch 00096: val_loss did not improve from 0.56024\n",
            "\n",
            "Epoch 00097: val_loss did not improve from 0.56024\n",
            "\n",
            "Epoch 00098: val_loss did not improve from 0.56024\n",
            "\n",
            "Epoch 00099: val_loss did not improve from 0.56024\n",
            "\n",
            "Epoch 00100: val_loss improved from 0.56024 to 0.55382, saving model to california_house2.h5\n",
            "\n",
            "Epoch 00101: val_loss did not improve from 0.55382\n",
            "\n",
            "Epoch 00102: val_loss did not improve from 0.55382\n",
            "\n",
            "Epoch 00103: val_loss did not improve from 0.55382\n",
            "\n",
            "Epoch 00104: val_loss did not improve from 0.55382\n",
            "\n",
            "Epoch 00105: val_loss improved from 0.55382 to 0.55214, saving model to california_house2.h5\n",
            "\n",
            "Epoch 00106: val_loss did not improve from 0.55214\n",
            "\n",
            "Epoch 00107: val_loss did not improve from 0.55214\n",
            "\n",
            "Epoch 00108: val_loss did not improve from 0.55214\n",
            "\n",
            "Epoch 00109: val_loss did not improve from 0.55214\n",
            "\n",
            "Epoch 00110: val_loss did not improve from 0.55214\n",
            "\n",
            "Epoch 00111: val_loss did not improve from 0.55214\n",
            "\n",
            "Epoch 00112: val_loss did not improve from 0.55214\n",
            "\n",
            "Epoch 00113: val_loss did not improve from 0.55214\n",
            "\n",
            "Epoch 00114: val_loss did not improve from 0.55214\n",
            "\n",
            "Epoch 00115: val_loss did not improve from 0.55214\n",
            "\n",
            "Epoch 00116: val_loss did not improve from 0.55214\n",
            "\n",
            "Epoch 00117: val_loss did not improve from 0.55214\n",
            "\n",
            "Epoch 00118: val_loss did not improve from 0.55214\n",
            "\n",
            "Epoch 00119: val_loss did not improve from 0.55214\n",
            "\n",
            "Epoch 00120: val_loss did not improve from 0.55214\n",
            "\n",
            "Epoch 00121: val_loss did not improve from 0.55214\n",
            "\n",
            "Epoch 00122: val_loss did not improve from 0.55214\n",
            "\n",
            "Epoch 00123: val_loss did not improve from 0.55214\n",
            "\n",
            "Epoch 00124: val_loss did not improve from 0.55214\n",
            "\n",
            "Epoch 00125: val_loss did not improve from 0.55214\n",
            "\n",
            "Epoch 00126: val_loss did not improve from 0.55214\n",
            "\n",
            "Epoch 00127: val_loss did not improve from 0.55214\n",
            "\n",
            "Epoch 00128: val_loss did not improve from 0.55214\n",
            "\n",
            "Epoch 00129: val_loss did not improve from 0.55214\n",
            "\n",
            "Epoch 00130: val_loss did not improve from 0.55214\n",
            "\n",
            "Epoch 00131: val_loss did not improve from 0.55214\n",
            "\n",
            "Epoch 00132: val_loss did not improve from 0.55214\n",
            "\n",
            "Epoch 00133: val_loss did not improve from 0.55214\n",
            "\n",
            "Epoch 00134: val_loss did not improve from 0.55214\n",
            "\n",
            "Epoch 00135: val_loss did not improve from 0.55214\n"
          ]
        }
      ]
    },
    {
      "cell_type": "code",
      "source": [
        "y_loss = hist2.history['loss']\n",
        "y_vloss = hist2.history['val_loss']\n",
        "xs = np.arange(1, len(y_loss)+1)"
      ],
      "metadata": {
        "id": "ik1zQuj4zySu"
      },
      "execution_count": 35,
      "outputs": []
    },
    {
      "cell_type": "code",
      "source": [
        "plt.figure(figsize = (12, 8))\n",
        "plt.plot(xs, y_loss, label = 'train loss')\n",
        "plt.plot(xs, y_vloss, label = 'validation loss')\n",
        "plt.ylim([0, 10])\n",
        "plt.legend()\n",
        "plt.grid()\n",
        "plt.xlabel('Epoch')\n",
        "plt.show()"
      ],
      "metadata": {
        "colab": {
          "base_uri": "https://localhost:8080/",
          "height": 501
        },
        "id": "v-e3gf8mzFto",
        "outputId": "42fbaf6f-7a85-42b4-8c5a-037ec343d145"
      },
      "execution_count": 36,
      "outputs": [
        {
          "output_type": "display_data",
          "data": {
            "image/png": "[encoded data removed]",
            "text/plain": [
              "<Figure size 864x576 with 1 Axes>"
            ]
          },
          "metadata": {
            "needs_background": "light"
          }
        }
      ]
    },
    {
      "cell_type": "markdown",
      "source": [
        "* 평가"
      ],
      "metadata": {
        "id": "SQhm2UWf0Hx_"
      }
    },
    {
      "cell_type": "code",
      "source": [
        "pred = model.predict(X_test)\n",
        "pred2 = model2.predict(X_test)"
      ],
      "metadata": {
        "id": "qqLwthpcz5eK"
      },
      "execution_count": 37,
      "outputs": []
    },
    {
      "cell_type": "code",
      "source": [
        "from sklearn.metrics import mean_squared_error, r2_score\n",
        "\n",
        "mean_squared_error(y_test, pred), r2_score(y_test, pred)"
      ],
      "metadata": {
        "colab": {
          "base_uri": "https://localhost:8080/"
        },
        "id": "4frHOPag0OWQ",
        "outputId": "0f46a3f5-c878-42b3-a34b-f59391bfc4b7"
      },
      "execution_count": 40,
      "outputs": [
        {
          "output_type": "execute_result",
          "data": {
            "text/plain": [
              "(0.6342579010419714, 0.5058067014515283)"
            ]
          },
          "metadata": {},
          "execution_count": 40
        }
      ]
    },
    {
      "cell_type": "code",
      "source": [
        "mean_squared_error(y_test, pred2), r2_score(y_test, pred2)"
      ],
      "metadata": {
        "colab": {
          "base_uri": "https://localhost:8080/"
        },
        "id": "WsH9ZYe40n5s",
        "outputId": "c0112b62-cc84-44b2-ce56-c22e2a1187fd"
      },
      "execution_count": 41,
      "outputs": [
        {
          "output_type": "execute_result",
          "data": {
            "text/plain": [
              "(0.6467749999320324, 0.4960537817345262)"
            ]
          },
          "metadata": {},
          "execution_count": 41
        }
      ]
    },
    {
      "cell_type": "code",
      "source": [
        "df = pd.DataFrame({\n",
        "    'y_test' : y_test, 'pred' : pred.flatten(), 'pred2' : pred2.flatten()\n",
        "})\n",
        "df.head(10)"
      ],
      "metadata": {
        "colab": {
          "base_uri": "https://localhost:8080/",
          "height": 363
        },
        "id": "nWAXDbWL0vUm",
        "outputId": "50b2fcc5-7b97-4cdf-c1f3-7da606580f13"
      },
      "execution_count": 42,
      "outputs": [
        {
          "output_type": "execute_result",
          "data": {
            "text/html": [
              "\n",
              "  <div id=\"df-f7d6517e-a0c1-4e65-8a28-518937355435\">\n",
              "    <div class=\"colab-df-container\">\n",
              "      <div>\n",
              "<style scoped>\n",
              "    .dataframe tbody tr th:only-of-type {\n",
              "        vertical-align: middle;\n",
              "    }\n",
              "\n",
              "    .dataframe tbody tr th {\n",
              "        vertical-align: top;\n",
              "    }\n",
              "\n",
              "    .dataframe thead th {\n",
              "        text-align: right;\n",
              "    }\n",
              "</style>\n",
              "<table border=\"1\" class=\"dataframe\">\n",
              "  <thead>\n",
              "    <tr style=\"text-align: right;\">\n",
              "      <th></th>\n",
              "      <th>y_test</th>\n",
              "      <th>pred</th>\n",
              "      <th>pred2</th>\n",
              "    </tr>\n",
              "  </thead>\n",
              "  <tbody>\n",
              "    <tr>\n",
              "      <th>0</th>\n",
              "      <td>4.771</td>\n",
              "      <td>4.560508</td>\n",
              "      <td>4.885724</td>\n",
              "    </tr>\n",
              "    <tr>\n",
              "      <th>1</th>\n",
              "      <td>1.371</td>\n",
              "      <td>1.668998</td>\n",
              "      <td>1.014192</td>\n",
              "    </tr>\n",
              "    <tr>\n",
              "      <th>2</th>\n",
              "      <td>1.233</td>\n",
              "      <td>2.010825</td>\n",
              "      <td>2.663762</td>\n",
              "    </tr>\n",
              "    <tr>\n",
              "      <th>3</th>\n",
              "      <td>0.938</td>\n",
              "      <td>1.756583</td>\n",
              "      <td>1.268851</td>\n",
              "    </tr>\n",
              "    <tr>\n",
              "      <th>4</th>\n",
              "      <td>3.260</td>\n",
              "      <td>3.173606</td>\n",
              "      <td>2.994500</td>\n",
              "    </tr>\n",
              "    <tr>\n",
              "      <th>5</th>\n",
              "      <td>1.516</td>\n",
              "      <td>1.897010</td>\n",
              "      <td>1.058061</td>\n",
              "    </tr>\n",
              "    <tr>\n",
              "      <th>6</th>\n",
              "      <td>2.738</td>\n",
              "      <td>2.476142</td>\n",
              "      <td>2.015067</td>\n",
              "    </tr>\n",
              "    <tr>\n",
              "      <th>7</th>\n",
              "      <td>1.368</td>\n",
              "      <td>2.034904</td>\n",
              "      <td>1.881567</td>\n",
              "    </tr>\n",
              "    <tr>\n",
              "      <th>8</th>\n",
              "      <td>1.175</td>\n",
              "      <td>1.158225</td>\n",
              "      <td>0.887134</td>\n",
              "    </tr>\n",
              "    <tr>\n",
              "      <th>9</th>\n",
              "      <td>2.966</td>\n",
              "      <td>2.886039</td>\n",
              "      <td>2.579246</td>\n",
              "    </tr>\n",
              "  </tbody>\n",
              "</table>\n",
              "</div>\n",
              "      <button class=\"colab-df-convert\" onclick=\"convertToInteractive('df-f7d6517e-a0c1-4e65-8a28-518937355435')\"\n",
              "              title=\"Convert this dataframe to an interactive table.\"\n",
              "              style=\"display:none;\">\n",
              "        \n",
              "  <svg xmlns=\"http://www.w3.org/2000/svg\" height=\"24px\"viewBox=\"0 0 24 24\"\n",
              "       width=\"24px\">\n",
              "    <path d=\"M0 0h24v24H0V0z\" fill=\"none\"/>\n",
              "    <path d=\"M18.56 5.44l.94 2.06.94-2.06 2.06-.94-2.06-.94-.94-2.06-.94 2.06-2.06.94zm-11 1L8.5 8.5l.94-2.06 2.06-.94-2.06-.94L8.5 2.5l-.94 2.06-2.06.94zm10 10l.94 2.06.94-2.06 2.06-.94-2.06-.94-.94-2.06-.94 2.06-2.06.94z\"/><path d=\"M17.41 7.96l-1.37-1.37c-.4-.4-.92-.59-1.43-.59-.52 0-1.04.2-1.43.59L10.3 9.45l-7.72 7.72c-.78.78-.78 2.05 0 2.83L4 21.41c.39.39.9.59 1.41.59.51 0 1.02-.2 1.41-.59l7.78-7.78 2.81-2.81c.8-.78.8-2.07 0-2.86zM5.41 20L4 18.59l7.72-7.72 1.47 1.35L5.41 20z\"/>\n",
              "  </svg>\n",
              "      </button>\n",
              "      \n",
              "  <style>\n",
              "    .colab-df-container {\n",
              "      display:flex;\n",
              "      flex-wrap:wrap;\n",
              "      gap: 12px;\n",
              "    }\n",
              "\n",
              "    .colab-df-convert {\n",
              "      background-color: #E8F0FE;\n",
              "      border: none;\n",
              "      border-radius: 50%;\n",
              "      cursor: pointer;\n",
              "      display: none;\n",
              "      fill: #1967D2;\n",
              "      height: 32px;\n",
              "      padding: 0 0 0 0;\n",
              "      width: 32px;\n",
              "    }\n",
              "\n",
              "    .colab-df-convert:hover {\n",
              "      background-color: #E2EBFA;\n",
              "      box-shadow: 0px 1px 2px rgba(60, 64, 67, 0.3), 0px 1px 3px 1px rgba(60, 64, 67, 0.15);\n",
              "      fill: #174EA6;\n",
              "    }\n",
              "\n",
              "    [theme=dark] .colab-df-convert {\n",
              "      background-color: #3B4455;\n",
              "      fill: #D2E3FC;\n",
              "    }\n",
              "\n",
              "    [theme=dark] .colab-df-convert:hover {\n",
              "      background-color: #434B5C;\n",
              "      box-shadow: 0px 1px 3px 1px rgba(0, 0, 0, 0.15);\n",
              "      filter: drop-shadow(0px 1px 2px rgba(0, 0, 0, 0.3));\n",
              "      fill: #FFFFFF;\n",
              "    }\n",
              "  </style>\n",
              "\n",
              "      <script>\n",
              "        const buttonEl =\n",
              "          document.querySelector('#df-f7d6517e-a0c1-4e65-8a28-518937355435 button.colab-df-convert');\n",
              "        buttonEl.style.display =\n",
              "          google.colab.kernel.accessAllowed ? 'block' : 'none';\n",
              "\n",
              "        async function convertToInteractive(key) {\n",
              "          const element = document.querySelector('#df-f7d6517e-a0c1-4e65-8a28-518937355435');\n",
              "          const dataTable =\n",
              "            await google.colab.kernel.invokeFunction('convertToInteractive',\n",
              "                                                     [key], {});\n",
              "          if (!dataTable) return;\n",
              "\n",
              "          const docLinkHtml = 'Like what you see? Visit the ' +\n",
              "            '<a target=\"_blank\" href=https://colab.research.google.com/notebooks/data_table.ipynb>data table notebook</a>'\n",
              "            + ' to learn more about interactive tables.';\n",
              "          element.innerHTML = '';\n",
              "          dataTable['output_type'] = 'display_data';\n",
              "          await google.colab.output.renderOutput(dataTable, element);\n",
              "          const docLink = document.createElement('div');\n",
              "          docLink.innerHTML = docLinkHtml;\n",
              "          element.appendChild(docLink);\n",
              "        }\n",
              "      </script>\n",
              "    </div>\n",
              "  </div>\n",
              "  "
            ],
            "text/plain": [
              "   y_test      pred     pred2\n",
              "0   4.771  4.560508  4.885724\n",
              "1   1.371  1.668998  1.014192\n",
              "2   1.233  2.010825  2.663762\n",
              "3   0.938  1.756583  1.268851\n",
              "4   3.260  3.173606  2.994500\n",
              "5   1.516  1.897010  1.058061\n",
              "6   2.738  2.476142  2.015067\n",
              "7   1.368  2.034904  1.881567\n",
              "8   1.175  1.158225  0.887134\n",
              "9   2.966  2.886039  2.579246"
            ]
          },
          "metadata": {},
          "execution_count": 42
        }
      ]
    },
    {
      "cell_type": "code",
      "source": [
        ""
      ],
      "metadata": {
        "id": "fWgtE6N31C2O"
      },
      "execution_count": null,
      "outputs": []
    }
  ]
}