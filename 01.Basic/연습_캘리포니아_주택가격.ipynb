{
  "nbformat": 4,
  "nbformat_minor": 0,
  "metadata": {
    "colab": {
      "name": "연습_캘리포니아_주택가격.ipynb",
      "provenance": [],
      "collapsed_sections": []
    },
    "kernelspec": {
      "name": "python3",
      "display_name": "Python 3"
    },
    "language_info": {
      "name": "python"
    }
  },
  "cells": [
    {
      "cell_type": "markdown",
      "source": [
        "# 1. 필요한 모듈 불러오기 및 데이터 로딩"
      ],
      "metadata": {
        "id": "w1B9crtfSXnE"
      }
    },
    {
      "cell_type": "code",
      "execution_count": null,
      "metadata": {
        "id": "CFbgUkhFQsEe"
      },
      "outputs": [],
      "source": [
        "import numpy as np\n",
        "import pandas as pd\n",
        "from sklearn.datasets import fetch_california_housing\n",
        "house = fetch_california_housing()"
      ]
    },
    {
      "cell_type": "code",
      "source": [
        "df = pd.DataFrame(house.data, columns = house.feature_names)\n",
        "df['target'] = house.target\n",
        "df.head()"
      ],
      "metadata": {
        "colab": {
          "base_uri": "https://localhost:8080/",
          "height": 206
        },
        "id": "__Qhe_iORuis",
        "outputId": "a4a405b4-277a-4b2f-9a2b-537ec933f225"
      },
      "execution_count": null,
      "outputs": [
        {
          "output_type": "execute_result",
          "data": {
            "text/html": [
              "\n",
              "  <div id=\"df-b37cc7f5-e483-478e-b95f-d260e5215133\">\n",
              "    <div class=\"colab-df-container\">\n",
              "      <div>\n",
              "<style scoped>\n",
              "    .dataframe tbody tr th:only-of-type {\n",
              "        vertical-align: middle;\n",
              "    }\n",
              "\n",
              "    .dataframe tbody tr th {\n",
              "        vertical-align: top;\n",
              "    }\n",
              "\n",
              "    .dataframe thead th {\n",
              "        text-align: right;\n",
              "    }\n",
              "</style>\n",
              "<table border=\"1\" class=\"dataframe\">\n",
              "  <thead>\n",
              "    <tr style=\"text-align: right;\">\n",
              "      <th></th>\n",
              "      <th>MedInc</th>\n",
              "      <th>HouseAge</th>\n",
              "      <th>AveRooms</th>\n",
              "      <th>AveBedrms</th>\n",
              "      <th>Population</th>\n",
              "      <th>AveOccup</th>\n",
              "      <th>Latitude</th>\n",
              "      <th>Longitude</th>\n",
              "      <th>target</th>\n",
              "    </tr>\n",
              "  </thead>\n",
              "  <tbody>\n",
              "    <tr>\n",
              "      <th>0</th>\n",
              "      <td>8.3252</td>\n",
              "      <td>41.0</td>\n",
              "      <td>6.984127</td>\n",
              "      <td>1.023810</td>\n",
              "      <td>322.0</td>\n",
              "      <td>2.555556</td>\n",
              "      <td>37.88</td>\n",
              "      <td>-122.23</td>\n",
              "      <td>4.526</td>\n",
              "    </tr>\n",
              "    <tr>\n",
              "      <th>1</th>\n",
              "      <td>8.3014</td>\n",
              "      <td>21.0</td>\n",
              "      <td>6.238137</td>\n",
              "      <td>0.971880</td>\n",
              "      <td>2401.0</td>\n",
              "      <td>2.109842</td>\n",
              "      <td>37.86</td>\n",
              "      <td>-122.22</td>\n",
              "      <td>3.585</td>\n",
              "    </tr>\n",
              "    <tr>\n",
              "      <th>2</th>\n",
              "      <td>7.2574</td>\n",
              "      <td>52.0</td>\n",
              "      <td>8.288136</td>\n",
              "      <td>1.073446</td>\n",
              "      <td>496.0</td>\n",
              "      <td>2.802260</td>\n",
              "      <td>37.85</td>\n",
              "      <td>-122.24</td>\n",
              "      <td>3.521</td>\n",
              "    </tr>\n",
              "    <tr>\n",
              "      <th>3</th>\n",
              "      <td>5.6431</td>\n",
              "      <td>52.0</td>\n",
              "      <td>5.817352</td>\n",
              "      <td>1.073059</td>\n",
              "      <td>558.0</td>\n",
              "      <td>2.547945</td>\n",
              "      <td>37.85</td>\n",
              "      <td>-122.25</td>\n",
              "      <td>3.413</td>\n",
              "    </tr>\n",
              "    <tr>\n",
              "      <th>4</th>\n",
              "      <td>3.8462</td>\n",
              "      <td>52.0</td>\n",
              "      <td>6.281853</td>\n",
              "      <td>1.081081</td>\n",
              "      <td>565.0</td>\n",
              "      <td>2.181467</td>\n",
              "      <td>37.85</td>\n",
              "      <td>-122.25</td>\n",
              "      <td>3.422</td>\n",
              "    </tr>\n",
              "  </tbody>\n",
              "</table>\n",
              "</div>\n",
              "      <button class=\"colab-df-convert\" onclick=\"convertToInteractive('df-b37cc7f5-e483-478e-b95f-d260e5215133')\"\n",
              "              title=\"Convert this dataframe to an interactive table.\"\n",
              "              style=\"display:none;\">\n",
              "        \n",
              "  <svg xmlns=\"http://www.w3.org/2000/svg\" height=\"24px\"viewBox=\"0 0 24 24\"\n",
              "       width=\"24px\">\n",
              "    <path d=\"M0 0h24v24H0V0z\" fill=\"none\"/>\n",
              "    <path d=\"M18.56 5.44l.94 2.06.94-2.06 2.06-.94-2.06-.94-.94-2.06-.94 2.06-2.06.94zm-11 1L8.5 8.5l.94-2.06 2.06-.94-2.06-.94L8.5 2.5l-.94 2.06-2.06.94zm10 10l.94 2.06.94-2.06 2.06-.94-2.06-.94-.94-2.06-.94 2.06-2.06.94z\"/><path d=\"M17.41 7.96l-1.37-1.37c-.4-.4-.92-.59-1.43-.59-.52 0-1.04.2-1.43.59L10.3 9.45l-7.72 7.72c-.78.78-.78 2.05 0 2.83L4 21.41c.39.39.9.59 1.41.59.51 0 1.02-.2 1.41-.59l7.78-7.78 2.81-2.81c.8-.78.8-2.07 0-2.86zM5.41 20L4 18.59l7.72-7.72 1.47 1.35L5.41 20z\"/>\n",
              "  </svg>\n",
              "      </button>\n",
              "      \n",
              "  <style>\n",
              "    .colab-df-container {\n",
              "      display:flex;\n",
              "      flex-wrap:wrap;\n",
              "      gap: 12px;\n",
              "    }\n",
              "\n",
              "    .colab-df-convert {\n",
              "      background-color: #E8F0FE;\n",
              "      border: none;\n",
              "      border-radius: 50%;\n",
              "      cursor: pointer;\n",
              "      display: none;\n",
              "      fill: #1967D2;\n",
              "      height: 32px;\n",
              "      padding: 0 0 0 0;\n",
              "      width: 32px;\n",
              "    }\n",
              "\n",
              "    .colab-df-convert:hover {\n",
              "      background-color: #E2EBFA;\n",
              "      box-shadow: 0px 1px 2px rgba(60, 64, 67, 0.3), 0px 1px 3px 1px rgba(60, 64, 67, 0.15);\n",
              "      fill: #174EA6;\n",
              "    }\n",
              "\n",
              "    [theme=dark] .colab-df-convert {\n",
              "      background-color: #3B4455;\n",
              "      fill: #D2E3FC;\n",
              "    }\n",
              "\n",
              "    [theme=dark] .colab-df-convert:hover {\n",
              "      background-color: #434B5C;\n",
              "      box-shadow: 0px 1px 3px 1px rgba(0, 0, 0, 0.15);\n",
              "      filter: drop-shadow(0px 1px 2px rgba(0, 0, 0, 0.3));\n",
              "      fill: #FFFFFF;\n",
              "    }\n",
              "  </style>\n",
              "\n",
              "      <script>\n",
              "        const buttonEl =\n",
              "          document.querySelector('#df-b37cc7f5-e483-478e-b95f-d260e5215133 button.colab-df-convert');\n",
              "        buttonEl.style.display =\n",
              "          google.colab.kernel.accessAllowed ? 'block' : 'none';\n",
              "\n",
              "        async function convertToInteractive(key) {\n",
              "          const element = document.querySelector('#df-b37cc7f5-e483-478e-b95f-d260e5215133');\n",
              "          const dataTable =\n",
              "            await google.colab.kernel.invokeFunction('convertToInteractive',\n",
              "                                                     [key], {});\n",
              "          if (!dataTable) return;\n",
              "\n",
              "          const docLinkHtml = 'Like what you see? Visit the ' +\n",
              "            '<a target=\"_blank\" href=https://colab.research.google.com/notebooks/data_table.ipynb>data table notebook</a>'\n",
              "            + ' to learn more about interactive tables.';\n",
              "          element.innerHTML = '';\n",
              "          dataTable['output_type'] = 'display_data';\n",
              "          await google.colab.output.renderOutput(dataTable, element);\n",
              "          const docLink = document.createElement('div');\n",
              "          docLink.innerHTML = docLinkHtml;\n",
              "          element.appendChild(docLink);\n",
              "        }\n",
              "      </script>\n",
              "    </div>\n",
              "  </div>\n",
              "  "
            ],
            "text/plain": [
              "   MedInc  HouseAge  AveRooms  AveBedrms  ...  AveOccup  Latitude  Longitude  target\n",
              "0  8.3252      41.0  6.984127   1.023810  ...  2.555556     37.88    -122.23   4.526\n",
              "1  8.3014      21.0  6.238137   0.971880  ...  2.109842     37.86    -122.22   3.585\n",
              "2  7.2574      52.0  8.288136   1.073446  ...  2.802260     37.85    -122.24   3.521\n",
              "3  5.6431      52.0  5.817352   1.073059  ...  2.547945     37.85    -122.25   3.413\n",
              "4  3.8462      52.0  6.281853   1.081081  ...  2.181467     37.85    -122.25   3.422\n",
              "\n",
              "[5 rows x 9 columns]"
            ]
          },
          "metadata": {},
          "execution_count": 10
        }
      ]
    },
    {
      "cell_type": "code",
      "source": [
        "df.info()"
      ],
      "metadata": {
        "colab": {
          "base_uri": "https://localhost:8080/"
        },
        "id": "E523UhSESCTt",
        "outputId": "2fbec4b9-5299-4457-fb5c-e6e9e97a4eec"
      },
      "execution_count": null,
      "outputs": [
        {
          "output_type": "stream",
          "name": "stdout",
          "text": [
            "<class 'pandas.core.frame.DataFrame'>\n",
            "RangeIndex: 20640 entries, 0 to 20639\n",
            "Data columns (total 9 columns):\n",
            " #   Column      Non-Null Count  Dtype  \n",
            "---  ------      --------------  -----  \n",
            " 0   MedInc      20640 non-null  float64\n",
            " 1   HouseAge    20640 non-null  float64\n",
            " 2   AveRooms    20640 non-null  float64\n",
            " 3   AveBedrms   20640 non-null  float64\n",
            " 4   Population  20640 non-null  float64\n",
            " 5   AveOccup    20640 non-null  float64\n",
            " 6   Latitude    20640 non-null  float64\n",
            " 7   Longitude   20640 non-null  float64\n",
            " 8   target      20640 non-null  float64\n",
            "dtypes: float64(9)\n",
            "memory usage: 1.4 MB\n"
          ]
        }
      ]
    },
    {
      "cell_type": "code",
      "source": [
        "df.shape"
      ],
      "metadata": {
        "colab": {
          "base_uri": "https://localhost:8080/"
        },
        "id": "1q8XzcQESGPv",
        "outputId": "46757d72-d15f-4a24-c4e2-ba4b5f8085f0"
      },
      "execution_count": null,
      "outputs": [
        {
          "output_type": "execute_result",
          "data": {
            "text/plain": [
              "(20640, 9)"
            ]
          },
          "metadata": {},
          "execution_count": 12
        }
      ]
    },
    {
      "cell_type": "markdown",
      "source": [
        "# 2. Train/Test dataset 분리"
      ],
      "metadata": {
        "id": "hBgtXaCeSejz"
      }
    },
    {
      "cell_type": "code",
      "source": [
        "from sklearn.model_selection import train_test_split\n",
        "\n",
        "X_train, X_test, y_train, y_test = train_test_split(\n",
        "    house.data, house.target, test_size = 0.1, random_state = 2022\n",
        ")\n",
        "X_train.shape, X_test.shape, y_train.shape, y_test.shape"
      ],
      "metadata": {
        "colab": {
          "base_uri": "https://localhost:8080/"
        },
        "id": "LEdynop4SJeW",
        "outputId": "d64205c5-5ba5-4da0-cb60-456fc2d98547"
      },
      "execution_count": null,
      "outputs": [
        {
          "output_type": "execute_result",
          "data": {
            "text/plain": [
              "((18576, 8), (2064, 8), (18576,), (2064,))"
            ]
          },
          "metadata": {},
          "execution_count": 13
        }
      ]
    },
    {
      "cell_type": "markdown",
      "source": [
        "# 3. 모델 정의/설정/학습"
      ],
      "metadata": {
        "id": "aBX2TpKFT_AU"
      }
    },
    {
      "cell_type": "code",
      "source": [
        "from tensorflow.keras.models import Sequential\n",
        "from tensorflow.keras.layers import Dense"
      ],
      "metadata": {
        "id": "2s15ZL1aUNre"
      },
      "execution_count": null,
      "outputs": []
    },
    {
      "cell_type": "code",
      "source": [
        "model = Sequential([\n",
        "                    Dense(64, input_dim = 8, activation = 'relu'),\n",
        "                    Dense(32, activation = 'relu'),\n",
        "                    Dense(16, activation = 'relu'),\n",
        "                    Dense(8, activation = 'relu'),\n",
        "                    Dense(4, activation = 'relu'),\n",
        "                    Dense(2, activation = 'relu'),\n",
        "                    Dense(1)\n",
        "])\n",
        "model.summary()"
      ],
      "metadata": {
        "colab": {
          "base_uri": "https://localhost:8080/"
        },
        "id": "ZyqBKsyOUVAq",
        "outputId": "a72b5bae-8f32-4b92-ba75-8fb519d19d84"
      },
      "execution_count": null,
      "outputs": [
        {
          "output_type": "stream",
          "name": "stdout",
          "text": [
            "Model: \"sequential\"\n",
            "_________________________________________________________________\n",
            " Layer (type)                Output Shape              Param #   \n",
            "=================================================================\n",
            " dense (Dense)               (None, 64)                576       \n",
            "                                                                 \n",
            " dense_1 (Dense)             (None, 32)                2080      \n",
            "                                                                 \n",
            " dense_2 (Dense)             (None, 16)                528       \n",
            "                                                                 \n",
            " dense_3 (Dense)             (None, 8)                 136       \n",
            "                                                                 \n",
            " dense_4 (Dense)             (None, 4)                 36        \n",
            "                                                                 \n",
            " dense_5 (Dense)             (None, 2)                 10        \n",
            "                                                                 \n",
            " dense_6 (Dense)             (None, 1)                 3         \n",
            "                                                                 \n",
            "=================================================================\n",
            "Total params: 3,369\n",
            "Trainable params: 3,369\n",
            "Non-trainable params: 0\n",
            "_________________________________________________________________\n"
          ]
        }
      ]
    },
    {
      "cell_type": "code",
      "source": [
        "model.compile(optimizer='adam', loss = 'mean_squared_error')"
      ],
      "metadata": {
        "id": "NjPt-wfIVB6M"
      },
      "execution_count": null,
      "outputs": []
    },
    {
      "cell_type": "code",
      "source": [
        "hist = model.fit(X_train, y_train, batch_size=400, epochs=200, validation_split=0.2)"
      ],
      "metadata": {
        "id": "fEUWGhmlV-Xw"
      },
      "execution_count": null,
      "outputs": []
    },
    {
      "cell_type": "markdown",
      "source": [
        "# 5. 시각화"
      ],
      "metadata": {
        "id": "ZLs0Rro0WNAJ"
      }
    },
    {
      "cell_type": "code",
      "source": [
        "y_loss = hist.history['loss']\n",
        "y_vloss = hist.history['val_loss']\n",
        "xs = np.arange(1, len(y_loss)+1)"
      ],
      "metadata": {
        "id": "sqUvZGnbWUZ-"
      },
      "execution_count": null,
      "outputs": []
    },
    {
      "cell_type": "code",
      "source": [
        "import matplotlib.pyplot as plt\n",
        "\n",
        "plt.figure(figsize = (12, 8))\n",
        "plt.plot(xs, y_loss, label = 'train loss')\n",
        "plt.plot(xs, y_vloss, label = 'validation loss')\n",
        "plt.grid()\n",
        "plt.legend()\n",
        "plt.xlabel('Epoch')\n",
        "plt.show()"
      ],
      "metadata": {
        "colab": {
          "base_uri": "https://localhost:8080/",
          "height": 497
        },
        "id": "eaZYqRxJWljD",
        "outputId": "9ba9d8a3-e15c-404c-f175-0c9b9baeab61"
      },
      "execution_count": null,
      "outputs": [
        {
          "output_type": "display_data",
          "data": {
            "image/png": "[encoded data removed]",
            "text/plain": [
              "<Figure size 864x576 with 1 Axes>"
            ]
          },
          "metadata": {
            "needs_background": "light"
          }
        }
      ]
    },
    {
      "cell_type": "markdown",
      "source": [
        "# 6. 다른 모델 만들어서 훈련"
      ],
      "metadata": {
        "id": "BxSv1P0cXPKP"
      }
    },
    {
      "cell_type": "code",
      "source": [
        "del model2"
      ],
      "metadata": {
        "id": "hWiji2fiZN_J"
      },
      "execution_count": null,
      "outputs": []
    },
    {
      "cell_type": "code",
      "source": [
        "model2 = Sequential([\n",
        "                    Dense(256, input_dim = 8, activation = 'relu'),\n",
        "                    Dense(128, activation = 'relu'),\n",
        "                    Dense(64, activation = 'relu'),\n",
        "                    Dense(32, activation = 'relu'),\n",
        "                    Dense(16, activation = 'relu'),\n",
        "                    Dense(8, activation = 'relu'),\n",
        "                    Dense(4, activation = 'relu'),\n",
        "                    Dense(2, activation = 'relu'),\n",
        "                    Dense(1)\n",
        "])\n",
        "model2.summary()"
      ],
      "metadata": {
        "colab": {
          "base_uri": "https://localhost:8080/"
        },
        "id": "XSidTuXCW4Hs",
        "outputId": "c1fcfd82-6138-4c99-a19e-d6e68fbc7cd6"
      },
      "execution_count": null,
      "outputs": [
        {
          "output_type": "stream",
          "name": "stdout",
          "text": [
            "Model: \"sequential_5\"\n",
            "_________________________________________________________________\n",
            " Layer (type)                Output Shape              Param #   \n",
            "=================================================================\n",
            " dense_55 (Dense)            (None, 256)               2304      \n",
            "                                                                 \n",
            " dense_56 (Dense)            (None, 128)               32896     \n",
            "                                                                 \n",
            " dense_57 (Dense)            (None, 64)                8256      \n",
            "                                                                 \n",
            " dense_58 (Dense)            (None, 32)                2080      \n",
            "                                                                 \n",
            " dense_59 (Dense)            (None, 16)                528       \n",
            "                                                                 \n",
            " dense_60 (Dense)            (None, 8)                 136       \n",
            "                                                                 \n",
            " dense_61 (Dense)            (None, 4)                 36        \n",
            "                                                                 \n",
            " dense_62 (Dense)            (None, 2)                 10        \n",
            "                                                                 \n",
            " dense_63 (Dense)            (None, 1)                 3         \n",
            "                                                                 \n",
            "=================================================================\n",
            "Total params: 46,249\n",
            "Trainable params: 46,249\n",
            "Non-trainable params: 0\n",
            "_________________________________________________________________\n"
          ]
        }
      ]
    },
    {
      "cell_type": "code",
      "source": [
        "model2.compile(optimizer='adam', loss='mean_squared_error')"
      ],
      "metadata": {
        "id": "dzzXK7XNXTbS"
      },
      "execution_count": null,
      "outputs": []
    },
    {
      "cell_type": "code",
      "source": [
        "from tensorflow.keras.callbacks import ModelCheckpoint, EarlyStopping\n",
        "\n",
        "model_path2 = 'california_house2.h5'\n",
        "checkpoint = ModelCheckpoint(\n",
        "    model_path2, monitor='val_loss', verbose=1, save_best_only=True\n",
        ")\n",
        "early_stop = EarlyStopping(patience=40)"
      ],
      "metadata": {
        "id": "p_rNyS60XiJS"
      },
      "execution_count": null,
      "outputs": []
    },
    {
      "cell_type": "code",
      "source": [
        "hist2 = model2.fit(X_train, y_train, batch_size=128, epochs=1000, validation_split=0.2,\n",
        "                   verbose = 0, callbacks = [checkpoint, early_stop])"
      ],
      "metadata": {
        "colab": {
          "base_uri": "https://localhost:8080/"
        },
        "id": "9heHGL83XbkU",
        "outputId": "7cc70370-7190-4b74-bd29-ca7d7fe47100"
      },
      "execution_count": null,
      "outputs": [
        {
          "output_type": "stream",
          "name": "stdout",
          "text": [
            "\n",
            "Epoch 00001: val_loss improved from inf to 1.53999, saving model to california_house2.h5\n",
            "\n",
            "Epoch 00002: val_loss improved from 1.53999 to 1.24719, saving model to california_house2.h5\n",
            "\n",
            "Epoch 00003: val_loss did not improve from 1.24719\n",
            "\n",
            "Epoch 00004: val_loss improved from 1.24719 to 1.19287, saving model to california_house2.h5\n",
            "\n",
            "Epoch 00005: val_loss improved from 1.19287 to 0.69485, saving model to california_house2.h5\n",
            "\n",
            "Epoch 00006: val_loss improved from 0.69485 to 0.64998, saving model to california_house2.h5\n",
            "\n",
            "Epoch 00007: val_loss did not improve from 0.64998\n",
            "\n",
            "Epoch 00008: val_loss did not improve from 0.64998\n",
            "\n",
            "Epoch 00009: val_loss improved from 0.64998 to 0.60147, saving model to california_house2.h5\n",
            "\n",
            "Epoch 00010: val_loss did not improve from 0.60147\n",
            "\n",
            "Epoch 00011: val_loss improved from 0.60147 to 0.56328, saving model to california_house2.h5\n",
            "\n",
            "Epoch 00012: val_loss did not improve from 0.56328\n",
            "\n",
            "Epoch 00013: val_loss did not improve from 0.56328\n",
            "\n",
            "Epoch 00014: val_loss did not improve from 0.56328\n",
            "\n",
            "Epoch 00015: val_loss did not improve from 0.56328\n",
            "\n",
            "Epoch 00016: val_loss did not improve from 0.56328\n",
            "\n",
            "Epoch 00017: val_loss did not improve from 0.56328\n",
            "\n",
            "Epoch 00018: val_loss did not improve from 0.56328\n",
            "\n",
            "Epoch 00019: val_loss did not improve from 0.56328\n",
            "\n",
            "Epoch 00020: val_loss did not improve from 0.56328\n",
            "\n",
            "Epoch 00021: val_loss did not improve from 0.56328\n",
            "\n",
            "Epoch 00022: val_loss improved from 0.56328 to 0.53419, saving model to california_house2.h5\n",
            "\n",
            "Epoch 00023: val_loss did not improve from 0.53419\n",
            "\n",
            "Epoch 00024: val_loss did not improve from 0.53419\n",
            "\n",
            "Epoch 00025: val_loss did not improve from 0.53419\n",
            "\n",
            "Epoch 00026: val_loss did not improve from 0.53419\n",
            "\n",
            "Epoch 00027: val_loss did not improve from 0.53419\n",
            "\n",
            "Epoch 00028: val_loss did not improve from 0.53419\n",
            "\n",
            "Epoch 00029: val_loss did not improve from 0.53419\n",
            "\n",
            "Epoch 00030: val_loss improved from 0.53419 to 0.52113, saving model to california_house2.h5\n",
            "\n",
            "Epoch 00031: val_loss did not improve from 0.52113\n",
            "\n",
            "Epoch 00032: val_loss did not improve from 0.52113\n",
            "\n",
            "Epoch 00033: val_loss did not improve from 0.52113\n",
            "\n",
            "Epoch 00034: val_loss did not improve from 0.52113\n",
            "\n",
            "Epoch 00035: val_loss did not improve from 0.52113\n",
            "\n",
            "Epoch 00036: val_loss did not improve from 0.52113\n",
            "\n",
            "Epoch 00037: val_loss did not improve from 0.52113\n",
            "\n",
            "Epoch 00038: val_loss did not improve from 0.52113\n",
            "\n",
            "Epoch 00039: val_loss did not improve from 0.52113\n",
            "\n",
            "Epoch 00040: val_loss did not improve from 0.52113\n",
            "\n",
            "Epoch 00041: val_loss did not improve from 0.52113\n",
            "\n",
            "Epoch 00042: val_loss did not improve from 0.52113\n",
            "\n",
            "Epoch 00043: val_loss did not improve from 0.52113\n",
            "\n",
            "Epoch 00044: val_loss improved from 0.52113 to 0.50041, saving model to california_house2.h5\n",
            "\n",
            "Epoch 00045: val_loss did not improve from 0.50041\n",
            "\n",
            "Epoch 00046: val_loss did not improve from 0.50041\n",
            "\n",
            "Epoch 00047: val_loss did not improve from 0.50041\n",
            "\n",
            "Epoch 00048: val_loss did not improve from 0.50041\n",
            "\n",
            "Epoch 00049: val_loss did not improve from 0.50041\n",
            "\n",
            "Epoch 00050: val_loss did not improve from 0.50041\n",
            "\n",
            "Epoch 00051: val_loss did not improve from 0.50041\n",
            "\n",
            "Epoch 00052: val_loss did not improve from 0.50041\n",
            "\n",
            "Epoch 00053: val_loss did not improve from 0.50041\n",
            "\n",
            "Epoch 00054: val_loss did not improve from 0.50041\n",
            "\n",
            "Epoch 00055: val_loss did not improve from 0.50041\n",
            "\n",
            "Epoch 00056: val_loss did not improve from 0.50041\n",
            "\n",
            "Epoch 00057: val_loss improved from 0.50041 to 0.49276, saving model to california_house2.h5\n",
            "\n",
            "Epoch 00058: val_loss did not improve from 0.49276\n",
            "\n",
            "Epoch 00059: val_loss did not improve from 0.49276\n",
            "\n",
            "Epoch 00060: val_loss did not improve from 0.49276\n",
            "\n",
            "Epoch 00061: val_loss did not improve from 0.49276\n",
            "\n",
            "Epoch 00062: val_loss did not improve from 0.49276\n",
            "\n",
            "Epoch 00063: val_loss did not improve from 0.49276\n",
            "\n",
            "Epoch 00064: val_loss did not improve from 0.49276\n",
            "\n",
            "Epoch 00065: val_loss did not improve from 0.49276\n",
            "\n",
            "Epoch 00066: val_loss did not improve from 0.49276\n",
            "\n",
            "Epoch 00067: val_loss did not improve from 0.49276\n",
            "\n",
            "Epoch 00068: val_loss improved from 0.49276 to 0.48827, saving model to california_house2.h5\n",
            "\n",
            "Epoch 00069: val_loss did not improve from 0.48827\n",
            "\n",
            "Epoch 00070: val_loss did not improve from 0.48827\n",
            "\n",
            "Epoch 00071: val_loss did not improve from 0.48827\n",
            "\n",
            "Epoch 00072: val_loss did not improve from 0.48827\n",
            "\n",
            "Epoch 00073: val_loss did not improve from 0.48827\n",
            "\n",
            "Epoch 00074: val_loss did not improve from 0.48827\n",
            "\n",
            "Epoch 00075: val_loss did not improve from 0.48827\n",
            "\n",
            "Epoch 00076: val_loss did not improve from 0.48827\n",
            "\n",
            "Epoch 00077: val_loss did not improve from 0.48827\n",
            "\n",
            "Epoch 00078: val_loss did not improve from 0.48827\n",
            "\n",
            "Epoch 00079: val_loss did not improve from 0.48827\n",
            "\n",
            "Epoch 00080: val_loss did not improve from 0.48827\n",
            "\n",
            "Epoch 00081: val_loss did not improve from 0.48827\n",
            "\n",
            "Epoch 00082: val_loss did not improve from 0.48827\n",
            "\n",
            "Epoch 00083: val_loss did not improve from 0.48827\n",
            "\n",
            "Epoch 00084: val_loss did not improve from 0.48827\n",
            "\n",
            "Epoch 00085: val_loss did not improve from 0.48827\n",
            "\n",
            "Epoch 00086: val_loss did not improve from 0.48827\n",
            "\n",
            "Epoch 00087: val_loss did not improve from 0.48827\n",
            "\n",
            "Epoch 00088: val_loss did not improve from 0.48827\n",
            "\n",
            "Epoch 00089: val_loss did not improve from 0.48827\n",
            "\n",
            "Epoch 00090: val_loss did not improve from 0.48827\n",
            "\n",
            "Epoch 00091: val_loss did not improve from 0.48827\n",
            "\n",
            "Epoch 00092: val_loss did not improve from 0.48827\n",
            "\n",
            "Epoch 00093: val_loss did not improve from 0.48827\n",
            "\n",
            "Epoch 00094: val_loss did not improve from 0.48827\n",
            "\n",
            "Epoch 00095: val_loss did not improve from 0.48827\n",
            "\n",
            "Epoch 00096: val_loss did not improve from 0.48827\n",
            "\n",
            "Epoch 00097: val_loss did not improve from 0.48827\n",
            "\n",
            "Epoch 00098: val_loss did not improve from 0.48827\n",
            "\n",
            "Epoch 00099: val_loss did not improve from 0.48827\n",
            "\n",
            "Epoch 00100: val_loss did not improve from 0.48827\n",
            "\n",
            "Epoch 00101: val_loss did not improve from 0.48827\n",
            "\n",
            "Epoch 00102: val_loss did not improve from 0.48827\n",
            "\n",
            "Epoch 00103: val_loss did not improve from 0.48827\n",
            "\n",
            "Epoch 00104: val_loss did not improve from 0.48827\n",
            "\n",
            "Epoch 00105: val_loss did not improve from 0.48827\n",
            "\n",
            "Epoch 00106: val_loss did not improve from 0.48827\n",
            "\n",
            "Epoch 00107: val_loss did not improve from 0.48827\n",
            "\n",
            "Epoch 00108: val_loss did not improve from 0.48827\n"
          ]
        }
      ]
    },
    {
      "cell_type": "code",
      "source": [
        "y_loss = hist2.history['loss'][2:]\n",
        "y_vloss = hist2.history['val_loss'][2:]\n",
        "xs = np.arange(3, len(y_loss)+3)"
      ],
      "metadata": {
        "id": "bSKiAKQVYr2f"
      },
      "execution_count": null,
      "outputs": []
    },
    {
      "cell_type": "code",
      "source": [
        "import matplotlib.pyplot as plt\n",
        "\n",
        "plt.figure(figsize = (12, 8))\n",
        "plt.plot(xs, y_loss, label = 'train loss')\n",
        "plt.plot(xs, y_vloss, label = 'validation loss')\n",
        "plt.grid()\n",
        "plt.legend()\n",
        "plt.xlabel('Epoch')\n",
        "plt.show()"
      ],
      "metadata": {
        "colab": {
          "base_uri": "https://localhost:8080/",
          "height": 497
        },
        "id": "XnNdSPK8Zyct",
        "outputId": "7f3e50dd-8554-4be3-d14a-e26d6a2b98ac"
      },
      "execution_count": null,
      "outputs": [
        {
          "output_type": "display_data",
          "data": {
            "image/png": "[encoded data removed]",
            "text/plain": [
              "<Figure size 864x576 with 1 Axes>"
            ]
          },
          "metadata": {
            "needs_background": "light"
          }
        }
      ]
    },
    {
      "cell_type": "code",
      "source": [
        ""
      ],
      "metadata": {
        "id": "WlmWSB62Z2j0"
      },
      "execution_count": null,
      "outputs": []
    }
  ]
}