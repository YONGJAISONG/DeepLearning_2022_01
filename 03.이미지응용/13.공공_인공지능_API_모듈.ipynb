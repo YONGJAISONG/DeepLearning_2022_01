{
 "cells": [
  {
   "cell_type": "markdown",
   "metadata": {},
   "source": [
    "# 공공 인공지능 API\n",
    "- my_util 라이브러리 이용"
   ]
  },
  {
   "cell_type": "code",
   "execution_count": 1,
   "metadata": {},
   "outputs": [],
   "source": [
    "from glob import glob\n",
    "import matplotlib as mpl\n",
    "import matplotlib.pyplot as plt\n",
    "mpl.rcParams['axes.unicode_minus'] = False\n",
    "plt.rcParams['font.family'] = 'Malgun Gothic'"
   ]
  },
  {
   "cell_type": "code",
   "execution_count": 2,
   "metadata": {},
   "outputs": [],
   "source": [
    "from PIL import Image\n",
    "from my_util import detect_image"
   ]
  },
  {
   "cell_type": "code",
   "execution_count": 3,
   "metadata": {},
   "outputs": [],
   "source": [
    "SUCCESS, FAILURE = 0, -1\n",
    "DIRECTORY_NAME = '검출된객체/'"
   ]
  },
  {
   "cell_type": "code",
   "execution_count": 8,
   "metadata": {},
   "outputs": [],
   "source": [
    "# 2번 돌릴때까지는 됐는데 갑자기 안되는...?\n",
    "\n",
    "for file in glob('사진/*'):\n",
    "    return_file = DIRECTORY_NAME+file.split('\\\\')[-1]   # '사진'을 제거하고 DIRECTORY_NAME에 붙이겠다\n",
    "    if detect_image(file, return_file) == SUCCESS:\n",
    "        img = Image.open(return_file)\n",
    "        plt.figure(figsize = (12, 8))\n",
    "        plt.imshow(img)\n",
    "        plt.axis('off'), plt.title(return_file.split('\\\\')[-1]) # '검출된객체'를 제거하고 사진 파일 이름만 넣겠다(ex) cag.jfif)\n",
    "        plt.show()\n"
   ]
  },
  {
   "cell_type": "code",
   "execution_count": null,
   "metadata": {},
   "outputs": [],
   "source": []
  }
 ],
 "metadata": {
  "interpreter": {
   "hash": "b3ba2566441a7c06988d0923437866b63cedc61552a5af99d1f4fb67d367b25f"
  },
  "kernelspec": {
   "display_name": "Python 3.8.8 64-bit ('base': conda)",
   "language": "python",
   "name": "python3"
  },
  "language_info": {
   "codemirror_mode": {
    "name": "ipython",
    "version": 3
   },
   "file_extension": ".py",
   "mimetype": "text/x-python",
   "name": "python",
   "nbconvert_exporter": "python",
   "pygments_lexer": "ipython3",
   "version": "3.8.8"
  },
  "orig_nbformat": 4
 },
 "nbformat": 4,
 "nbformat_minor": 2
}
