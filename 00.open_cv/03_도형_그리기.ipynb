{
  "cells": [
    {
      "cell_type": "markdown",
      "metadata": {
        "id": "Nk2THUfPB1sf"
      },
      "source": [
        "# 도형 그리기\n",
        "\n",
        "- 다양한 도형을 그릴 수 있음\n",
        "\n",
        "- 도형을 그리는 좌표가 해당 범위를 넘어가면 이미지에 표현되지 않음"
      ]
    },
    {
      "cell_type": "code",
      "execution_count": 2,
      "metadata": {
        "id": "zPdGQcK0B4zn"
      },
      "outputs": [],
      "source": [
        "import numpy as np\n",
        "import cv2\n",
        "from google.colab.patches import cv2_imshow"
      ]
    },
    {
      "cell_type": "code",
      "source": [
        "img = np.zeros((300, 300, 3), np.uint8)"
      ],
      "metadata": {
        "id": "l_UnurBtwrXK"
      },
      "execution_count": 7,
      "outputs": []
    },
    {
      "cell_type": "markdown",
      "metadata": {
        "id": "Xh4a-VW0d6Nl"
      },
      "source": [
        "## Line 그리기\n",
        "\n",
        "- `cv.line()`\n",
        "\n",
        "  - `Parameters`  \t\n",
        "    - `img` : 그림을 그릴 이미지 파일\n",
        "\n",
        "    - `start` : 시작 좌표\n",
        "\n",
        "    - `end` : 종료 좌표\n",
        "\n",
        "    - `color` : BGR형태의 Color (ex; (255, 0, 0) -> Blue)\n",
        "\n",
        "    - `thickness` (int) : 선의 두께. pixel"
      ]
    },
    {
      "cell_type": "code",
      "execution_count": 13,
      "metadata": {
        "id": "uzpxRk8mB4rX",
        "colab": {
          "base_uri": "https://localhost:8080/",
          "height": 317
        },
        "outputId": "2ae21d2a-622f-4f39-ae23-74637ca8b5ff"
      },
      "outputs": [
        {
          "output_type": "display_data",
          "data": {
            "image/png": "[encoded data removed]",
            "text/plain": [
              "<PIL.Image.Image image mode=RGB size=300x300 at 0x7F3A54A985D0>"
            ]
          },
          "metadata": {}
        }
      ],
      "source": [
        "img = cv2.line(img, (0, 0), (299, 299), (255, 0, 0), 5)\n",
        "cv2_imshow(img)"
      ]
    },
    {
      "cell_type": "markdown",
      "metadata": {
        "id": "snshjtKyewv_"
      },
      "source": [
        "## rectangle 그리기\n",
        "\n",
        "- `cv2.rectangle()`\n",
        "\n",
        "  - `Parameters`  \t\n",
        "    - `img` : 그림을 그릴 이미지\n",
        "\n",
        "    - `start` : 시작 좌표\n",
        "\n",
        "    - `end` : 종료 좌표\n",
        "\n",
        "    - `color` : BGR형태의 Color(ex; (255, 0, 0) -> Blue)\n",
        "\n",
        "    - `thickness` (int) : 선의 두께. pixel"
      ]
    },
    {
      "cell_type": "code",
      "execution_count": 17,
      "metadata": {
        "id": "xX4frwUaB4mT",
        "colab": {
          "base_uri": "https://localhost:8080/",
          "height": 317
        },
        "outputId": "c77b836f-648c-4860-f806-1210b8229740"
      },
      "outputs": [
        {
          "output_type": "display_data",
          "data": {
            "image/png": "[encoded data removed]",
            "text/plain": [
              "<PIL.Image.Image image mode=RGB size=300x300 at 0x7F3A54A85A90>"
            ]
          },
          "metadata": {}
        }
      ],
      "source": [
        "img = cv2.rectangle(img, (200, 1), (299, 100), (0, 255, 0), 3)\n",
        "cv2_imshow(img)"
      ]
    },
    {
      "cell_type": "markdown",
      "metadata": {
        "id": "diPG4lX5fU5L"
      },
      "source": [
        "## Circle 그리기\n",
        "\n",
        "- `cv2.circle()`\n",
        "\n",
        "  - `Parameters`  \t\n",
        "    - `img` : 그림을 그릴 이미지\n",
        "\n",
        "    - `center` : 원의 중심 좌표(x, y)\n",
        "\n",
        "    - `radian` : 반지름\n",
        "\n",
        "    - `color` : BGR형태의 Color\n",
        "\n",
        "    - `thickness` : 선의 두께, -1 이면 원 안쪽을 채움"
      ]
    },
    {
      "cell_type": "code",
      "execution_count": 20,
      "metadata": {
        "id": "yJTnfQ4uB4b7",
        "colab": {
          "base_uri": "https://localhost:8080/",
          "height": 317
        },
        "outputId": "d9195727-4396-4b48-d54f-aec7e1e1b166"
      },
      "outputs": [
        {
          "output_type": "display_data",
          "data": {
            "image/png": "[encoded data removed]",
            "text/plain": [
              "<PIL.Image.Image image mode=RGB size=300x300 at 0x7F3A549B10D0>"
            ]
          },
          "metadata": {}
        }
      ],
      "source": [
        "img = cv2.circle(img, (250, 50), 50, (0, 0, 255), -1)\n",
        "img = cv2.circle(img, (50,250), 50, (0, 255, 255), 2)\n",
        "cv2_imshow(img)"
      ]
    },
    {
      "cell_type": "markdown",
      "metadata": {
        "id": "vTHGNEO5gJF5"
      },
      "source": [
        "## ellipse(타원) 그리기\n",
        "\n",
        "- `cv2.ellipse()`\n",
        "\n",
        "  - `Parameters`  \n",
        "    \n",
        "    - `img` : image\n",
        "\n",
        "    - `center` : 타원의 중심\n",
        "\n",
        "    - `axes` : 중심에서 가장 큰 거리와 작은 거리\n",
        "\n",
        "    - `angle` : 타원의 기울기 각\n",
        "\n",
        "    - `startAngle` : 타원의 시작 각도\n",
        "\n",
        "    - `endAngle` : 타원이 끝나는 각도\n",
        "\n",
        "    - `color` : 타원의 색\n",
        "\n",
        "    - `thickness` : 선 두께. -1이면 안쪽을 채움\n"
      ]
    },
    {
      "cell_type": "code",
      "execution_count": 23,
      "metadata": {
        "id": "u3r6peDkB4Nj",
        "colab": {
          "base_uri": "https://localhost:8080/",
          "height": 317
        },
        "outputId": "166ea25d-f060-4809-9953-31ad38927f55"
      },
      "outputs": [
        {
          "output_type": "display_data",
          "data": {
            "image/png": "[encoded data removed]",
            "text/plain": [
              "<PIL.Image.Image image mode=RGB size=300x300 at 0x7F3A549C1D50>"
            ]
          },
          "metadata": {}
        }
      ],
      "source": [
        "img = cv2.ellipse(img, (150, 150), (100, 30), 0, 0, 180, (0, 255, 0), -1)\n",
        "img = cv2.ellipse(img, (150, 150), (100, 30), 45, 0, 360, (255, 255, 255), 2)\n",
        "cv2_imshow(img)"
      ]
    },
    {
      "cell_type": "markdown",
      "metadata": {
        "id": "G9Jg4X8Tiqup"
      },
      "source": [
        "## Polygon 그리기\n",
        "\n",
        "- `cv2.polylines()`\n",
        "  \n",
        "  - `Parameters`\t\n",
        "    \n",
        "    - `img` : image\n",
        "\n",
        "    - `pts` (array) : 연결할 꼭지점 좌표\n",
        "\n",
        "    - `isClosed` : 닫힌 도형 여부\n",
        "\n",
        "    - `color` : Color\n",
        "\n",
        "    - `thickness` : 선 두께\n",
        "\n",
        "- 이미지에 표현하기 위해 점 좌표를 3차원 행렬로 변환. \n",
        "  - 변환이전과 이후의 행렬 갯수는 동일해야함.\n",
        "\n",
        "  -  -1은 원본에 해당하는 값을 그대로 유지."
      ]
    },
    {
      "cell_type": "code",
      "execution_count": 28,
      "metadata": {
        "id": "Gp5uWvgUB4BF",
        "colab": {
          "base_uri": "https://localhost:8080/",
          "height": 317
        },
        "outputId": "bab347e9-680c-4e60-8412-b1a62f00990e"
      },
      "outputs": [
        {
          "output_type": "display_data",
          "data": {
            "image/png": "[encoded data removed]",
            "text/plain": [
              "<PIL.Image.Image image mode=RGB size=300x300 at 0x7F3A50445510>"
            ]
          },
          "metadata": {}
        }
      ],
      "source": [
        "img = cv2.polylines(img, np.array([[(100, 100), (200, 100), (200, 200), (100, 200)]], np.int32), True, (0, 255, 255), 3)\n",
        "cv2_imshow(img)"
      ]
    },
    {
      "cell_type": "markdown",
      "metadata": {
        "id": "uuUb2DKGlNF7"
      },
      "source": [
        "## Text 추가하기\n",
        "\n",
        "- `cv2.putText()`\n",
        "\n",
        "  - `Parameters` \t\n",
        "    - `img` : image\n",
        "\n",
        "    - `text` : 표시할 문자열\n",
        "\n",
        "    - `org` : 문자열이 표시될 위치. 문자열의 **bottom-left corner 점**\n",
        "\n",
        "    - `font` : font type. CV2.FONT_XXX\n",
        "\n",
        "    - `fontSacle` : Font Size\n",
        "\n",
        "    - `color` : font color"
      ]
    },
    {
      "cell_type": "code",
      "execution_count": 30,
      "metadata": {
        "id": "CDSwmjMikhzQ",
        "colab": {
          "base_uri": "https://localhost:8080/",
          "height": 317
        },
        "outputId": "b20d15d5-84e2-4306-9dc3-79209fe20006"
      },
      "outputs": [
        {
          "output_type": "display_data",
          "data": {
            "image/png": "[encoded data removed]",
            "text/plain": [
              "<PIL.Image.Image image mode=RGB size=300x300 at 0x7F3A50464390>"
            ]
          },
          "metadata": {}
        }
      ],
      "source": [
        "img = cv2.putText(img, 'OpenCV', (10, 200), cv2.FONT_HERSHEY_SIMPLEX, 2, (255, 255, 255), 2)\n",
        "cv2_imshow(img)"
      ]
    },
    {
      "cell_type": "code",
      "source": [
        ""
      ],
      "metadata": {
        "id": "xU23TM7p2aNf"
      },
      "execution_count": null,
      "outputs": []
    }
  ],
  "metadata": {
    "colab": {
      "collapsed_sections": [],
      "name": "03_도형_그리기.ipynb",
      "provenance": []
    },
    "kernelspec": {
      "display_name": "Python 3",
      "name": "python3"
    }
  },
  "nbformat": 4,
  "nbformat_minor": 0
}