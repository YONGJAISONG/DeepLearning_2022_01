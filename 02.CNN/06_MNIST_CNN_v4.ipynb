{
  "nbformat": 4,
  "nbformat_minor": 0,
  "metadata": {
    "colab": {
      "name": "06.MNIST-CNN-v4.ipynb",
      "provenance": [],
      "collapsed_sections": []
    },
    "kernelspec": {
      "name": "python3",
      "display_name": "Python 3"
    },
    "language_info": {
      "name": "python"
    },
    "accelerator": "GPU"
  },
  "cells": [
    {
      "cell_type": "markdown",
      "source": [
        "# MNIST 손글씨 - CNN v3\n",
        "- 2 Conv2D layers  ==> 2 Conv2D with padding layers\n",
        "- 1 MaxPooling2D layer\n",
        "- 1 Dropout(0.25) layer\n",
        "- 1 Fully Connected Network layer\n",
        "- 1 Dropout(0.5) layer\n",
        "- 1 Output layer"
      ],
      "metadata": {
        "id": "Zd3o8zdwoQp0"
      }
    },
    {
      "cell_type": "code",
      "execution_count": null,
      "metadata": {
        "id": "Is5AfobUM2uv"
      },
      "outputs": [],
      "source": [
        "import numpy as np\n",
        "import tensorflow as tf\n",
        "seed = 2022\n",
        "np.random.seed(seed)\n",
        "tf.random.set_seed(seed)"
      ]
    },
    {
      "cell_type": "markdown",
      "source": [
        "* 데이터 전처리"
      ],
      "metadata": {
        "id": "5yKOJFIKowBN"
      }
    },
    {
      "cell_type": "code",
      "source": [
        "from tensorflow.keras.datasets import mnist\n",
        "(X_train, y_train), (X_test, y_test) = mnist.load_data()"
      ],
      "metadata": {
        "colab": {
          "base_uri": "https://localhost:8080/"
        },
        "id": "Jhcw0rpToyPe",
        "outputId": "e2f9a3ba-f397-4f47-9515-160c6347a641"
      },
      "execution_count": null,
      "outputs": [
        {
          "output_type": "stream",
          "name": "stdout",
          "text": [
            "Downloading data from https://storage.googleapis.com/tensorflow/tf-keras-datasets/mnist.npz\n",
            "11493376/11490434 [==============================] - 0s 0us/step\n",
            "11501568/11490434 [==============================] - 0s 0us/step\n"
          ]
        }
      ]
    },
    {
      "cell_type": "code",
      "source": [
        "# X data : 0~1 사이의 값, 3차원 --> 4차원   # Conv2D의 경우 3차원의 데이터를 받는다(즉, X데이터는 4차원이어야함)(60000, 28, 28, 1)\n",
        "X_train = X_train.reshape(-1, 28, 28, 1) / 255\n",
        "X_test = X_test.reshape(-1, 28, 28, 1) / 255"
      ],
      "metadata": {
        "id": "az3OTn1lo9os"
      },
      "execution_count": null,
      "outputs": []
    },
    {
      "cell_type": "code",
      "source": [
        "# One-hot encoding\n",
        "from tensorflow.keras.utils import to_categorical\n",
        "Y_train = to_categorical(y_train)\n",
        "Y_test = to_categorical(y_test)"
      ],
      "metadata": {
        "id": "37m92E56p6-b"
      },
      "execution_count": null,
      "outputs": []
    },
    {
      "cell_type": "markdown",
      "source": [
        "* 모델 정의, 설정, 학습, 평가"
      ],
      "metadata": {
        "id": "yKikvK7pqFoO"
      }
    },
    {
      "cell_type": "code",
      "source": [
        "from tensorflow.keras.models import Sequential, load_model\n",
        "from tensorflow.keras.layers import Dense, Conv2D, Flatten, MaxPooling2D\n",
        "from tensorflow.keras.layers import Dropout\n",
        "from tensorflow.keras.callbacks import ModelCheckpoint, EarlyStopping"
      ],
      "metadata": {
        "id": "jMEEPvVPqMZf"
      },
      "execution_count": null,
      "outputs": []
    },
    {
      "cell_type": "code",
      "source": [
        "model = Sequential([\n",
        "                    Conv2D(32, kernel_size=(3, 3), padding = 'same', input_shape = (28, 28, 1), activation = 'relu'),\n",
        "                    Conv2D(64, (3, 3), padding = 'same', activation = 'relu'), # default로 filter 다음에 kernel_size가 오므로 저렇게 써도 된다\n",
        "                    MaxPooling2D(),         # MaxPooling2D(pool_size=(2, 2))\n",
        "                    Dropout(0.25),\n",
        "                    Flatten(),\n",
        "                    Dense(512, activation = 'relu'),\n",
        "                    Dropout(0.5),\n",
        "                    Dense(10, activation = 'softmax')\n",
        "])\n",
        "model.summary()\n",
        "\n",
        "# pedding이 없으므로 28*28이 26*26으로 줄고, 24*24로 줄은 것을 확인할 수 있다"
      ],
      "metadata": {
        "colab": {
          "base_uri": "https://localhost:8080/"
        },
        "id": "dbrxddCmqfIm",
        "outputId": "c75eb65b-0f8c-42eb-b87a-8b87a4cb2c5b"
      },
      "execution_count": null,
      "outputs": [
        {
          "output_type": "stream",
          "name": "stdout",
          "text": [
            "Model: \"sequential\"\n",
            "_________________________________________________________________\n",
            " Layer (type)                Output Shape              Param #   \n",
            "=================================================================\n",
            " conv2d (Conv2D)             (None, 28, 28, 32)        320       \n",
            "                                                                 \n",
            " conv2d_1 (Conv2D)           (None, 28, 28, 64)        18496     \n",
            "                                                                 \n",
            " max_pooling2d (MaxPooling2D  (None, 14, 14, 64)       0         \n",
            " )                                                               \n",
            "                                                                 \n",
            " dropout (Dropout)           (None, 14, 14, 64)        0         \n",
            "                                                                 \n",
            " flatten (Flatten)           (None, 12544)             0         \n",
            "                                                                 \n",
            " dense (Dense)               (None, 512)               6423040   \n",
            "                                                                 \n",
            " dropout_1 (Dropout)         (None, 512)               0         \n",
            "                                                                 \n",
            " dense_1 (Dense)             (None, 10)                5130      \n",
            "                                                                 \n",
            "=================================================================\n",
            "Total params: 6,446,986\n",
            "Trainable params: 6,446,986\n",
            "Non-trainable params: 0\n",
            "_________________________________________________________________\n"
          ]
        }
      ]
    },
    {
      "cell_type": "code",
      "source": [
        "# 파라미터의 경우 첫 Conv2D의 경우 26*26이 32개가 만들어 진다\n",
        "# (3*3)*32 + 32(bias)\n",
        "# 그 다음의 경우 26*26이 32개가 만들어진 것이 다시 64개가 만들어 진다(24*24로 축소)"
      ],
      "metadata": {
        "id": "nbuTV-vA0czO"
      },
      "execution_count": null,
      "outputs": []
    },
    {
      "cell_type": "code",
      "source": [
        "model.compile(optimizer='adam', loss='categorical_crossentropy', metrics = ['accuracy'])"
      ],
      "metadata": {
        "id": "nhtfLwt1riR5"
      },
      "execution_count": null,
      "outputs": []
    },
    {
      "cell_type": "code",
      "source": [
        "model_path = 'best-mnist-cnn-v4.h5'\n",
        "checkpoint = ModelCheckpoint(model_path, save_best_only=True, verbose=1)\n",
        "early_stop = EarlyStopping(patience=10)"
      ],
      "metadata": {
        "id": "P4GRwUlwsy8l"
      },
      "execution_count": null,
      "outputs": []
    },
    {
      "cell_type": "code",
      "source": [
        "hist = model.fit(\n",
        "    X_train, Y_train, validation_split = 0.2, epochs = 100, batch_size = 200,\n",
        "    callbacks = [checkpoint, early_stop], verbose = 0\n",
        ")"
      ],
      "metadata": {
        "colab": {
          "base_uri": "https://localhost:8080/"
        },
        "id": "een8BPbQtJSm",
        "outputId": "41922e02-251f-4e48-8fa5-56b71b6ab180"
      },
      "execution_count": null,
      "outputs": [
        {
          "output_type": "stream",
          "name": "stdout",
          "text": [
            "\n",
            "Epoch 00001: val_loss improved from inf to 0.05653, saving model to best-mnist-cnn-v4.h5\n",
            "\n",
            "Epoch 00002: val_loss improved from 0.05653 to 0.04670, saving model to best-mnist-cnn-v4.h5\n",
            "\n",
            "Epoch 00003: val_loss improved from 0.04670 to 0.04106, saving model to best-mnist-cnn-v4.h5\n",
            "\n",
            "Epoch 00004: val_loss improved from 0.04106 to 0.03609, saving model to best-mnist-cnn-v4.h5\n",
            "\n",
            "Epoch 00005: val_loss did not improve from 0.03609\n",
            "\n",
            "Epoch 00006: val_loss improved from 0.03609 to 0.03547, saving model to best-mnist-cnn-v4.h5\n",
            "\n",
            "Epoch 00007: val_loss did not improve from 0.03547\n",
            "\n",
            "Epoch 00008: val_loss did not improve from 0.03547\n",
            "\n",
            "Epoch 00009: val_loss improved from 0.03547 to 0.03525, saving model to best-mnist-cnn-v4.h5\n",
            "\n",
            "Epoch 00010: val_loss did not improve from 0.03525\n",
            "\n",
            "Epoch 00011: val_loss improved from 0.03525 to 0.03414, saving model to best-mnist-cnn-v4.h5\n",
            "\n",
            "Epoch 00012: val_loss did not improve from 0.03414\n",
            "\n",
            "Epoch 00013: val_loss did not improve from 0.03414\n",
            "\n",
            "Epoch 00014: val_loss improved from 0.03414 to 0.03214, saving model to best-mnist-cnn-v4.h5\n",
            "\n",
            "Epoch 00015: val_loss did not improve from 0.03214\n",
            "\n",
            "Epoch 00016: val_loss did not improve from 0.03214\n",
            "\n",
            "Epoch 00017: val_loss did not improve from 0.03214\n",
            "\n",
            "Epoch 00018: val_loss did not improve from 0.03214\n",
            "\n",
            "Epoch 00019: val_loss did not improve from 0.03214\n",
            "\n",
            "Epoch 00020: val_loss did not improve from 0.03214\n",
            "\n",
            "Epoch 00021: val_loss did not improve from 0.03214\n",
            "\n",
            "Epoch 00022: val_loss did not improve from 0.03214\n",
            "\n",
            "Epoch 00023: val_loss did not improve from 0.03214\n",
            "\n",
            "Epoch 00024: val_loss did not improve from 0.03214\n"
          ]
        }
      ]
    },
    {
      "cell_type": "code",
      "source": [
        "best_model = load_model(model_path)\n",
        "best_model.evaluate(X_test, Y_test)"
      ],
      "metadata": {
        "colab": {
          "base_uri": "https://localhost:8080/"
        },
        "id": "gvwa_gartnpP",
        "outputId": "f5ee473c-8db7-45ad-99b2-81f1347774d4"
      },
      "execution_count": null,
      "outputs": [
        {
          "output_type": "stream",
          "name": "stdout",
          "text": [
            "313/313 [==============================] - 1s 3ms/step - loss: 0.0280 - accuracy: 0.9924\n"
          ]
        },
        {
          "output_type": "execute_result",
          "data": {
            "text/plain": [
              "[0.027981938794255257, 0.9923999905586243]"
            ]
          },
          "metadata": {},
          "execution_count": 11
        }
      ]
    }
  ]
}