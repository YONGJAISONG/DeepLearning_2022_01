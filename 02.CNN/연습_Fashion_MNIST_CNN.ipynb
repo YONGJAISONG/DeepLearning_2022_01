{
  "nbformat": 4,
  "nbformat_minor": 0,
  "metadata": {
    "colab": {
      "name": "연습_Fashion-MNIST-CNN.ipynb",
      "provenance": []
    },
    "kernelspec": {
      "name": "python3",
      "display_name": "Python 3"
    },
    "language_info": {
      "name": "python"
    },
    "accelerator": "GPU"
  },
  "cells": [
    {
      "cell_type": "markdown",
      "source": [
        "# Fashion MNIST - CNN\n",
        "* 32 Conv2D layer\n",
        "* 64 Conv2D layer\n",
        "* MaxPooling layer\n",
        "* Dropout(0.25)\n",
        "* Flatten\n",
        "* Fully Connected Network(512) layer\n",
        "* Dropout(0.5)\n",
        "* Output layer"
      ],
      "metadata": {
        "id": "uNYLHXpoU80v"
      }
    },
    {
      "cell_type": "markdown",
      "source": [
        "### 1. 필요한 모듈 불러오기 및 데이터 로딩/확인"
      ],
      "metadata": {
        "id": "ZO_31ii-VPKf"
      }
    },
    {
      "cell_type": "code",
      "execution_count": null,
      "metadata": {
        "id": "mQLpyKXrU61C"
      },
      "outputs": [],
      "source": [
        "import numpy as np\n",
        "import matplotlib.pyplot as plt\n",
        "import tensorflow as tf\n",
        "\n",
        "seed = 2022\n",
        "np.random.seed(seed)\n",
        "tf.random.set_seed(seed)"
      ]
    },
    {
      "cell_type": "code",
      "source": [
        "from tensorflow.keras.datasets import fashion_mnist\n",
        "(X_train, y_train), (X_test, y_test) = fashion_mnist.load_data()"
      ],
      "metadata": {
        "colab": {
          "base_uri": "https://localhost:8080/"
        },
        "id": "S4LoVGUSVLJ9",
        "outputId": "0d17e82a-7b9d-44b7-8284-8edbe6f97b7e"
      },
      "execution_count": null,
      "outputs": [
        {
          "output_type": "stream",
          "name": "stdout",
          "text": [
            "Downloading data from https://storage.googleapis.com/tensorflow/tf-keras-datasets/train-labels-idx1-ubyte.gz\n",
            "32768/29515 [=================================] - 0s 0us/step\n",
            "40960/29515 [=========================================] - 0s 0us/step\n",
            "Downloading data from https://storage.googleapis.com/tensorflow/tf-keras-datasets/train-images-idx3-ubyte.gz\n",
            "26427392/26421880 [==============================] - 0s 0us/step\n",
            "26435584/26421880 [==============================] - 0s 0us/step\n",
            "Downloading data from https://storage.googleapis.com/tensorflow/tf-keras-datasets/t10k-labels-idx1-ubyte.gz\n",
            "16384/5148 [===============================================================================================] - 0s 0us/step\n",
            "Downloading data from https://storage.googleapis.com/tensorflow/tf-keras-datasets/t10k-images-idx3-ubyte.gz\n",
            "4423680/4422102 [==============================] - 0s 0us/step\n",
            "4431872/4422102 [==============================] - 0s 0us/step\n"
          ]
        }
      ]
    },
    {
      "cell_type": "code",
      "source": [
        "X_train.shape, X_test.shape, y_train.shape, y_test.shape"
      ],
      "metadata": {
        "colab": {
          "base_uri": "https://localhost:8080/"
        },
        "id": "28U8SEgKXAK1",
        "outputId": "5606f51b-4f87-4070-cbd1-1a12bdf088dc"
      },
      "execution_count": null,
      "outputs": [
        {
          "output_type": "execute_result",
          "data": {
            "text/plain": [
              "((60000, 28, 28), (10000, 28, 28), (60000,), (10000,))"
            ]
          },
          "metadata": {},
          "execution_count": 3
        }
      ]
    },
    {
      "cell_type": "code",
      "source": [
        "plt.imshow(X_train[0], cmap='Greys');"
      ],
      "metadata": {
        "colab": {
          "base_uri": "https://localhost:8080/",
          "height": 265
        },
        "id": "n4JD5Z7vY1xc",
        "outputId": "881e20aa-ed1a-4f67-b9b3-f2c5502598d4"
      },
      "execution_count": null,
      "outputs": [
        {
          "output_type": "display_data",
          "data": {
            "image/png": "[encoded data removed]",
            "text/plain": [
              "<Figure size 432x288 with 1 Axes>"
            ]
          },
          "metadata": {
            "needs_background": "light"
          }
        }
      ]
    },
    {
      "cell_type": "code",
      "source": [
        "class_names = ['T-shirt/top', 'Trouser', 'Pullover', 'Dress', 'Coat',\n",
        "               'Sandal', 'Shirt', 'Sneaker', 'Bag', 'Ankle boot']\n",
        "class_names[y_train[0]]"
      ],
      "metadata": {
        "id": "DTjs9vylWROD",
        "colab": {
          "base_uri": "https://localhost:8080/",
          "height": 36
        },
        "outputId": "389a44ca-8ce3-4d82-f4c0-467fdebac3b2"
      },
      "execution_count": null,
      "outputs": [
        {
          "output_type": "execute_result",
          "data": {
            "application/vnd.google.colaboratory.intrinsic+json": {
              "type": "string"
            },
            "text/plain": [
              "'Ankle boot'"
            ]
          },
          "metadata": {},
          "execution_count": 5
        }
      ]
    },
    {
      "cell_type": "code",
      "source": [
        "plt.figure(figsize = (15, 6))\n",
        "for i in range(10):\n",
        "    plt.subplot(2, 5, i+1) \n",
        "    plt.imshow(X_train[i], cmap='Greys')\n",
        "    plt.title(class_names[y_train[i]])\n",
        "    plt.xticks([])\n",
        "    plt.yticks([])\n",
        "plt.show()"
      ],
      "metadata": {
        "id": "_5gybxUNXOay",
        "colab": {
          "base_uri": "https://localhost:8080/",
          "height": 373
        },
        "outputId": "3bef0ac1-2e93-472f-ef3d-b2c6d87460d0"
      },
      "execution_count": null,
      "outputs": [
        {
          "output_type": "display_data",
          "data": {
            "image/png": "[encoded data removed]",
            "text/plain": [
              "<Figure size 1080x432 with 10 Axes>"
            ]
          },
          "metadata": {}
        }
      ]
    },
    {
      "cell_type": "markdown",
      "source": [
        "### 2. 데이터 전처리"
      ],
      "metadata": {
        "id": "yDculF2ub956"
      }
    },
    {
      "cell_type": "code",
      "source": [
        "# X data : 데이터 정규화, 3차원을 4차원으로 변경(2차원 이미지 데이터를 3차원 이미지 데이터로 변경)\n",
        "\n",
        "X_train = X_train.reshape(-1, 28, 28, 1) / 255\n",
        "X_test = X_test.reshape(-1, 28, 28, 1) / 255"
      ],
      "metadata": {
        "id": "Yix6pjvGZtA7"
      },
      "execution_count": null,
      "outputs": []
    },
    {
      "cell_type": "code",
      "source": [
        "# Y data : One-Hot-encoding\n",
        "\n",
        "from tensorflow.keras.utils import to_categorical\n",
        "\n",
        "Y_train = to_categorical(y_train)\n",
        "Y_test = to_categorical(y_test)"
      ],
      "metadata": {
        "id": "3tA21GLRcWEc"
      },
      "execution_count": null,
      "outputs": []
    },
    {
      "cell_type": "markdown",
      "source": [
        "### 3. 모델 정의, 설정, 학습, 평가"
      ],
      "metadata": {
        "id": "SxyH1rDccq7K"
      }
    },
    {
      "cell_type": "code",
      "source": [
        "from tensorflow.keras.models import Sequential, load_model\n",
        "from tensorflow.keras.layers import Dense, Conv2D, MaxPool2D, Dropout, Flatten\n",
        "from tensorflow.keras.callbacks import ModelCheckpoint, EarlyStopping"
      ],
      "metadata": {
        "id": "GrtRlaMrcp3P"
      },
      "execution_count": null,
      "outputs": []
    },
    {
      "cell_type": "code",
      "source": [
        "model = Sequential([\n",
        "                    Conv2D(32, (3, 3), input_shape = (28, 28, 1), activation = 'relu'),\n",
        "                    Conv2D(64, (3, 3), activation='relu'),\n",
        "                    MaxPool2D(),\n",
        "                    Dropout(0.25),\n",
        "                    Flatten(),\n",
        "                    Dense(512, activation = 'relu'),\n",
        "                    Dropout(0.5),\n",
        "                    Dense(64, activation = 'relu'),\n",
        "                    Dropout(0.33),\n",
        "                    Dense(10, activation = 'softmax')\n",
        "])\n",
        "model.summary()"
      ],
      "metadata": {
        "colab": {
          "base_uri": "https://localhost:8080/"
        },
        "id": "cYTbcpgOdoXV",
        "outputId": "5d08695d-5d7f-45ee-ec62-9aa1b31503a7"
      },
      "execution_count": null,
      "outputs": [
        {
          "output_type": "stream",
          "name": "stdout",
          "text": [
            "Model: \"sequential_5\"\n",
            "_________________________________________________________________\n",
            " Layer (type)                Output Shape              Param #   \n",
            "=================================================================\n",
            " conv2d_12 (Conv2D)          (None, 26, 26, 32)        320       \n",
            "                                                                 \n",
            " conv2d_13 (Conv2D)          (None, 24, 24, 64)        18496     \n",
            "                                                                 \n",
            " max_pooling2d_6 (MaxPooling  (None, 12, 12, 64)       0         \n",
            " 2D)                                                             \n",
            "                                                                 \n",
            " dropout_22 (Dropout)        (None, 12, 12, 64)        0         \n",
            "                                                                 \n",
            " flatten_6 (Flatten)         (None, 9216)              0         \n",
            "                                                                 \n",
            " dense_21 (Dense)            (None, 512)               4719104   \n",
            "                                                                 \n",
            " dropout_23 (Dropout)        (None, 512)               0         \n",
            "                                                                 \n",
            " dense_22 (Dense)            (None, 64)                32832     \n",
            "                                                                 \n",
            " dropout_24 (Dropout)        (None, 64)                0         \n",
            "                                                                 \n",
            " dense_23 (Dense)            (None, 10)                650       \n",
            "                                                                 \n",
            "=================================================================\n",
            "Total params: 4,771,402\n",
            "Trainable params: 4,771,402\n",
            "Non-trainable params: 0\n",
            "_________________________________________________________________\n"
          ]
        }
      ]
    },
    {
      "cell_type": "code",
      "source": [
        "model.compile(optimizer='adam', loss = 'categorical_crossentropy', metrics=['accuracy'])"
      ],
      "metadata": {
        "id": "Pm-aRvj4e24s"
      },
      "execution_count": null,
      "outputs": []
    },
    {
      "cell_type": "code",
      "source": [
        "model_path = 'best-fashion-mnist.h5'\n",
        "checkpoint = ModelCheckpoint(model_path, save_best_only=True, verbose = 1)\n",
        "early_stop = EarlyStopping(patience = 10)"
      ],
      "metadata": {
        "id": "6pG8xtMhfmW6"
      },
      "execution_count": null,
      "outputs": []
    },
    {
      "cell_type": "code",
      "source": [
        "hist = model.fit(X_train, Y_train, batch_size = 200, epochs = 100, \n",
        "                 verbose = 0, validation_split = 0.2, callbacks = [checkpoint, early_stop])"
      ],
      "metadata": {
        "colab": {
          "base_uri": "https://localhost:8080/"
        },
        "id": "CrfgxgnCfU8G",
        "outputId": "4f92d979-64e3-42a3-e05e-2537be095023"
      },
      "execution_count": null,
      "outputs": [
        {
          "output_type": "stream",
          "name": "stdout",
          "text": [
            "\n",
            "Epoch 00001: val_loss improved from inf to 0.35000, saving model to best-fashion-mnist.h5\n",
            "\n",
            "Epoch 00002: val_loss improved from 0.35000 to 0.28797, saving model to best-fashion-mnist.h5\n",
            "\n",
            "Epoch 00003: val_loss improved from 0.28797 to 0.24289, saving model to best-fashion-mnist.h5\n",
            "\n",
            "Epoch 00004: val_loss improved from 0.24289 to 0.23265, saving model to best-fashion-mnist.h5\n",
            "\n",
            "Epoch 00005: val_loss improved from 0.23265 to 0.22679, saving model to best-fashion-mnist.h5\n",
            "\n",
            "Epoch 00006: val_loss improved from 0.22679 to 0.21660, saving model to best-fashion-mnist.h5\n",
            "\n",
            "Epoch 00007: val_loss improved from 0.21660 to 0.20680, saving model to best-fashion-mnist.h5\n",
            "\n",
            "Epoch 00008: val_loss did not improve from 0.20680\n",
            "\n",
            "Epoch 00009: val_loss improved from 0.20680 to 0.19618, saving model to best-fashion-mnist.h5\n",
            "\n",
            "Epoch 00010: val_loss did not improve from 0.19618\n",
            "\n",
            "Epoch 00011: val_loss did not improve from 0.19618\n",
            "\n",
            "Epoch 00012: val_loss did not improve from 0.19618\n",
            "\n",
            "Epoch 00013: val_loss did not improve from 0.19618\n",
            "\n",
            "Epoch 00014: val_loss did not improve from 0.19618\n",
            "\n",
            "Epoch 00015: val_loss did not improve from 0.19618\n",
            "\n",
            "Epoch 00016: val_loss did not improve from 0.19618\n",
            "\n",
            "Epoch 00017: val_loss did not improve from 0.19618\n",
            "\n",
            "Epoch 00018: val_loss did not improve from 0.19618\n",
            "\n",
            "Epoch 00019: val_loss did not improve from 0.19618\n"
          ]
        }
      ]
    },
    {
      "cell_type": "code",
      "source": [
        "best_model = load_model(model_path)\n",
        "result = best_model.evaluate(X_test, Y_test, verbose= 0)\n",
        "f_mnist_acc = round(result[0], 4)\n",
        "f_mnist_vloss = round(result[1], 4)\n",
        "\n",
        "print(f_mnist_acc, f_mnist_vloss)"
      ],
      "metadata": {
        "colab": {
          "base_uri": "https://localhost:8080/"
        },
        "id": "CWLGxAe_f6U4",
        "outputId": "96669c18-891d-4aee-9d56-29a79e0f3b9f"
      },
      "execution_count": null,
      "outputs": [
        {
          "output_type": "stream",
          "name": "stdout",
          "text": [
            "0.2213 0.9211\n"
          ]
        }
      ]
    },
    {
      "cell_type": "markdown",
      "source": [
        "### 4. 시각화"
      ],
      "metadata": {
        "id": "tvTaAJNVgb9J"
      }
    },
    {
      "cell_type": "code",
      "source": [
        "y_acc = hist.history['accuracy']\n",
        "y_vloss = hist.history['val_loss']\n",
        "xs = np.arange(1, len(y_acc)+1)"
      ],
      "metadata": {
        "id": "Nc-l3lengJpf"
      },
      "execution_count": null,
      "outputs": []
    },
    {
      "cell_type": "code",
      "source": [
        "plt.figure(figsize = (12, 8))\n",
        "plt.plot(xs, y_acc, 'o-', ms = 3, label = 'train accuracy')\n",
        "plt.plot(xs, y_vloss, 'o-', ms = 3, label = 'validation loss')\n",
        "plt.legend()\n",
        "plt.grid()\n",
        "plt.xlabel('Epoch')\n",
        "plt.show()"
      ],
      "metadata": {
        "colab": {
          "base_uri": "https://localhost:8080/",
          "height": 497
        },
        "id": "nT8fdGn-gpES",
        "outputId": "caa3cf5e-cf62-4e8a-fd74-b4eebddccb9e"
      },
      "execution_count": null,
      "outputs": [
        {
          "output_type": "display_data",
          "data": {
            "image/png": "[encoded data removed]",
            "text/plain": [
              "<Figure size 864x576 with 1 Axes>"
            ]
          },
          "metadata": {
            "needs_background": "light"
          }
        }
      ]
    },
    {
      "cell_type": "markdown",
      "source": [
        "### 5. 다른 모델 학습"
      ],
      "metadata": {
        "id": "c4EoxF7tmYoQ"
      }
    },
    {
      "cell_type": "code",
      "source": [
        "model2 = Sequential([\n",
        "                    Conv2D(32, (3, 3), input_shape = (28, 28, 1), activation = 'relu'),\n",
        "                    Conv2D(64, (3, 3), activation='relu'),\n",
        "                    MaxPool2D(),\n",
        "                    Dropout(0.25),\n",
        "                    Flatten(),\n",
        "                    Dense(512, activation = 'relu'),\n",
        "                    Dropout(0.5),\n",
        "                    Dense(256, activation = 'relu'),\n",
        "                    Dropout(0.33),\n",
        "                    Dense(128, activation = 'relu'),\n",
        "                    Dropout(0.33),\n",
        "                    Dense(64, activation = 'relu'),\n",
        "                    Dropout(0.33),\n",
        "                    Dense(10, activation = 'softmax')\n",
        "])\n",
        "model2.summary()"
      ],
      "metadata": {
        "colab": {
          "base_uri": "https://localhost:8080/"
        },
        "id": "keySWdc8g9pZ",
        "outputId": "6b186bcb-29c0-4d9a-ee6b-7704de5ef095"
      },
      "execution_count": null,
      "outputs": [
        {
          "output_type": "stream",
          "name": "stdout",
          "text": [
            "Model: \"sequential_6\"\n",
            "_________________________________________________________________\n",
            " Layer (type)                Output Shape              Param #   \n",
            "=================================================================\n",
            " conv2d_14 (Conv2D)          (None, 26, 26, 32)        320       \n",
            "                                                                 \n",
            " conv2d_15 (Conv2D)          (None, 24, 24, 64)        18496     \n",
            "                                                                 \n",
            " max_pooling2d_7 (MaxPooling  (None, 12, 12, 64)       0         \n",
            " 2D)                                                             \n",
            "                                                                 \n",
            " dropout_25 (Dropout)        (None, 12, 12, 64)        0         \n",
            "                                                                 \n",
            " flatten_7 (Flatten)         (None, 9216)              0         \n",
            "                                                                 \n",
            " dense_24 (Dense)            (None, 512)               4719104   \n",
            "                                                                 \n",
            " dropout_26 (Dropout)        (None, 512)               0         \n",
            "                                                                 \n",
            " dense_25 (Dense)            (None, 256)               131328    \n",
            "                                                                 \n",
            " dropout_27 (Dropout)        (None, 256)               0         \n",
            "                                                                 \n",
            " dense_26 (Dense)            (None, 128)               32896     \n",
            "                                                                 \n",
            " dropout_28 (Dropout)        (None, 128)               0         \n",
            "                                                                 \n",
            " dense_27 (Dense)            (None, 64)                8256      \n",
            "                                                                 \n",
            " dropout_29 (Dropout)        (None, 64)                0         \n",
            "                                                                 \n",
            " dense_28 (Dense)            (None, 10)                650       \n",
            "                                                                 \n",
            "=================================================================\n",
            "Total params: 4,911,050\n",
            "Trainable params: 4,911,050\n",
            "Non-trainable params: 0\n",
            "_________________________________________________________________\n"
          ]
        }
      ]
    },
    {
      "cell_type": "code",
      "source": [
        "model_path = 'best-fashion-mnist2.h5'\n",
        "checkpoint = ModelCheckpoint(model_path, save_best_only=True, verbose = 1)\n",
        "early_stop = EarlyStopping(patience = 10)"
      ],
      "metadata": {
        "id": "Z8K00G-imyTf"
      },
      "execution_count": null,
      "outputs": []
    },
    {
      "cell_type": "code",
      "source": [
        "model2.compile(optimizer='adam', loss = 'categorical_crossentropy', metrics=['accuracy'])"
      ],
      "metadata": {
        "id": "NHHSFtynnHX4"
      },
      "execution_count": null,
      "outputs": []
    },
    {
      "cell_type": "code",
      "source": [
        "hist2 = model2.fit(X_train, Y_train, batch_size = 200, epochs = 100, \n",
        "                 verbose = 0, validation_split = 0.2, callbacks = [checkpoint, early_stop])"
      ],
      "metadata": {
        "colab": {
          "base_uri": "https://localhost:8080/"
        },
        "id": "pfaH7WFZm-ei",
        "outputId": "a62a36ac-dffd-4300-a5f6-07a5b6e98c46"
      },
      "execution_count": null,
      "outputs": [
        {
          "output_type": "stream",
          "name": "stdout",
          "text": [
            "\n",
            "Epoch 00001: val_loss improved from inf to 0.40284, saving model to best-fashion-mnist2.h5\n",
            "\n",
            "Epoch 00002: val_loss improved from 0.40284 to 0.30751, saving model to best-fashion-mnist2.h5\n",
            "\n",
            "Epoch 00003: val_loss improved from 0.30751 to 0.27442, saving model to best-fashion-mnist2.h5\n",
            "\n",
            "Epoch 00004: val_loss improved from 0.27442 to 0.24206, saving model to best-fashion-mnist2.h5\n",
            "\n",
            "Epoch 00005: val_loss improved from 0.24206 to 0.23545, saving model to best-fashion-mnist2.h5\n",
            "\n",
            "Epoch 00006: val_loss improved from 0.23545 to 0.22938, saving model to best-fashion-mnist2.h5\n",
            "\n",
            "Epoch 00007: val_loss improved from 0.22938 to 0.21569, saving model to best-fashion-mnist2.h5\n",
            "\n",
            "Epoch 00008: val_loss improved from 0.21569 to 0.21522, saving model to best-fashion-mnist2.h5\n",
            "\n",
            "Epoch 00009: val_loss improved from 0.21522 to 0.21470, saving model to best-fashion-mnist2.h5\n",
            "\n",
            "Epoch 00010: val_loss did not improve from 0.21470\n",
            "\n",
            "Epoch 00011: val_loss improved from 0.21470 to 0.21127, saving model to best-fashion-mnist2.h5\n",
            "\n",
            "Epoch 00012: val_loss did not improve from 0.21127\n",
            "\n",
            "Epoch 00013: val_loss did not improve from 0.21127\n",
            "\n",
            "Epoch 00014: val_loss did not improve from 0.21127\n",
            "\n",
            "Epoch 00015: val_loss did not improve from 0.21127\n",
            "\n",
            "Epoch 00016: val_loss did not improve from 0.21127\n",
            "\n",
            "Epoch 00017: val_loss did not improve from 0.21127\n",
            "\n",
            "Epoch 00018: val_loss did not improve from 0.21127\n",
            "\n",
            "Epoch 00019: val_loss did not improve from 0.21127\n",
            "\n",
            "Epoch 00020: val_loss did not improve from 0.21127\n",
            "\n",
            "Epoch 00021: val_loss did not improve from 0.21127\n"
          ]
        }
      ]
    },
    {
      "cell_type": "code",
      "source": [
        "best_model = load_model(model_path)\n",
        "result2 = best_model.evaluate(X_test, Y_test, verbose = 0)\n",
        "f_mnist_acc2 = round(result2[0], 4)\n",
        "f_mnist_vloss2 = round(result2[1], 4)\n",
        "\n",
        "print(f_mnist_acc2, f_mnist_vloss2)"
      ],
      "metadata": {
        "colab": {
          "base_uri": "https://localhost:8080/"
        },
        "id": "D2u4MqrVnB7Q",
        "outputId": "bded0932-3222-4bd0-da2d-864125653a61"
      },
      "execution_count": null,
      "outputs": [
        {
          "output_type": "stream",
          "name": "stdout",
          "text": [
            "0.2348 0.923\n"
          ]
        }
      ]
    },
    {
      "cell_type": "code",
      "source": [
        ""
      ],
      "metadata": {
        "id": "s7yfg8SXnNix"
      },
      "execution_count": null,
      "outputs": []
    }
  ]
}