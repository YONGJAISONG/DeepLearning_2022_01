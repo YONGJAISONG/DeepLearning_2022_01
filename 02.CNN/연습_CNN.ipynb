{
  "nbformat": 4,
  "nbformat_minor": 0,
  "metadata": {
    "colab": {
      "name": "연습_CNN.ipynb",
      "provenance": []
    },
    "kernelspec": {
      "name": "python3",
      "display_name": "Python 3"
    },
    "language_info": {
      "name": "python"
    },
    "accelerator": "GPU"
  },
  "cells": [
    {
      "cell_type": "markdown",
      "source": [
        "# MNIST 손글씨 분류 - CNN\n",
        "* 2 Conv2D layers\n",
        "* 1 Fully Connected Network layer\n",
        "* 1 Output layer"
      ],
      "metadata": {
        "id": "Y1zqoipxe0QQ"
      }
    },
    {
      "cell_type": "markdown",
      "source": [
        "### 1. 필요한 모듈 불러오기 및 데이터 로딩"
      ],
      "metadata": {
        "id": "s1WWbTSHf4QG"
      }
    },
    {
      "cell_type": "code",
      "execution_count": null,
      "metadata": {
        "id": "tyZbS1PBevQo"
      },
      "outputs": [],
      "source": [
        "import numpy as np\n",
        "import tensorflow as tf\n",
        "\n",
        "seed = 2022\n",
        "np.random.seed(seed)\n",
        "tf.random.set_seed(seed)"
      ]
    },
    {
      "cell_type": "code",
      "source": [
        "from tensorflow.keras.datasets import mnist\n",
        "(X_train, y_train), (X_test, y_test) = mnist.load_data()"
      ],
      "metadata": {
        "colab": {
          "base_uri": "https://localhost:8080/"
        },
        "id": "445PvzzjfPUd",
        "outputId": "8356b042-21c4-4123-af4d-7392ef307d0a"
      },
      "execution_count": null,
      "outputs": [
        {
          "output_type": "stream",
          "name": "stdout",
          "text": [
            "Downloading data from https://storage.googleapis.com/tensorflow/tf-keras-datasets/mnist.npz\n",
            "11493376/11490434 [==============================] - 0s 0us/step\n",
            "11501568/11490434 [==============================] - 0s 0us/step\n"
          ]
        }
      ]
    },
    {
      "cell_type": "markdown",
      "source": [
        "### 2. 데이터 전처리"
      ],
      "metadata": {
        "id": "B57hKhV1f7CP"
      }
    },
    {
      "cell_type": "markdown",
      "source": [
        "#### X data : 0 ~ 1의 값으로 정규화, 3차원 데이터를 4차원 화((28*28)의 2차원 데이터를 3차원 데이터화)"
      ],
      "metadata": {
        "id": "nBdmB736gG7G"
      }
    },
    {
      "cell_type": "code",
      "source": [
        "X_train = X_train.reshape(-1, 28, 28, 1) / 255\n",
        "X_test = X_test.reshape(-1, 28, 28, 1) / 255"
      ],
      "metadata": {
        "id": "f3jSBvf-fgqy"
      },
      "execution_count": null,
      "outputs": []
    },
    {
      "cell_type": "markdown",
      "source": [
        "#### y data : One-hot-encoding"
      ],
      "metadata": {
        "id": "P_VnSQN_gz5Q"
      }
    },
    {
      "cell_type": "code",
      "source": [
        "from tensorflow.keras.utils import to_categorical\n",
        "\n",
        "Y_train = to_categorical(y_train)\n",
        "Y_test = to_categorical(y_test)"
      ],
      "metadata": {
        "id": "9AOVv5fhg4-z"
      },
      "execution_count": null,
      "outputs": []
    },
    {
      "cell_type": "markdown",
      "source": [
        "### 3. 모델 정의/설정/학습/평가"
      ],
      "metadata": {
        "id": "c8Fkj1W8hTop"
      }
    },
    {
      "cell_type": "code",
      "source": [
        "from tensorflow.keras.models import Sequential, load_model\n",
        "from tensorflow.keras.layers import Dense, Conv2D, Flatten\n",
        "from tensorflow.keras.callbacks import ModelCheckpoint, EarlyStopping"
      ],
      "metadata": {
        "id": "gfzJM0MPhX7R"
      },
      "execution_count": null,
      "outputs": []
    },
    {
      "cell_type": "code",
      "source": [
        "model = Sequential([\n",
        "                    Conv2D(32, kernel_size=(3, 3), input_shape = (28, 28, 1), activation = 'relu'),\n",
        "                    Conv2D(64, kernel_size=(3, 3), activation='relu'),\n",
        "                    Flatten(),\n",
        "                    Dense(512, activation = 'relu'),\n",
        "                    Dense(10, activation = 'softmax')\n",
        "])\n",
        "model.summary()"
      ],
      "metadata": {
        "colab": {
          "base_uri": "https://localhost:8080/"
        },
        "id": "WdSwBetrhmBU",
        "outputId": "4189e25a-db6d-4e7e-f3ba-1cb64802433a"
      },
      "execution_count": null,
      "outputs": [
        {
          "output_type": "stream",
          "name": "stdout",
          "text": [
            "Model: \"sequential\"\n",
            "_________________________________________________________________\n",
            " Layer (type)                Output Shape              Param #   \n",
            "=================================================================\n",
            " conv2d (Conv2D)             (None, 26, 26, 32)        320       \n",
            "                                                                 \n",
            " conv2d_1 (Conv2D)           (None, 24, 24, 64)        18496     \n",
            "                                                                 \n",
            " flatten (Flatten)           (None, 36864)             0         \n",
            "                                                                 \n",
            " dense (Dense)               (None, 512)               18874880  \n",
            "                                                                 \n",
            " dense_1 (Dense)             (None, 10)                5130      \n",
            "                                                                 \n",
            "=================================================================\n",
            "Total params: 18,898,826\n",
            "Trainable params: 18,898,826\n",
            "Non-trainable params: 0\n",
            "_________________________________________________________________\n"
          ]
        }
      ]
    },
    {
      "cell_type": "code",
      "source": [
        "model.compile(optimizer = 'adam', loss = 'categorical_crossentropy', metrics = ['accuracy'])"
      ],
      "metadata": {
        "id": "buJlHJ3DiPtb"
      },
      "execution_count": null,
      "outputs": []
    },
    {
      "cell_type": "code",
      "source": [
        "model_path = 'best-mnist-cnn-v1.h5'\n",
        "checkpoint = ModelCheckpoint(model_path, save_best_only=True, verbose = 1)\n",
        "early_stop = EarlyStopping(patience = 10)"
      ],
      "metadata": {
        "id": "6OOWHIESic4m"
      },
      "execution_count": null,
      "outputs": []
    },
    {
      "cell_type": "code",
      "source": [
        "hist = model.fit(\n",
        "    X_train, Y_train, validation_split = 0.2, epochs = 100, batch_size = 200,\n",
        "    verbose = 0, callbacks = [checkpoint, early_stop]\n",
        ")"
      ],
      "metadata": {
        "colab": {
          "base_uri": "https://localhost:8080/"
        },
        "id": "0RLcihWmi9t8",
        "outputId": "9ed21e41-856a-4b9d-cc65-c111dfc1d64e"
      },
      "execution_count": null,
      "outputs": [
        {
          "output_type": "stream",
          "name": "stdout",
          "text": [
            "\n",
            "Epoch 00001: val_loss improved from inf to 0.05619, saving model to best-mnist-cnn-v1.h5\n",
            "\n",
            "Epoch 00002: val_loss improved from 0.05619 to 0.05417, saving model to best-mnist-cnn-v1.h5\n",
            "\n",
            "Epoch 00003: val_loss improved from 0.05417 to 0.04717, saving model to best-mnist-cnn-v1.h5\n",
            "\n",
            "Epoch 00004: val_loss did not improve from 0.04717\n",
            "\n",
            "Epoch 00005: val_loss did not improve from 0.04717\n",
            "\n",
            "Epoch 00006: val_loss did not improve from 0.04717\n",
            "\n",
            "Epoch 00007: val_loss did not improve from 0.04717\n",
            "\n",
            "Epoch 00008: val_loss did not improve from 0.04717\n",
            "\n",
            "Epoch 00009: val_loss did not improve from 0.04717\n",
            "\n",
            "Epoch 00010: val_loss did not improve from 0.04717\n",
            "\n",
            "Epoch 00011: val_loss did not improve from 0.04717\n",
            "\n",
            "Epoch 00012: val_loss did not improve from 0.04717\n",
            "\n",
            "Epoch 00013: val_loss did not improve from 0.04717\n"
          ]
        }
      ]
    },
    {
      "cell_type": "code",
      "source": [
        "best_model = load_model(model_path)\n",
        "best_model.evaluate(X_test, Y_test)"
      ],
      "metadata": {
        "colab": {
          "base_uri": "https://localhost:8080/"
        },
        "id": "GFWdUySTjRTf",
        "outputId": "fafd5e4a-3f04-4a2f-eab1-300f9fc6db1c"
      },
      "execution_count": null,
      "outputs": [
        {
          "output_type": "stream",
          "name": "stdout",
          "text": [
            "313/313 [==============================] - 1s 3ms/step - loss: 0.0407 - accuracy: 0.9879\n"
          ]
        },
        {
          "output_type": "execute_result",
          "data": {
            "text/plain": [
              "[0.040662750601768494, 0.9879000186920166]"
            ]
          },
          "metadata": {},
          "execution_count": 10
        }
      ]
    },
    {
      "cell_type": "code",
      "source": [
        ""
      ],
      "metadata": {
        "id": "A-2GHjM3Uwye"
      },
      "execution_count": null,
      "outputs": []
    }
  ]
}