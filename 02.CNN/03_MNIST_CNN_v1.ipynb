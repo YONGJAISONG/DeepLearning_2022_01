{
  "nbformat": 4,
  "nbformat_minor": 0,
  "metadata": {
    "colab": {
      "name": "03.MNIST-CNN-v1.ipynb",
      "provenance": [],
      "collapsed_sections": []
    },
    "kernelspec": {
      "name": "python3",
      "display_name": "Python 3"
    },
    "language_info": {
      "name": "python"
    },
    "accelerator": "GPU"
  },
  "cells": [
    {
      "cell_type": "markdown",
      "source": [
        "# MNIST 손글씨 - CNN v1\n",
        "- 2 Conv2D layers\n",
        "- 1 Fully Connected Network layer\n",
        "- 1 Output layer"
      ],
      "metadata": {
        "id": "Zd3o8zdwoQp0"
      }
    },
    {
      "cell_type": "code",
      "execution_count": 1,
      "metadata": {
        "id": "Is5AfobUM2uv"
      },
      "outputs": [],
      "source": [
        "import numpy as np\n",
        "import tensorflow as tf\n",
        "seed = 2022\n",
        "np.random.seed(seed)\n",
        "tf.random.set_seed(seed)"
      ]
    },
    {
      "cell_type": "markdown",
      "source": [
        "* 데이터 전처리"
      ],
      "metadata": {
        "id": "5yKOJFIKowBN"
      }
    },
    {
      "cell_type": "code",
      "source": [
        "from tensorflow.keras.datasets import mnist\n",
        "(X_train, y_train), (X_test, y_test) = mnist.load_data()"
      ],
      "metadata": {
        "colab": {
          "base_uri": "https://localhost:8080/"
        },
        "id": "Jhcw0rpToyPe",
        "outputId": "d7bd515c-95be-42b2-8d08-2b8352c1be33"
      },
      "execution_count": 2,
      "outputs": [
        {
          "output_type": "stream",
          "name": "stdout",
          "text": [
            "Downloading data from https://storage.googleapis.com/tensorflow/tf-keras-datasets/mnist.npz\n",
            "11493376/11490434 [==============================] - 0s 0us/step\n",
            "11501568/11490434 [==============================] - 0s 0us/step\n"
          ]
        }
      ]
    },
    {
      "cell_type": "code",
      "source": [
        "# X data : 0~1 사이의 값, 3차원 --> 4차원   # Conv2D의 경우 3차원의 데이터를 받는다(즉, X데이터는 4차원이어야함)(60000, 28, 28, 1)\n",
        "X_train = X_train.reshape(-1, 28, 28, 1) / 255\n",
        "X_test = X_test.reshape(-1, 28, 28, 1) / 255"
      ],
      "metadata": {
        "id": "az3OTn1lo9os"
      },
      "execution_count": 3,
      "outputs": []
    },
    {
      "cell_type": "code",
      "source": [
        "# One-hot encoding\n",
        "from tensorflow.keras.utils import to_categorical\n",
        "Y_train = to_categorical(y_train)\n",
        "Y_test = to_categorical(y_test)"
      ],
      "metadata": {
        "id": "37m92E56p6-b"
      },
      "execution_count": 4,
      "outputs": []
    },
    {
      "cell_type": "markdown",
      "source": [
        "* 모델 정의, 설정, 학습, 평가"
      ],
      "metadata": {
        "id": "yKikvK7pqFoO"
      }
    },
    {
      "cell_type": "code",
      "source": [
        "from tensorflow.keras.models import Sequential, load_model\n",
        "from tensorflow.keras.layers import Dense, Conv2D, Flatten\n",
        "from tensorflow.keras.callbacks import ModelCheckpoint, EarlyStopping"
      ],
      "metadata": {
        "id": "jMEEPvVPqMZf"
      },
      "execution_count": 5,
      "outputs": []
    },
    {
      "cell_type": "code",
      "source": [
        "model = Sequential([\n",
        "                    Conv2D(32, kernel_size=(3, 3), input_shape = (28, 28, 1), activation = 'relu'),\n",
        "                    Conv2D(64, (3, 3), activation = 'relu'), # default로 filter 다음에 kernel_size가 오므로 저렇게 써도 된다\n",
        "                    Flatten(),\n",
        "                    Dense(512, activation = 'relu'),\n",
        "                    Dense(10, activation = 'softmax')\n",
        "])\n",
        "model.summary()\n",
        "\n",
        "# pedding이 없으므로 28*28이 26*26으로 줄고, 24*24로 줄은 것을 확인할 수 있다"
      ],
      "metadata": {
        "colab": {
          "base_uri": "https://localhost:8080/"
        },
        "id": "dbrxddCmqfIm",
        "outputId": "78c75d41-8e34-4478-b5de-cb698e6d0982"
      },
      "execution_count": 6,
      "outputs": [
        {
          "output_type": "stream",
          "name": "stdout",
          "text": [
            "Model: \"sequential\"\n",
            "_________________________________________________________________\n",
            " Layer (type)                Output Shape              Param #   \n",
            "=================================================================\n",
            " conv2d (Conv2D)             (None, 26, 26, 32)        320       \n",
            "                                                                 \n",
            " conv2d_1 (Conv2D)           (None, 24, 24, 64)        18496     \n",
            "                                                                 \n",
            " flatten (Flatten)           (None, 36864)             0         \n",
            "                                                                 \n",
            " dense (Dense)               (None, 512)               18874880  \n",
            "                                                                 \n",
            " dense_1 (Dense)             (None, 10)                5130      \n",
            "                                                                 \n",
            "=================================================================\n",
            "Total params: 18,898,826\n",
            "Trainable params: 18,898,826\n",
            "Non-trainable params: 0\n",
            "_________________________________________________________________\n"
          ]
        }
      ]
    },
    {
      "cell_type": "code",
      "source": [
        "model.compile(optimizer='adam', loss='categorical_crossentropy', metrics = ['accuracy'])"
      ],
      "metadata": {
        "id": "nhtfLwt1riR5"
      },
      "execution_count": 7,
      "outputs": []
    },
    {
      "cell_type": "code",
      "source": [
        "model_path = 'best-mnist-cnn-v1.h5'\n",
        "checkpoint = ModelCheckpoint(model_path, save_best_only=True, verbose=1)\n",
        "early_stop = EarlyStopping(patience=10)"
      ],
      "metadata": {
        "id": "P4GRwUlwsy8l"
      },
      "execution_count": 8,
      "outputs": []
    },
    {
      "cell_type": "code",
      "source": [
        "hist = model.fit(\n",
        "    X_train, Y_train, validation_split = 0.2, epochs = 100, batch_size = 200,\n",
        "    callbacks = [checkpoint, early_stop], verbose = 0\n",
        ")"
      ],
      "metadata": {
        "colab": {
          "base_uri": "https://localhost:8080/"
        },
        "id": "een8BPbQtJSm",
        "outputId": "0ed4d107-73df-48be-f200-168ee0edbd78"
      },
      "execution_count": 9,
      "outputs": [
        {
          "output_type": "stream",
          "name": "stdout",
          "text": [
            "Epoch 1/100\n",
            "240/240 [==============================] - ETA: 0s - loss: 0.1520 - accuracy: 0.9534\n",
            "Epoch 00001: val_loss improved from inf to 0.05703, saving model to best-mnist-cnn-v1.h5\n",
            "240/240 [==============================] - 25s 51ms/step - loss: 0.1520 - accuracy: 0.9534 - val_loss: 0.0570 - val_accuracy: 0.9830\n",
            "Epoch 2/100\n",
            "239/240 [============================>.] - ETA: 0s - loss: 0.0353 - accuracy: 0.9893\n",
            "Epoch 00002: val_loss improved from 0.05703 to 0.05333, saving model to best-mnist-cnn-v1.h5\n",
            "240/240 [==============================] - 11s 47ms/step - loss: 0.0352 - accuracy: 0.9893 - val_loss: 0.0533 - val_accuracy: 0.9856\n",
            "Epoch 3/100\n",
            "240/240 [==============================] - ETA: 0s - loss: 0.0172 - accuracy: 0.9948\n",
            "Epoch 00003: val_loss improved from 0.05333 to 0.04869, saving model to best-mnist-cnn-v1.h5\n",
            "240/240 [==============================] - 12s 49ms/step - loss: 0.0172 - accuracy: 0.9948 - val_loss: 0.0487 - val_accuracy: 0.9870\n",
            "Epoch 4/100\n",
            "239/240 [============================>.] - ETA: 0s - loss: 0.0104 - accuracy: 0.9967\n",
            "Epoch 00004: val_loss did not improve from 0.04869\n",
            "240/240 [==============================] - 11s 45ms/step - loss: 0.0104 - accuracy: 0.9967 - val_loss: 0.0531 - val_accuracy: 0.9858\n",
            "Epoch 5/100\n",
            "239/240 [============================>.] - ETA: 0s - loss: 0.0076 - accuracy: 0.9974\n",
            "Epoch 00005: val_loss did not improve from 0.04869\n",
            "240/240 [==============================] - 11s 45ms/step - loss: 0.0075 - accuracy: 0.9974 - val_loss: 0.0567 - val_accuracy: 0.9868\n",
            "Epoch 6/100\n",
            "239/240 [============================>.] - ETA: 0s - loss: 0.0067 - accuracy: 0.9978\n",
            "Epoch 00006: val_loss did not improve from 0.04869\n",
            "240/240 [==============================] - 11s 45ms/step - loss: 0.0067 - accuracy: 0.9978 - val_loss: 0.0517 - val_accuracy: 0.9883\n",
            "Epoch 7/100\n",
            "239/240 [============================>.] - ETA: 0s - loss: 0.0036 - accuracy: 0.9988\n",
            "Epoch 00007: val_loss did not improve from 0.04869\n",
            "240/240 [==============================] - 11s 47ms/step - loss: 0.0036 - accuracy: 0.9989 - val_loss: 0.0572 - val_accuracy: 0.9868\n",
            "Epoch 8/100\n",
            "240/240 [==============================] - ETA: 0s - loss: 0.0053 - accuracy: 0.9981\n",
            "Epoch 00008: val_loss did not improve from 0.04869\n",
            "240/240 [==============================] - 11s 45ms/step - loss: 0.0053 - accuracy: 0.9981 - val_loss: 0.0633 - val_accuracy: 0.9865\n",
            "Epoch 9/100\n",
            "240/240 [==============================] - ETA: 0s - loss: 0.0036 - accuracy: 0.9986\n",
            "Epoch 00009: val_loss did not improve from 0.04869\n",
            "240/240 [==============================] - 11s 47ms/step - loss: 0.0036 - accuracy: 0.9986 - val_loss: 0.0525 - val_accuracy: 0.9887\n",
            "Epoch 10/100\n",
            "239/240 [============================>.] - ETA: 0s - loss: 0.0051 - accuracy: 0.9983\n",
            "Epoch 00010: val_loss did not improve from 0.04869\n",
            "240/240 [==============================] - 11s 47ms/step - loss: 0.0051 - accuracy: 0.9984 - val_loss: 0.0586 - val_accuracy: 0.9874\n",
            "Epoch 11/100\n",
            "240/240 [==============================] - ETA: 0s - loss: 0.0029 - accuracy: 0.9990\n",
            "Epoch 00011: val_loss did not improve from 0.04869\n",
            "240/240 [==============================] - 11s 47ms/step - loss: 0.0029 - accuracy: 0.9990 - val_loss: 0.0649 - val_accuracy: 0.9877\n",
            "Epoch 12/100\n",
            "239/240 [============================>.] - ETA: 0s - loss: 0.0055 - accuracy: 0.9981\n",
            "Epoch 00012: val_loss did not improve from 0.04869\n",
            "240/240 [==============================] - 11s 46ms/step - loss: 0.0055 - accuracy: 0.9981 - val_loss: 0.0591 - val_accuracy: 0.9884\n",
            "Epoch 13/100\n",
            "239/240 [============================>.] - ETA: 0s - loss: 0.0025 - accuracy: 0.9992\n",
            "Epoch 00013: val_loss did not improve from 0.04869\n",
            "240/240 [==============================] - 11s 47ms/step - loss: 0.0025 - accuracy: 0.9992 - val_loss: 0.0587 - val_accuracy: 0.9878\n"
          ]
        }
      ]
    },
    {
      "cell_type": "code",
      "source": [
        "best_model = load_model(model_path)\n",
        "best_model.evaluate(X_test, Y_test)"
      ],
      "metadata": {
        "colab": {
          "base_uri": "https://localhost:8080/"
        },
        "id": "gvwa_gartnpP",
        "outputId": "ed2b66b3-0cd7-4a8a-8cfc-c25b5144f0e6"
      },
      "execution_count": 10,
      "outputs": [
        {
          "output_type": "stream",
          "name": "stdout",
          "text": [
            "313/313 [==============================] - 2s 7ms/step - loss: 0.0431 - accuracy: 0.9876\n"
          ]
        },
        {
          "output_type": "execute_result",
          "data": {
            "text/plain": [
              "[0.043144140392541885, 0.9876000285148621]"
            ]
          },
          "metadata": {},
          "execution_count": 10
        }
      ]
    }
  ]
}